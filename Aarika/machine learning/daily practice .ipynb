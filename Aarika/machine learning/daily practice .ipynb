{
 "cells": [
  {
   "cell_type": "raw",
   "id": "407246ac",
   "metadata": {},
   "source": [
    "# looping"
   ]
  },
  {
   "cell_type": "code",
   "execution_count": 5,
   "id": "622a9676",
   "metadata": {},
   "outputs": [],
   "source": [
    "def vishw(n):\n",
    "    \n",
    "    for i in range (n):\n",
    "        for j in range (0 , i+1):\n",
    "            print(\"1 \" ,end ='  ')\n",
    "        print(\"\\r\")\n",
    "            \n",
    "                \n",
    "                \n",
    "                "
   ]
  },
  {
   "cell_type": "code",
   "execution_count": 6,
   "id": "8ba21d0b",
   "metadata": {},
   "outputs": [
    {
     "name": "stdout",
     "output_type": "stream",
     "text": [
      "1   \r\n",
      "1   1   \r\n",
      "1   1   1   \r\n",
      "1   1   1   1   \r\n",
      "1   1   1   1   1   \r\n"
     ]
    }
   ],
   "source": [
    "vishw(5)"
   ]
  },
  {
   "cell_type": "code",
   "execution_count": 7,
   "id": "786ed374",
   "metadata": {},
   "outputs": [
    {
     "name": "stdout",
     "output_type": "stream",
     "text": [
      "1   \r\n",
      "1   1   \r\n",
      "1   1   1   \r\n",
      "1   1   1   1   \r\n",
      "1   1   1   1   1   \r\n",
      "1   1   1   1   1   1   \r\n",
      "1   1   1   1   1   1   1   \r\n",
      "1   1   1   1   1   1   1   1   \r\n",
      "1   1   1   1   1   1   1   1   1   \r\n",
      "1   1   1   1   1   1   1   1   1   1   \r\n",
      "1   1   1   1   1   1   1   1   1   1   1   \r\n",
      "1   1   1   1   1   1   1   1   1   1   1   1   \r\n",
      "1   1   1   1   1   1   1   1   1   1   1   1   1   \r\n",
      "1   1   1   1   1   1   1   1   1   1   1   1   1   1   \r\n",
      "1   1   1   1   1   1   1   1   1   1   1   1   1   1   1   \r\n"
     ]
    }
   ],
   "source": [
    "vishw(15)"
   ]
  },
  {
   "cell_type": "code",
   "execution_count": null,
   "id": "de55423e",
   "metadata": {},
   "outputs": [],
   "source": []
  },
  {
   "cell_type": "markdown",
   "id": "48dca279",
   "metadata": {},
   "source": [
    "# string"
   ]
  },
  {
   "cell_type": "code",
   "execution_count": 8,
   "id": "6f780b2f",
   "metadata": {},
   "outputs": [
    {
     "name": "stdout",
     "output_type": "stream",
     "text": [
      "hello world\n",
      "<class 'str'>\n"
     ]
    }
   ],
   "source": [
    "x = 'hello world'\n",
    "print(x)\n",
    "print(type(x))"
   ]
  },
  {
   "cell_type": "code",
   "execution_count": 9,
   "id": "4408cb91",
   "metadata": {},
   "outputs": [
    {
     "name": "stdout",
     "output_type": "stream",
     "text": [
      "11\n"
     ]
    }
   ],
   "source": [
    "print(len(x))"
   ]
  },
  {
   "cell_type": "code",
   "execution_count": 12,
   "id": "162f236e",
   "metadata": {},
   "outputs": [
    {
     "name": "stdout",
     "output_type": "stream",
     "text": [
      "\n",
      "uhu\n",
      "ufhefi\n",
      "iffi\n",
      "saioJO\n",
      "\n",
      "<class 'str'>\n"
     ]
    }
   ],
   "source": [
    "X = \"\"\"\n",
    "uhu\n",
    "ufhefi\n",
    "iffi\n",
    "saioJO\n",
    "\"\"\"\n",
    "print(X)\n",
    "print(type(X))"
   ]
  },
  {
   "cell_type": "markdown",
   "id": "cccf2a85",
   "metadata": {},
   "source": [
    "### Access/index"
   ]
  },
  {
   "cell_type": "code",
   "execution_count": 20,
   "id": "d7509862",
   "metadata": {},
   "outputs": [
    {
     "name": "stdout",
     "output_type": "stream",
     "text": [
      "h\n",
      "e\n",
      "l\n",
      "d\n",
      "d\n",
      "w\n",
      "h\n"
     ]
    }
   ],
   "source": [
    "x = 'hello world'\n",
    "print(x[0])\n",
    "print(x[1])\n",
    "print(x[2])\n",
    "print(x[10])\n",
    "print(x[-1])\n",
    "print(x[-5])\n",
    "print(x[-11])"
   ]
  },
  {
   "cell_type": "code",
   "execution_count": 21,
   "id": "1169726d",
   "metadata": {},
   "outputs": [
    {
     "name": "stdout",
     "output_type": "stream",
     "text": [
      "ell\n"
     ]
    }
   ],
   "source": [
    "print(x[1:4])  # [start:end]"
   ]
  },
  {
   "cell_type": "code",
   "execution_count": 22,
   "id": "e9b487eb",
   "metadata": {},
   "outputs": [
    {
     "name": "stdout",
     "output_type": "stream",
     "text": [
      "hello \n"
     ]
    }
   ],
   "source": [
    "print(x[:6])"
   ]
  },
  {
   "cell_type": "code",
   "execution_count": 23,
   "id": "c45bc785",
   "metadata": {},
   "outputs": [
    {
     "name": "stdout",
     "output_type": "stream",
     "text": [
      " world\n"
     ]
    }
   ],
   "source": [
    "print(x[5:])"
   ]
  },
  {
   "cell_type": "code",
   "execution_count": 26,
   "id": "ff9ca515",
   "metadata": {},
   "outputs": [
    {
     "name": "stdout",
     "output_type": "stream",
     "text": [
      "world\n"
     ]
    }
   ],
   "source": [
    "print(x[-5:])"
   ]
  },
  {
   "cell_type": "code",
   "execution_count": 27,
   "id": "f4e2db05",
   "metadata": {},
   "outputs": [
    {
     "data": {
      "text/plain": [
       "'hello world'"
      ]
     },
     "execution_count": 27,
     "metadata": {},
     "output_type": "execute_result"
    }
   ],
   "source": [
    "x"
   ]
  },
  {
   "cell_type": "code",
   "execution_count": 28,
   "id": "d8281799",
   "metadata": {},
   "outputs": [
    {
     "name": "stdout",
     "output_type": "stream",
     "text": [
      "lo w\n"
     ]
    }
   ],
   "source": [
    "print(x[-8:-4])"
   ]
  },
  {
   "cell_type": "code",
   "execution_count": 29,
   "id": "2e330db4",
   "metadata": {},
   "outputs": [
    {
     "name": "stdout",
     "output_type": "stream",
     "text": [
      "hello world\n"
     ]
    }
   ],
   "source": [
    "print(x[:])"
   ]
  },
  {
   "cell_type": "code",
   "execution_count": 30,
   "id": "7119575c",
   "metadata": {},
   "outputs": [
    {
     "name": "stdout",
     "output_type": "stream",
     "text": [
      "hlowrd\n"
     ]
    }
   ],
   "source": [
    "print(x[::2])  # [start:end:step]"
   ]
  },
  {
   "cell_type": "code",
   "execution_count": 31,
   "id": "05c1d209",
   "metadata": {},
   "outputs": [
    {
     "name": "stdout",
     "output_type": "stream",
     "text": [
      "hlwl\n"
     ]
    }
   ],
   "source": [
    "print(x[::3])"
   ]
  },
  {
   "cell_type": "code",
   "execution_count": 32,
   "id": "e129cb92",
   "metadata": {},
   "outputs": [
    {
     "name": "stdout",
     "output_type": "stream",
     "text": [
      "dlrow olleh\n"
     ]
    }
   ],
   "source": [
    "print(x[::-1])"
   ]
  },
  {
   "cell_type": "code",
   "execution_count": 9,
   "id": "19b9daa0",
   "metadata": {},
   "outputs": [
    {
     "name": "stdout",
     "output_type": "stream",
     "text": [
      "tluser\n"
     ]
    }
   ],
   "source": [
    "x = 'Municipal Corp result: As the vote counting'\n",
    "# tluser\n",
    "y = x[-28:-22]\n",
    "print(y[::-1])"
   ]
  },
  {
   "cell_type": "code",
   "execution_count": 16,
   "id": "344a9366",
   "metadata": {},
   "outputs": [
    {
     "name": "stdout",
     "output_type": "stream",
     "text": [
      "result:\n"
     ]
    }
   ],
   "source": [
    "z= x.split()\n",
    "print(z[2])"
   ]
  },
  {
   "cell_type": "markdown",
   "id": "05c1bd93",
   "metadata": {},
   "source": [
    "# modify"
   ]
  },
  {
   "cell_type": "code",
   "execution_count": 50,
   "id": "94712dc2",
   "metadata": {},
   "outputs": [
    {
     "name": "stdout",
     "output_type": "stream",
     "text": [
      "HELLO WORLD\n"
     ]
    }
   ],
   "source": [
    "x = 'hello world'\n",
    "print(x.upper())"
   ]
  },
  {
   "cell_type": "code",
   "execution_count": 51,
   "id": "2dfd21a9",
   "metadata": {},
   "outputs": [
    {
     "name": "stdout",
     "output_type": "stream",
     "text": [
      "hello world\n"
     ]
    }
   ],
   "source": [
    "x = 'HELLO WORLD'\n",
    "print(x.lower())"
   ]
  },
  {
   "cell_type": "code",
   "execution_count": 54,
   "id": "1f1ebd64",
   "metadata": {},
   "outputs": [
    {
     "name": "stdout",
     "output_type": "stream",
     "text": [
      "               hello world             \n",
      "hello world\n",
      "hello world             \n",
      "               hello world\n"
     ]
    }
   ],
   "source": [
    "x = '               hello world             '\n",
    "print(x)\n",
    "print(x.strip())\n",
    "print(x.lstrip())\n",
    "print(x.rstrip())"
   ]
  },
  {
   "cell_type": "code",
   "execution_count": 55,
   "id": "0f0bd623",
   "metadata": {},
   "outputs": [
    {
     "name": "stdout",
     "output_type": "stream",
     "text": [
      "['hello', 'world']\n"
     ]
    }
   ],
   "source": [
    "x = 'hello world'\n",
    "print(x.split())"
   ]
  },
  {
   "cell_type": "code",
   "execution_count": 56,
   "id": "76be0cbd",
   "metadata": {},
   "outputs": [
    {
     "name": "stdout",
     "output_type": "stream",
     "text": [
      "['he', '', 'o wor', 'd']\n"
     ]
    }
   ],
   "source": [
    "print(x.split('l'))"
   ]
  },
  {
   "cell_type": "code",
   "execution_count": 59,
   "id": "da2196eb",
   "metadata": {},
   "outputs": [
    {
     "name": "stdout",
     "output_type": "stream",
     "text": [
      "                   hello world                    \n"
     ]
    }
   ],
   "source": [
    "x = 'hello world'\n",
    "print(x.center(50))"
   ]
  },
  {
   "cell_type": "code",
   "execution_count": 44,
   "id": "550ff62d",
   "metadata": {},
   "outputs": [
    {
     "name": "stdout",
     "output_type": "stream",
     "text": [
      "gugutuello\n"
     ]
    }
   ],
   "source": [
    "x = 'hello'\n",
    "print(x.replace('h','gugutu'))"
   ]
  },
  {
   "cell_type": "code",
   "execution_count": 51,
   "id": "b3a28f7c",
   "metadata": {},
   "outputs": [
    {
     "name": "stdout",
     "output_type": "stream",
     "text": [
      "2\n"
     ]
    }
   ],
   "source": [
    "x = 'hello'\n",
    "y = x.index('l')\n",
    "print(y)"
   ]
  },
  {
   "cell_type": "code",
   "execution_count": 52,
   "id": "f98cd60a",
   "metadata": {},
   "outputs": [
    {
     "name": "stdout",
     "output_type": "stream",
     "text": [
      "2\n"
     ]
    }
   ],
   "source": [
    "x = 'hello'\n",
    "y = x.count('l')\n",
    "print(y)"
   ]
  },
  {
   "cell_type": "markdown",
   "id": "8ad1bb73",
   "metadata": {},
   "source": [
    "### loop"
   ]
  },
  {
   "cell_type": "code",
   "execution_count": 1,
   "id": "ca873c04",
   "metadata": {},
   "outputs": [],
   "source": [
    "# loop : while, for"
   ]
  },
  {
   "cell_type": "code",
   "execution_count": 7,
   "id": "08b50d2a",
   "metadata": {},
   "outputs": [
    {
     "name": "stdout",
     "output_type": "stream",
     "text": [
      "h\n",
      "e\n",
      "l\n",
      "l\n",
      "o\n",
      " \n",
      "w\n",
      "o\n",
      "r\n",
      "l\n",
      "d\n"
     ]
    }
   ],
   "source": [
    "x = 'hello world'\n",
    "\n",
    "i= 0\n",
    "\n",
    "while i < len(x):  #  11 < 11\n",
    "    print(x[i])       #  10\n",
    "    i = i+1        #  10+1"
   ]
  },
  {
   "cell_type": "code",
   "execution_count": 9,
   "id": "c48b5641",
   "metadata": {},
   "outputs": [
    {
     "name": "stdout",
     "output_type": "stream",
     "text": [
      "H\n",
      "E\n",
      "L\n",
      "L\n",
      "O\n",
      " \n",
      "W\n",
      "O\n",
      "R\n",
      "L\n",
      "D\n"
     ]
    }
   ],
   "source": [
    "x= 'hello world'\n",
    "for i in x:\n",
    "    print(i.upper())"
   ]
  },
  {
   "cell_type": "code",
   "execution_count": 12,
   "id": "1db7400c",
   "metadata": {},
   "outputs": [
    {
     "name": "stdout",
     "output_type": "stream",
     "text": [
      "helloworld\n",
      "hello world\n",
      "hello world\n"
     ]
    }
   ],
   "source": [
    "x = 'hello'\n",
    "y = 'world'\n",
    "print(x+y)\n",
    "print(x+' '+y)\n",
    "print(x,y)"
   ]
  },
  {
   "cell_type": "code",
   "execution_count": 15,
   "id": "04dfdcb2",
   "metadata": {},
   "outputs": [
    {
     "data": {
      "text/plain": [
       "'hello'"
      ]
     },
     "execution_count": 15,
     "metadata": {},
     "output_type": "execute_result"
    }
   ],
   "source": [
    "x = 'hello'\n",
    "x"
   ]
  },
  {
   "cell_type": "markdown",
   "id": "9444d8d3",
   "metadata": {},
   "source": [
    "### escape"
   ]
  },
  {
   "cell_type": "code",
   "execution_count": 16,
   "id": "f85577d5",
   "metadata": {},
   "outputs": [],
   "source": [
    "# \\',\\\",\\\\,\\n,\\r,\\b,\\t"
   ]
  },
  {
   "cell_type": "code",
   "execution_count": 21,
   "id": "e590885f",
   "metadata": {},
   "outputs": [
    {
     "name": "stdout",
     "output_type": "stream",
     "text": [
      "it's\n"
     ]
    }
   ],
   "source": [
    "x = 'it\\'s'\n",
    "x\n",
    "print(x)"
   ]
  },
  {
   "cell_type": "code",
   "execution_count": 22,
   "id": "534bc6a2",
   "metadata": {},
   "outputs": [
    {
     "data": {
      "text/plain": [
       "\"it's\""
      ]
     },
     "execution_count": 22,
     "metadata": {},
     "output_type": "execute_result"
    }
   ],
   "source": [
    "x"
   ]
  },
  {
   "cell_type": "code",
   "execution_count": 25,
   "id": "59d3c0de",
   "metadata": {},
   "outputs": [
    {
     "name": "stdout",
     "output_type": "stream",
     "text": [
      "hello \"hi\" world\n"
     ]
    }
   ],
   "source": [
    "x = \"hello \\\"hi\\\" world\"\n",
    "print(x)"
   ]
  },
  {
   "cell_type": "code",
   "execution_count": 27,
   "id": "d9df556e",
   "metadata": {},
   "outputs": [
    {
     "name": "stdout",
     "output_type": "stream",
     "text": [
      "hello\\world\n"
     ]
    }
   ],
   "source": [
    "x = 'hello\\\\world'\n",
    "print(x)"
   ]
  },
  {
   "cell_type": "code",
   "execution_count": 28,
   "id": "87f8a413",
   "metadata": {},
   "outputs": [
    {
     "name": "stdout",
     "output_type": "stream",
     "text": [
      "hello\n",
      "world\n"
     ]
    }
   ],
   "source": [
    "x = 'hello\\nworld'\n",
    "print(x)"
   ]
  },
  {
   "cell_type": "code",
   "execution_count": 29,
   "id": "5894add3",
   "metadata": {},
   "outputs": [
    {
     "name": "stdout",
     "output_type": "stream",
     "text": [
      "hello\r",
      "world\n"
     ]
    }
   ],
   "source": [
    "x = 'hello\\rworld'\n",
    "print(x)"
   ]
  },
  {
   "cell_type": "code",
   "execution_count": 34,
   "id": "365308d0",
   "metadata": {},
   "outputs": [
    {
     "name": "stdout",
     "output_type": "stream",
     "text": [
      "hello\t\tworld\n"
     ]
    }
   ],
   "source": [
    "x = 'hello\\t\\tworld'\n",
    "print(x)"
   ]
  },
  {
   "cell_type": "code",
   "execution_count": 35,
   "id": "91e70a06",
   "metadata": {},
   "outputs": [
    {
     "name": "stdout",
     "output_type": "stream",
     "text": [
      "hello  \b\bworld\n"
     ]
    }
   ],
   "source": [
    "x ='hello  \\b\\bworld'\n",
    "print(x)"
   ]
  },
  {
   "cell_type": "markdown",
   "id": "a68f6553",
   "metadata": {},
   "source": [
    "### format"
   ]
  },
  {
   "cell_type": "code",
   "execution_count": 37,
   "id": "33206d10",
   "metadata": {},
   "outputs": [
    {
     "name": "stdout",
     "output_type": "stream",
     "text": [
      "jfijfjfiofjojffqwf\n"
     ]
    }
   ],
   "source": [
    "x = 'fqwf'\n",
    "a= 'jfijfjfiofjojf'+x\n",
    "print(a) "
   ]
  },
  {
   "cell_type": "code",
   "execution_count": 38,
   "id": "89aea572",
   "metadata": {},
   "outputs": [
    {
     "name": "stdout",
     "output_type": "stream",
     "text": [
      "fuhhg viiowej 100\n"
     ]
    }
   ],
   "source": [
    "x = 100\n",
    "a = 'fuhhg viiowej {}'\n",
    "print(a.format(x))"
   ]
  },
  {
   "cell_type": "code",
   "execution_count": 39,
   "id": "0df5daca",
   "metadata": {},
   "outputs": [
    {
     "name": "stdout",
     "output_type": "stream",
     "text": [
      "fhfhf 100 ojojgo 200 jojsadd 300\n"
     ]
    }
   ],
   "source": [
    "x = 100\n",
    "y = 200\n",
    "z = 300\n",
    "a = 'fhfhf {} ojojgo {} jojsadd {}'\n",
    "print(a.format(x,y,z))"
   ]
  },
  {
   "cell_type": "code",
   "execution_count": 40,
   "id": "0c83a92e",
   "metadata": {},
   "outputs": [
    {
     "name": "stdout",
     "output_type": "stream",
     "text": [
      "fhfhf 200 ojojgo 100 jojsadd 300\n"
     ]
    }
   ],
   "source": [
    "x = 100\n",
    "y = 200\n",
    "z = 300\n",
    "a = 'fhfhf {} ojojgo {} jojsadd {}'\n",
    "print(a.format(y,x,z))"
   ]
  },
  {
   "cell_type": "code",
   "execution_count": 41,
   "id": "c3088db7",
   "metadata": {},
   "outputs": [
    {
     "name": "stdout",
     "output_type": "stream",
     "text": [
      "fhfhf 200 ojojgo 100 jojsadd 300\n"
     ]
    }
   ],
   "source": [
    "x = 100\n",
    "y = 200\n",
    "z = 300\n",
    "a = 'fhfhf {1} ojojgo {0} jojsadd {2}'\n",
    "print(a.format(x,y,z))"
   ]
  },
  {
   "cell_type": "code",
   "execution_count": 1,
   "id": "0a4aad62",
   "metadata": {},
   "outputs": [
    {
     "name": "stdout",
     "output_type": "stream",
     "text": [
      "the\n"
     ]
    }
   ],
   "source": [
    "x = 'Municipal Corp result: As the vote counting'\n",
    "y= x.split()\n",
    "print(y[4])\n",
    "\n"
   ]
  },
  {
   "cell_type": "code",
   "execution_count": 11,
   "id": "9f47ef1d",
   "metadata": {},
   "outputs": [
    {
     "name": "stdout",
     "output_type": "stream",
     "text": [
      "$ \r\n",
      "$ $ \r\n",
      "$ $ $ \r\n",
      "$ $ $ $ \r\n",
      "$ $ $ $ $ \r\n",
      "$ $ $ $ $ $ \r\n",
      "$ $ $ $ $ $ $ \r\n",
      "$ $ $ $ $ $ $ $ \r\n",
      "$ $ $ $ $ $ $ $ $ \r\n",
      "$ $ $ $ $ $ $ $ $ $ \r\n"
     ]
    }
   ],
   "source": [
    "def mayank(n):\n",
    "    for i in range(0,n):\n",
    "        for j in range(0,i+1):\n",
    "            print(\"$\", end = \" \")\n",
    "        print(\"\\r\")\n",
    "mayank(10)\n",
    "    \n",
    "#n= 7"
   ]
  },
  {
   "cell_type": "raw",
   "id": "b6068bc9",
   "metadata": {},
   "source": [
    "arithmetric\n",
    "assignment\n",
    "compairision\n",
    "logical\n",
    "identity\n",
    "membership"
   ]
  },
  {
   "cell_type": "code",
   "execution_count": 12,
   "id": "052b7c86",
   "metadata": {},
   "outputs": [],
   "source": [
    "# arithmetric  : +,-,*,/,%,**,//\n"
   ]
  },
  {
   "cell_type": "code",
   "execution_count": 14,
   "id": "e690d557",
   "metadata": {},
   "outputs": [
    {
     "name": "stdout",
     "output_type": "stream",
     "text": [
      "30\n",
      "-10\n",
      "200\n",
      "0.5\n",
      "10\n",
      "100000000000000000000\n"
     ]
    }
   ],
   "source": [
    "x = 10\n",
    "y = 20\n",
    "print(x+y)\n",
    "print(x-y)\n",
    "print(x*y)\n",
    "print(x/y)\n",
    "print(x%y)\n",
    "print(x**y)"
   ]
  },
  {
   "cell_type": "code",
   "execution_count": 16,
   "id": "f1306e4e",
   "metadata": {},
   "outputs": [
    {
     "name": "stdout",
     "output_type": "stream",
     "text": [
      "5.5\n",
      "5\n"
     ]
    }
   ],
   "source": [
    "x = 11\n",
    "y = 2\n",
    "print(x/y) \n",
    "print(x//y)"
   ]
  },
  {
   "cell_type": "code",
   "execution_count": 17,
   "id": "f908431d",
   "metadata": {},
   "outputs": [],
   "source": [
    "# assignment : +,-,*,/,%,**,//"
   ]
  },
  {
   "cell_type": "code",
   "execution_count": 18,
   "id": "db869bf5",
   "metadata": {},
   "outputs": [
    {
     "data": {
      "text/plain": [
       "30"
      ]
     },
     "execution_count": 18,
     "metadata": {},
     "output_type": "execute_result"
    }
   ],
   "source": [
    "x = 10\n",
    "x+=20  # x = x+20\n",
    "x"
   ]
  },
  {
   "cell_type": "code",
   "execution_count": 19,
   "id": "dd4257f0",
   "metadata": {},
   "outputs": [
    {
     "data": {
      "text/plain": [
       "5"
      ]
     },
     "execution_count": 19,
     "metadata": {},
     "output_type": "execute_result"
    }
   ],
   "source": [
    "x = 10\n",
    "x-=5\n",
    "x"
   ]
  },
  {
   "cell_type": "code",
   "execution_count": 20,
   "id": "50e70676",
   "metadata": {},
   "outputs": [
    {
     "data": {
      "text/plain": [
       "20"
      ]
     },
     "execution_count": 20,
     "metadata": {},
     "output_type": "execute_result"
    }
   ],
   "source": [
    "x = 10\n",
    "x*=2\n",
    "x"
   ]
  },
  {
   "cell_type": "code",
   "execution_count": 21,
   "id": "d1f641cc",
   "metadata": {},
   "outputs": [
    {
     "data": {
      "text/plain": [
       "2.0"
      ]
     },
     "execution_count": 21,
     "metadata": {},
     "output_type": "execute_result"
    }
   ],
   "source": [
    "x=10\n",
    "x/=5\n",
    "x"
   ]
  },
  {
   "cell_type": "code",
   "execution_count": 22,
   "id": "ca2b3a78",
   "metadata": {},
   "outputs": [
    {
     "data": {
      "text/plain": [
       "1"
      ]
     },
     "execution_count": 22,
     "metadata": {},
     "output_type": "execute_result"
    }
   ],
   "source": [
    "x = 10\n",
    "x%=3\n",
    "x"
   ]
  },
  {
   "cell_type": "code",
   "execution_count": 23,
   "id": "c88e98e7",
   "metadata": {},
   "outputs": [
    {
     "data": {
      "text/plain": [
       "100"
      ]
     },
     "execution_count": 23,
     "metadata": {},
     "output_type": "execute_result"
    }
   ],
   "source": [
    "x = 10\n",
    "x**=2\n",
    "x"
   ]
  },
  {
   "cell_type": "code",
   "execution_count": 24,
   "id": "75c65f12",
   "metadata": {},
   "outputs": [
    {
     "data": {
      "text/plain": [
       "3"
      ]
     },
     "execution_count": 24,
     "metadata": {},
     "output_type": "execute_result"
    }
   ],
   "source": [
    "x =11\n",
    "x//=3\n",
    "x"
   ]
  },
  {
   "cell_type": "code",
   "execution_count": 25,
   "id": "7a4f16c3",
   "metadata": {},
   "outputs": [],
   "source": [
    "# comparision : ==,!=,<,>,<=,>="
   ]
  },
  {
   "cell_type": "code",
   "execution_count": 26,
   "id": "0c7a589d",
   "metadata": {},
   "outputs": [
    {
     "name": "stdout",
     "output_type": "stream",
     "text": [
      "True\n"
     ]
    }
   ],
   "source": [
    "x = 10\n",
    "y = 10\n",
    "print(x==y)"
   ]
  },
  {
   "cell_type": "code",
   "execution_count": 27,
   "id": "bcaadab1",
   "metadata": {},
   "outputs": [
    {
     "name": "stdout",
     "output_type": "stream",
     "text": [
      "False\n"
     ]
    }
   ],
   "source": [
    "print(x!=y)"
   ]
  },
  {
   "cell_type": "code",
   "execution_count": 28,
   "id": "1634961a",
   "metadata": {},
   "outputs": [
    {
     "name": "stdout",
     "output_type": "stream",
     "text": [
      "False\n"
     ]
    }
   ],
   "source": [
    "print(x<y)"
   ]
  },
  {
   "cell_type": "code",
   "execution_count": 29,
   "id": "9c4d00fd",
   "metadata": {},
   "outputs": [
    {
     "name": "stdout",
     "output_type": "stream",
     "text": [
      "False\n"
     ]
    }
   ],
   "source": [
    "print(x>y)"
   ]
  },
  {
   "cell_type": "code",
   "execution_count": 30,
   "id": "034e3a32",
   "metadata": {},
   "outputs": [
    {
     "name": "stdout",
     "output_type": "stream",
     "text": [
      "True\n"
     ]
    }
   ],
   "source": [
    "print(x<=y)"
   ]
  },
  {
   "cell_type": "code",
   "execution_count": 31,
   "id": "8d83c829",
   "metadata": {},
   "outputs": [
    {
     "name": "stdout",
     "output_type": "stream",
     "text": [
      "True\n"
     ]
    }
   ],
   "source": [
    "print(x>=y)"
   ]
  },
  {
   "cell_type": "code",
   "execution_count": 32,
   "id": "e65cce19",
   "metadata": {},
   "outputs": [],
   "source": [
    "# logical : and,or,not"
   ]
  },
  {
   "cell_type": "code",
   "execution_count": 33,
   "id": "0b6add5c",
   "metadata": {},
   "outputs": [
    {
     "name": "stdout",
     "output_type": "stream",
     "text": [
      "False\n"
     ]
    }
   ],
   "source": [
    "x = 10\n",
    "y =20\n",
    "print(x<y and x>y)"
   ]
  },
  {
   "cell_type": "code",
   "execution_count": 34,
   "id": "bed3def7",
   "metadata": {},
   "outputs": [
    {
     "name": "stdout",
     "output_type": "stream",
     "text": [
      "True\n"
     ]
    }
   ],
   "source": [
    "print(x<y or x>y)"
   ]
  },
  {
   "cell_type": "code",
   "execution_count": 35,
   "id": "1b8b3296",
   "metadata": {},
   "outputs": [
    {
     "name": "stdout",
     "output_type": "stream",
     "text": [
      "True\n"
     ]
    }
   ],
   "source": [
    "print(not(x<y and x>y))"
   ]
  },
  {
   "cell_type": "code",
   "execution_count": 36,
   "id": "c613d820",
   "metadata": {},
   "outputs": [
    {
     "name": "stdout",
     "output_type": "stream",
     "text": [
      "False\n"
     ]
    }
   ],
   "source": [
    "print(not(x<y or x>y))"
   ]
  },
  {
   "cell_type": "code",
   "execution_count": 37,
   "id": "65bf9688",
   "metadata": {},
   "outputs": [],
   "source": [
    "# identity  : is, is not"
   ]
  },
  {
   "cell_type": "code",
   "execution_count": 38,
   "id": "2c5de91a",
   "metadata": {},
   "outputs": [
    {
     "name": "stdout",
     "output_type": "stream",
     "text": [
      "False\n"
     ]
    }
   ],
   "source": [
    "x = 10\n",
    "y = 20\n",
    "z = x\n",
    "print(x is y)"
   ]
  },
  {
   "cell_type": "code",
   "execution_count": 39,
   "id": "2deb242c",
   "metadata": {},
   "outputs": [
    {
     "name": "stdout",
     "output_type": "stream",
     "text": [
      "True\n"
     ]
    }
   ],
   "source": [
    "print(x is z)"
   ]
  },
  {
   "cell_type": "code",
   "execution_count": 40,
   "id": "20933547",
   "metadata": {},
   "outputs": [
    {
     "name": "stdout",
     "output_type": "stream",
     "text": [
      "True\n"
     ]
    }
   ],
   "source": [
    "print(x is not y)"
   ]
  },
  {
   "cell_type": "code",
   "execution_count": 41,
   "id": "274ed8ba",
   "metadata": {},
   "outputs": [
    {
     "name": "stdout",
     "output_type": "stream",
     "text": [
      "False\n"
     ]
    }
   ],
   "source": [
    "print(x is not z)"
   ]
  },
  {
   "cell_type": "code",
   "execution_count": 42,
   "id": "9bab9c82",
   "metadata": {},
   "outputs": [],
   "source": [
    "# membership : in , not in"
   ]
  },
  {
   "cell_type": "code",
   "execution_count": 43,
   "id": "6376e6e1",
   "metadata": {},
   "outputs": [
    {
     "name": "stdout",
     "output_type": "stream",
     "text": [
      "True\n"
     ]
    }
   ],
   "source": [
    "x = 'hello'\n",
    "print('h' in x)"
   ]
  },
  {
   "cell_type": "code",
   "execution_count": 44,
   "id": "d89179e4",
   "metadata": {},
   "outputs": [
    {
     "name": "stdout",
     "output_type": "stream",
     "text": [
      "False\n"
     ]
    }
   ],
   "source": [
    "print('a' in x)"
   ]
  },
  {
   "cell_type": "code",
   "execution_count": 45,
   "id": "e2fc7dfa",
   "metadata": {},
   "outputs": [
    {
     "name": "stdout",
     "output_type": "stream",
     "text": [
      "False\n"
     ]
    }
   ],
   "source": [
    "print('h' not in x)"
   ]
  },
  {
   "cell_type": "code",
   "execution_count": 46,
   "id": "ba4fb3cc",
   "metadata": {},
   "outputs": [
    {
     "name": "stdout",
     "output_type": "stream",
     "text": [
      "True\n"
     ]
    }
   ],
   "source": [
    "print('a' not in x)"
   ]
  },
  {
   "cell_type": "markdown",
   "id": "a0fe4ef4",
   "metadata": {},
   "source": [
    "# List"
   ]
  },
  {
   "cell_type": "code",
   "execution_count": 4,
   "id": "c8942ce4",
   "metadata": {},
   "outputs": [
    {
     "data": {
      "text/plain": [
       "['Mango', 1, 1.3, (9+6j), True]"
      ]
     },
     "execution_count": 4,
     "metadata": {},
     "output_type": "execute_result"
    }
   ],
   "source": [
    "x = ['Mango',1,1.3,9+6j,True]\n",
    "x"
   ]
  },
  {
   "cell_type": "code",
   "execution_count": 10,
   "id": "aae6491a",
   "metadata": {},
   "outputs": [
    {
     "name": "stdout",
     "output_type": "stream",
     "text": [
      "50\n",
      "[10, 40]\n",
      "[40, 50]\n",
      "[60, 40, 20]\n"
     ]
    }
   ],
   "source": [
    "x =[10,20,30,40,50,60]\n",
    "print(x[4])\n",
    "print(x[::3])\n",
    "print(x[3:5])\n",
    "print(x[::-2])"
   ]
  },
  {
   "cell_type": "code",
   "execution_count": 11,
   "id": "886eb5d7",
   "metadata": {},
   "outputs": [],
   "source": [
    "# change"
   ]
  },
  {
   "cell_type": "code",
   "execution_count": 13,
   "id": "f5386a67",
   "metadata": {},
   "outputs": [
    {
     "data": {
      "text/plain": [
       "[10, 20, 299, 40, 50, 60]"
      ]
     },
     "execution_count": 13,
     "metadata": {},
     "output_type": "execute_result"
    }
   ],
   "source": [
    "x =[10,20,30,40,50,60]\n",
    "x [2]=299\n",
    "x"
   ]
  },
  {
   "cell_type": "code",
   "execution_count": 14,
   "id": "a5897401",
   "metadata": {},
   "outputs": [],
   "source": [
    "# add : append,insert,extend"
   ]
  },
  {
   "cell_type": "code",
   "execution_count": 15,
   "id": "dfba2992",
   "metadata": {},
   "outputs": [
    {
     "data": {
      "text/plain": [
       "[10, 20, 30, 40, 50, 60, 69]"
      ]
     },
     "execution_count": 15,
     "metadata": {},
     "output_type": "execute_result"
    }
   ],
   "source": [
    "x =[10,20,30,40,50,60]\n",
    "x.append(69)\n",
    "x"
   ]
  },
  {
   "cell_type": "code",
   "execution_count": 16,
   "id": "9f4cd126",
   "metadata": {},
   "outputs": [
    {
     "data": {
      "text/plain": [
       "[10, 20, 30, 78, 40, 50, 60]"
      ]
     },
     "execution_count": 16,
     "metadata": {},
     "output_type": "execute_result"
    }
   ],
   "source": [
    "x =[10,20,30,40,50,60]\n",
    "x.insert(3,78)\n",
    "x"
   ]
  },
  {
   "cell_type": "code",
   "execution_count": 20,
   "id": "e8f02381",
   "metadata": {},
   "outputs": [
    {
     "data": {
      "text/plain": [
       "[80, 90, 100, 10, 20, 30, 40, 50, 60]"
      ]
     },
     "execution_count": 20,
     "metadata": {},
     "output_type": "execute_result"
    }
   ],
   "source": [
    "x =[10,20,30,40,50,60]\n",
    "y =[80,90,100]\n",
    "y.extend(x)\n",
    "y"
   ]
  },
  {
   "cell_type": "code",
   "execution_count": 21,
   "id": "99d2180f",
   "metadata": {},
   "outputs": [],
   "source": [
    "# pop,del,clear,remove"
   ]
  },
  {
   "cell_type": "code",
   "execution_count": 23,
   "id": "625a6a45",
   "metadata": {},
   "outputs": [
    {
     "data": {
      "text/plain": [
       "[10, 20, 40, 50, 60]"
      ]
     },
     "execution_count": 23,
     "metadata": {},
     "output_type": "execute_result"
    }
   ],
   "source": [
    "x =[10,20,30,40,50,60]\n",
    "x.pop(2)\n",
    "x"
   ]
  },
  {
   "cell_type": "code",
   "execution_count": 25,
   "id": "85db8e4b",
   "metadata": {},
   "outputs": [
    {
     "data": {
      "text/plain": [
       "[10, 20, 60]"
      ]
     },
     "execution_count": 25,
     "metadata": {},
     "output_type": "execute_result"
    }
   ],
   "source": [
    "x.remove(x[2])\n",
    "x "
   ]
  },
  {
   "cell_type": "code",
   "execution_count": 28,
   "id": "5357eb35",
   "metadata": {},
   "outputs": [
    {
     "data": {
      "text/plain": [
       "[10, 20, 30, 40, 60]"
      ]
     },
     "execution_count": 28,
     "metadata": {},
     "output_type": "execute_result"
    }
   ],
   "source": [
    "x =[10,20,30,40,50,60]\n",
    "del x[4]\n",
    "x"
   ]
  },
  {
   "cell_type": "code",
   "execution_count": 29,
   "id": "884f5a22",
   "metadata": {},
   "outputs": [
    {
     "data": {
      "text/plain": [
       "[]"
      ]
     },
     "execution_count": 29,
     "metadata": {},
     "output_type": "execute_result"
    }
   ],
   "source": [
    "x.clear()\n",
    "x"
   ]
  },
  {
   "cell_type": "code",
   "execution_count": 30,
   "id": "29772a37",
   "metadata": {},
   "outputs": [
    {
     "data": {
      "text/plain": [
       "[200]"
      ]
     },
     "execution_count": 30,
     "metadata": {},
     "output_type": "execute_result"
    }
   ],
   "source": [
    "x.append(200)\n",
    "x"
   ]
  },
  {
   "cell_type": "code",
   "execution_count": 32,
   "id": "f90ccc61",
   "metadata": {},
   "outputs": [
    {
     "data": {
      "text/plain": [
       "[200, 40]"
      ]
     },
     "execution_count": 32,
     "metadata": {},
     "output_type": "execute_result"
    }
   ],
   "source": [
    "x.insert(30,40)\n",
    "x"
   ]
  },
  {
   "cell_type": "code",
   "execution_count": 33,
   "id": "e133a854",
   "metadata": {},
   "outputs": [
    {
     "data": {
      "text/plain": [
       "[]"
      ]
     },
     "execution_count": 33,
     "metadata": {},
     "output_type": "execute_result"
    }
   ],
   "source": [
    "x.clear()\n",
    "x"
   ]
  },
  {
   "cell_type": "code",
   "execution_count": 37,
   "id": "14e995dd",
   "metadata": {},
   "outputs": [
    {
     "data": {
      "text/plain": [
       "[20, 30, 40, 50]"
      ]
     },
     "execution_count": 37,
     "metadata": {},
     "output_type": "execute_result"
    }
   ],
   "source": [
    "y =[20,30,40,50]\n",
    "x.extend(y)\n",
    "x"
   ]
  },
  {
   "cell_type": "code",
   "execution_count": 39,
   "id": "293f482d",
   "metadata": {},
   "outputs": [
    {
     "data": {
      "text/plain": [
       "[60, 50, 40, 30, 20, 10]"
      ]
     },
     "execution_count": 39,
     "metadata": {},
     "output_type": "execute_result"
    }
   ],
   "source": [
    "x =[10,20,30,40,50,60]\n",
    "x.reverse()\n",
    "x"
   ]
  },
  {
   "cell_type": "code",
   "execution_count": 40,
   "id": "4d414530",
   "metadata": {},
   "outputs": [
    {
     "data": {
      "text/plain": [
       "[10, 20, 30, 50, 60, 70, 90, 120]"
      ]
     },
     "execution_count": 40,
     "metadata": {},
     "output_type": "execute_result"
    }
   ],
   "source": [
    "x = [30,50,10,60,20,90,120,70]\n",
    "x.sort()\n",
    "x"
   ]
  },
  {
   "cell_type": "code",
   "execution_count": 44,
   "id": "bf5319d7",
   "metadata": {},
   "outputs": [
    {
     "data": {
      "text/plain": [
       "[120, 90, 70, 60, 50, 30, 20, 10]"
      ]
     },
     "execution_count": 44,
     "metadata": {},
     "output_type": "execute_result"
    }
   ],
   "source": [
    "x = [30,50,10,60,20,90,120,70]\n",
    "x.sort(reverse=True)\n",
    "x"
   ]
  },
  {
   "cell_type": "code",
   "execution_count": 7,
   "id": "f2df75b4",
   "metadata": {},
   "outputs": [
    {
     "name": "stdout",
     "output_type": "stream",
     "text": [
      "[10, 20] [30, 40] [50, 60]\n",
      "[10, 20, 30, 40, 50, 60]\n"
     ]
    }
   ],
   "source": [
    "x =[10,20]\n",
    "y = [30,40]\n",
    "z= [50,60]\n",
    "\n",
    "# [[10,20],[30,40],[50,60]]\n",
    "# [10,20,30,40,50,60]\n",
    "print(x,y,z)\n",
    "print(x+y+z)"
   ]
  },
  {
   "cell_type": "code",
   "execution_count": 23,
   "id": "74723e7d",
   "metadata": {},
   "outputs": [
    {
     "name": "stdout",
     "output_type": "stream",
     "text": [
      "[[10, 20], [30, 40], [50, 60]]\n"
     ]
    }
   ],
   "source": [
    "x =[10,20]\n",
    "y = [30,40]\n",
    "z= [50,60]\n",
    "t=[]\n",
    "for i in x,y,z:\n",
    "    t.append(i)\n",
    "print(t)\n",
    "    "
   ]
  },
  {
   "cell_type": "code",
   "execution_count": 37,
   "id": "f6b2bb3d",
   "metadata": {},
   "outputs": [
    {
     "name": "stdout",
     "output_type": "stream",
     "text": [
      "[10, 20, 30, 40, 50, 60]\n"
     ]
    }
   ],
   "source": [
    "x =[10,20]\n",
    "y = [30,40]\n",
    "z= [50,60]\n",
    "t=[]\n",
    "for i in x,y,z:\n",
    "    t.extend(i)\n",
    "print(t)\n"
   ]
  },
  {
   "cell_type": "code",
   "execution_count": 49,
   "id": "ec53a592",
   "metadata": {},
   "outputs": [
    {
     "name": "stdout",
     "output_type": "stream",
     "text": [
      "[[10, 20], [30, 40], [50, 60]]\n"
     ]
    }
   ],
   "source": [
    "x =[10,20]\n",
    "y = [30,40]\n",
    "z= [50,60]\n",
    "t=[]\n",
    "for i in x,y,z:\n",
    "    t.insert(1+2+3,i)\n",
    "print(t)"
   ]
  },
  {
   "cell_type": "code",
   "execution_count": 55,
   "id": "8e4527b9",
   "metadata": {},
   "outputs": [
    {
     "name": "stdout",
     "output_type": "stream",
     "text": [
      "[10, 20, 30, 40, 50, 60]\n"
     ]
    }
   ],
   "source": [
    "x =[10,20]\n",
    "y = [30,40]\n",
    "z= [50,60]\n",
    "t=[]\n",
    "\n",
    "for i in x,y,z:\n",
    "    for j in i:\n",
    "        t.append(j)\n",
    "print(t)"
   ]
  },
  {
   "cell_type": "code",
   "execution_count": 54,
   "id": "48495eba",
   "metadata": {},
   "outputs": [
    {
     "name": "stdout",
     "output_type": "stream",
     "text": [
      "[10, 20]\n",
      "[30, 40]\n",
      "[50, 60]\n"
     ]
    }
   ],
   "source": [
    "x =[10,20]\n",
    "y = [30,40]\n",
    "z= [50,60]\n",
    "t=[]\n",
    "\n",
    "for i in x,y,z:\n",
    "    print(i)"
   ]
  },
  {
   "cell_type": "code",
   "execution_count": 58,
   "id": "3266223b",
   "metadata": {},
   "outputs": [
    {
     "name": "stdout",
     "output_type": "stream",
     "text": [
      "400\n",
      "400\n"
     ]
    }
   ],
   "source": [
    "x=20\n",
    "print(x*x)\n",
    "print(x**2)"
   ]
  },
  {
   "cell_type": "code",
   "execution_count": 63,
   "id": "4ae0fdc3",
   "metadata": {},
   "outputs": [
    {
     "name": "stdout",
     "output_type": "stream",
     "text": [
      "100\n",
      "400\n",
      "900\n",
      "1600\n",
      "2500\n",
      "3600\n",
      "4900\n"
     ]
    }
   ],
   "source": [
    "x = [10,20,30,40,50,60,70]\n",
    "for i in x:\n",
    "    print(i**2)\n",
    "    "
   ]
  },
  {
   "cell_type": "code",
   "execution_count": 71,
   "id": "5f61d595",
   "metadata": {},
   "outputs": [
    {
     "name": "stdout",
     "output_type": "stream",
     "text": [
      "1\n",
      "[1]\n",
      "4\n",
      "[1, 2]\n",
      "9\n",
      "[1, 2, 3]\n",
      "16\n",
      "[1, 2, 3, 4]\n",
      "25\n",
      "[1, 2, 3, 4, 5]\n",
      "36\n",
      "[1, 2, 3, 4, 5, 6]\n",
      "49\n",
      "[1, 2, 3, 4, 5, 6, 7]\n",
      "64\n",
      "[1, 2, 3, 4, 5, 6, 7, 8]\n",
      "81\n",
      "[1, 2, 3, 4, 5, 6, 7, 8, 9]\n",
      "100\n",
      "[1, 2, 3, 4, 5, 6, 7, 8, 9, 10]\n",
      "121\n",
      "[1, 2, 3, 4, 5, 6, 7, 8, 9, 10, 11]\n",
      "144\n",
      "[1, 2, 3, 4, 5, 6, 7, 8, 9, 10, 11, 12]\n",
      "169\n",
      "[1, 2, 3, 4, 5, 6, 7, 8, 9, 10, 11, 12, 13]\n",
      "196\n",
      "[1, 2, 3, 4, 5, 6, 7, 8, 9, 10, 11, 12, 13, 14]\n",
      "225\n",
      "[1, 2, 3, 4, 5, 6, 7, 8, 9, 10, 11, 12, 13, 14, 15]\n",
      "256\n",
      "[1, 2, 3, 4, 5, 6, 7, 8, 9, 10, 11, 12, 13, 14, 15, 16]\n",
      "289\n",
      "[1, 2, 3, 4, 5, 6, 7, 8, 9, 10, 11, 12, 13, 14, 15, 16, 17]\n",
      "324\n",
      "[1, 2, 3, 4, 5, 6, 7, 8, 9, 10, 11, 12, 13, 14, 15, 16, 17, 18]\n",
      "361\n",
      "[1, 2, 3, 4, 5, 6, 7, 8, 9, 10, 11, 12, 13, 14, 15, 16, 17, 18, 19]\n",
      "400\n",
      "[1, 2, 3, 4, 5, 6, 7, 8, 9, 10, 11, 12, 13, 14, 15, 16, 17, 18, 19, 20]\n",
      "441\n",
      "[1, 2, 3, 4, 5, 6, 7, 8, 9, 10, 11, 12, 13, 14, 15, 16, 17, 18, 19, 20, 21]\n",
      "484\n",
      "[1, 2, 3, 4, 5, 6, 7, 8, 9, 10, 11, 12, 13, 14, 15, 16, 17, 18, 19, 20, 21, 22]\n",
      "529\n",
      "[1, 2, 3, 4, 5, 6, 7, 8, 9, 10, 11, 12, 13, 14, 15, 16, 17, 18, 19, 20, 21, 22, 23]\n",
      "576\n",
      "[1, 2, 3, 4, 5, 6, 7, 8, 9, 10, 11, 12, 13, 14, 15, 16, 17, 18, 19, 20, 21, 22, 23, 24]\n",
      "625\n",
      "[1, 2, 3, 4, 5, 6, 7, 8, 9, 10, 11, 12, 13, 14, 15, 16, 17, 18, 19, 20, 21, 22, 23, 24, 25]\n",
      "676\n",
      "[1, 2, 3, 4, 5, 6, 7, 8, 9, 10, 11, 12, 13, 14, 15, 16, 17, 18, 19, 20, 21, 22, 23, 24, 25, 26]\n",
      "729\n",
      "[1, 2, 3, 4, 5, 6, 7, 8, 9, 10, 11, 12, 13, 14, 15, 16, 17, 18, 19, 20, 21, 22, 23, 24, 25, 26, 27]\n",
      "784\n",
      "[1, 2, 3, 4, 5, 6, 7, 8, 9, 10, 11, 12, 13, 14, 15, 16, 17, 18, 19, 20, 21, 22, 23, 24, 25, 26, 27, 28]\n",
      "841\n",
      "[1, 2, 3, 4, 5, 6, 7, 8, 9, 10, 11, 12, 13, 14, 15, 16, 17, 18, 19, 20, 21, 22, 23, 24, 25, 26, 27, 28, 29]\n",
      "900\n",
      "[1, 2, 3, 4, 5, 6, 7, 8, 9, 10, 11, 12, 13, 14, 15, 16, 17, 18, 19, 20, 21, 22, 23, 24, 25, 26, 27, 28, 29, 30]\n"
     ]
    }
   ],
   "source": [
    "t=[]\n",
    "for i in range(1,31):\n",
    "    print(i**2)\n",
    "    t.append(i)\n",
    "    print(t)"
   ]
  },
  {
   "cell_type": "code",
   "execution_count": 75,
   "id": "6a1279ed",
   "metadata": {},
   "outputs": [
    {
     "name": "stdout",
     "output_type": "stream",
     "text": [
      "1\n",
      "4\n",
      "9\n",
      "16\n",
      "25\n",
      "36\n",
      "49\n",
      "64\n",
      "81\n",
      "100\n",
      "121\n",
      "144\n",
      "169\n",
      "196\n",
      "225\n",
      "256\n",
      "289\n",
      "324\n",
      "361\n",
      "400\n",
      "441\n",
      "484\n",
      "529\n",
      "576\n",
      "625\n",
      "676\n",
      "729\n",
      "784\n",
      "841\n",
      "900\n",
      "[1, 4, 9, 16, 25, 36, 49, 64, 81, 100, 121, 144, 169, 196, 225, 256, 289, 324, 361, 400, 441, 484, 529, 576, 625, 676, 729, 784, 841, 900]\n"
     ]
    }
   ],
   "source": [
    "t=[]\n",
    "for i in range(1,31):\n",
    "    y = i**2\n",
    "    print(y)\n",
    "    t.append(y)\n",
    "print(t)    "
   ]
  },
  {
   "cell_type": "code",
   "execution_count": 77,
   "id": "004db89d",
   "metadata": {},
   "outputs": [
    {
     "name": "stdout",
     "output_type": "stream",
     "text": [
      "[1, 4, 9, 16, 25]\n"
     ]
    }
   ],
   "source": [
    "print(t[0:5])"
   ]
  },
  {
   "cell_type": "code",
   "execution_count": 80,
   "id": "ca389b19",
   "metadata": {},
   "outputs": [
    {
     "name": "stdout",
     "output_type": "stream",
     "text": [
      "[676, 729, 784, 841, 900]\n"
     ]
    }
   ],
   "source": [
    "print(t[-5:])"
   ]
  },
  {
   "cell_type": "markdown",
   "id": "ffb9981d",
   "metadata": {},
   "source": [
    "# tuple"
   ]
  },
  {
   "cell_type": "code",
   "execution_count": 1,
   "id": "957744c8",
   "metadata": {},
   "outputs": [
    {
     "name": "stdout",
     "output_type": "stream",
     "text": [
      "('apple', 12, 1.3, True)\n",
      "<class 'tuple'>\n"
     ]
    }
   ],
   "source": [
    "x = ('apple',12,1.3,True)\n",
    "print(x)\n",
    "print(type(x))"
   ]
  },
  {
   "cell_type": "code",
   "execution_count": 2,
   "id": "5e238296",
   "metadata": {},
   "outputs": [
    {
     "name": "stdout",
     "output_type": "stream",
     "text": [
      "4\n"
     ]
    }
   ],
   "source": [
    "print(len(x))"
   ]
  },
  {
   "cell_type": "code",
   "execution_count": 3,
   "id": "d280f977",
   "metadata": {},
   "outputs": [
    {
     "name": "stdout",
     "output_type": "stream",
     "text": [
      "True\n"
     ]
    }
   ],
   "source": [
    "print(1.3 in x)"
   ]
  },
  {
   "cell_type": "code",
   "execution_count": 4,
   "id": "280e17bb",
   "metadata": {},
   "outputs": [],
   "source": [
    "# Access/ index"
   ]
  },
  {
   "cell_type": "code",
   "execution_count": 16,
   "id": "5140caef",
   "metadata": {},
   "outputs": [
    {
     "name": "stdout",
     "output_type": "stream",
     "text": [
      "10\n",
      "20\n",
      "70\n",
      "(30, 40, 50, 60)\n",
      "(30, 40, 50, 60, 70)\n",
      "(10, 20, 30, 40, 50)\n",
      "70\n",
      "10\n",
      "(10, 20, 30, 40)\n",
      "(10, 30, 50, 70)\n",
      "(70, 60, 50, 40, 30, 20, 10)\n"
     ]
    }
   ],
   "source": [
    "x=(10,20,30,40,50,60,70)\n",
    "print(x[0])\n",
    "print(x[1])\n",
    "print(x[6])\n",
    "print(x[2:6])\n",
    "print(x[2:])\n",
    "print(x[:5])\n",
    "print(x[-1])\n",
    "print(x[-7])\n",
    "print(x[-7:-3])\n",
    "print(x[::2])\n",
    "print(x[::-1])"
   ]
  },
  {
   "cell_type": "code",
   "execution_count": 17,
   "id": "803393c7",
   "metadata": {},
   "outputs": [],
   "source": [
    "# change"
   ]
  },
  {
   "cell_type": "code",
   "execution_count": 2,
   "id": "2e60ee49",
   "metadata": {},
   "outputs": [
    {
     "data": {
      "text/plain": [
       "(10, 20, 30, 40, 50, 60)"
      ]
     },
     "execution_count": 2,
     "metadata": {},
     "output_type": "execute_result"
    }
   ],
   "source": [
    "x = (10,20,30,40,50,60)\n",
    "y = list(x)\n",
    "y[0] = 100\n",
    "x = tuple(y)\n",
    "x"
   ]
  },
  {
   "cell_type": "code",
   "execution_count": 21,
   "id": "a64f6805",
   "metadata": {},
   "outputs": [
    {
     "data": {
      "text/plain": [
       "(10, 100, 200, 40, 50)"
      ]
     },
     "execution_count": 21,
     "metadata": {},
     "output_type": "execute_result"
    }
   ],
   "source": [
    "x = (10,20,30,40,50)\n",
    "y = list(x)\n",
    "y[1:3] = [100,200]\n",
    "x = tuple(y)\n",
    "x"
   ]
  },
  {
   "cell_type": "code",
   "execution_count": 22,
   "id": "689fdbad",
   "metadata": {},
   "outputs": [],
   "source": [
    "# add :append,insert,extend"
   ]
  },
  {
   "cell_type": "code",
   "execution_count": 23,
   "id": "ec6e9690",
   "metadata": {},
   "outputs": [
    {
     "data": {
      "text/plain": [
       "(10, 20, 30, 40, 100)"
      ]
     },
     "execution_count": 23,
     "metadata": {},
     "output_type": "execute_result"
    }
   ],
   "source": [
    "x = (10,20,30,40)\n",
    "y = list(x)\n",
    "y.append(100)\n",
    "x = tuple(y)\n",
    "x"
   ]
  },
  {
   "cell_type": "code",
   "execution_count": 24,
   "id": "b3416787",
   "metadata": {},
   "outputs": [
    {
     "data": {
      "text/plain": [
       "(10, 20, 30, 100, 40)"
      ]
     },
     "execution_count": 24,
     "metadata": {},
     "output_type": "execute_result"
    }
   ],
   "source": [
    "x = (10,20,30,40)\n",
    "y = list(x)\n",
    "y.insert(3,100)\n",
    "x = tuple(y)\n",
    "x"
   ]
  },
  {
   "cell_type": "code",
   "execution_count": 30,
   "id": "b0553b53",
   "metadata": {},
   "outputs": [
    {
     "data": {
      "text/plain": [
       "(10, 20, 30, 40, 50, 60, 70)"
      ]
     },
     "execution_count": 30,
     "metadata": {},
     "output_type": "execute_result"
    }
   ],
   "source": [
    "x = (10,20,30,40)\n",
    "y = (50,60,70)\n",
    "z  = list(x)\n",
    "z.extend(y)\n",
    "x = tuple(z)\n",
    "x"
   ]
  },
  {
   "cell_type": "code",
   "execution_count": 31,
   "id": "a9129c0f",
   "metadata": {},
   "outputs": [
    {
     "data": {
      "text/plain": [
       "(10, 20, 30, 40, 50, 60, 70)"
      ]
     },
     "execution_count": 31,
     "metadata": {},
     "output_type": "execute_result"
    }
   ],
   "source": [
    "x = (10,20,30,40)\n",
    "y = [50,60,70]\n",
    "z  = list(x)\n",
    "z.extend(y)\n",
    "x = tuple(z)\n",
    "x"
   ]
  },
  {
   "cell_type": "code",
   "execution_count": 32,
   "id": "a9246230",
   "metadata": {},
   "outputs": [
    {
     "data": {
      "text/plain": [
       "(10, 20, 30, 40, 50, 60, 70)"
      ]
     },
     "execution_count": 32,
     "metadata": {},
     "output_type": "execute_result"
    }
   ],
   "source": [
    "x = (10,20,30,40)\n",
    "y = {50,60,70}\n",
    "z  = list(x)\n",
    "z.extend(y)\n",
    "x = tuple(z)\n",
    "x"
   ]
  },
  {
   "cell_type": "code",
   "execution_count": 34,
   "id": "db1d1e80",
   "metadata": {},
   "outputs": [],
   "source": [
    "# remove : remove,pop,del,clear"
   ]
  },
  {
   "cell_type": "code",
   "execution_count": 35,
   "id": "6e99d541",
   "metadata": {},
   "outputs": [
    {
     "data": {
      "text/plain": [
       "(10, 30, 40)"
      ]
     },
     "execution_count": 35,
     "metadata": {},
     "output_type": "execute_result"
    }
   ],
   "source": [
    "x = (10,20,30,40)\n",
    "y = list(x)\n",
    "y.remove(20)\n",
    "x = tuple(y)\n",
    "x"
   ]
  },
  {
   "cell_type": "code",
   "execution_count": 36,
   "id": "e24c43ba",
   "metadata": {},
   "outputs": [
    {
     "data": {
      "text/plain": [
       "(20, 30, 40)"
      ]
     },
     "execution_count": 36,
     "metadata": {},
     "output_type": "execute_result"
    }
   ],
   "source": [
    "x = (10,20,30,40)\n",
    "y = list(x)\n",
    "y.pop(0)\n",
    "x = tuple(y)\n",
    "x"
   ]
  },
  {
   "cell_type": "code",
   "execution_count": 37,
   "id": "8f812eb7",
   "metadata": {},
   "outputs": [
    {
     "data": {
      "text/plain": [
       "(10, 20, 30)"
      ]
     },
     "execution_count": 37,
     "metadata": {},
     "output_type": "execute_result"
    }
   ],
   "source": [
    "x = (10,20,30,40)\n",
    "y = list(x)\n",
    "y.pop()\n",
    "x = tuple(y)\n",
    "x"
   ]
  },
  {
   "cell_type": "code",
   "execution_count": 38,
   "id": "bd0ca5d5",
   "metadata": {},
   "outputs": [
    {
     "data": {
      "text/plain": [
       "(20, 30, 40)"
      ]
     },
     "execution_count": 38,
     "metadata": {},
     "output_type": "execute_result"
    }
   ],
   "source": [
    "x = (10,20,30,40)\n",
    "y = list(x)\n",
    "del y[0]\n",
    "x = tuple(y)\n",
    "x"
   ]
  },
  {
   "cell_type": "code",
   "execution_count": 39,
   "id": "c6f7690e",
   "metadata": {},
   "outputs": [
    {
     "data": {
      "text/plain": [
       "()"
      ]
     },
     "execution_count": 39,
     "metadata": {},
     "output_type": "execute_result"
    }
   ],
   "source": [
    "x = (10,20,30,40)\n",
    "y = list(x)\n",
    "y.clear()\n",
    "x = tuple(y)\n",
    "x"
   ]
  },
  {
   "cell_type": "code",
   "execution_count": 40,
   "id": "a5fac40c",
   "metadata": {},
   "outputs": [],
   "source": [
    "# unpack"
   ]
  },
  {
   "cell_type": "code",
   "execution_count": 41,
   "id": "07a10165",
   "metadata": {},
   "outputs": [
    {
     "name": "stdout",
     "output_type": "stream",
     "text": [
      "10\n",
      "20\n",
      "30\n"
     ]
    }
   ],
   "source": [
    "x = (10,20,30)\n",
    "a,b,c = x\n",
    "print(a)\n",
    "print(b)\n",
    "print(c)"
   ]
  },
  {
   "cell_type": "code",
   "execution_count": 44,
   "id": "2ffb3329",
   "metadata": {},
   "outputs": [
    {
     "name": "stdout",
     "output_type": "stream",
     "text": [
      "10\n",
      "20\n",
      "[30, 40, 50, 60]\n"
     ]
    }
   ],
   "source": [
    "x = (10,20,30,40,50,60)\n",
    "a,b,*c = x\n",
    "print(a)\n",
    "print(b)\n",
    "print(c)"
   ]
  },
  {
   "cell_type": "code",
   "execution_count": 45,
   "id": "b3437c85",
   "metadata": {},
   "outputs": [
    {
     "name": "stdout",
     "output_type": "stream",
     "text": [
      "10\n",
      "[20, 30, 40, 50]\n",
      "60\n"
     ]
    }
   ],
   "source": [
    "x = (10,20,30,40,50,60)\n",
    "a,*b,c = x\n",
    "print(a)\n",
    "print(b)\n",
    "print(c)"
   ]
  },
  {
   "cell_type": "code",
   "execution_count": 46,
   "id": "f517c67d",
   "metadata": {},
   "outputs": [
    {
     "name": "stdout",
     "output_type": "stream",
     "text": [
      "[10, 20, 30, 40]\n",
      "50\n",
      "60\n"
     ]
    }
   ],
   "source": [
    "x = (10,20,30,40,50,60)\n",
    "*a,b,c = x\n",
    "print(a)\n",
    "print(b)\n",
    "print(c)"
   ]
  },
  {
   "cell_type": "code",
   "execution_count": 47,
   "id": "fef3782d",
   "metadata": {},
   "outputs": [],
   "source": [
    "# loop"
   ]
  },
  {
   "cell_type": "code",
   "execution_count": 49,
   "id": "79367029",
   "metadata": {},
   "outputs": [
    {
     "name": "stdout",
     "output_type": "stream",
     "text": [
      "10\n",
      "20\n",
      "30\n",
      "40\n",
      "50\n",
      "60\n"
     ]
    }
   ],
   "source": [
    "x = (10,20,30,40,50,60)\n",
    "\n",
    "i = 0\n",
    "while i < len(x):\n",
    "    print(x[i])\n",
    "    i = i + 1"
   ]
  },
  {
   "cell_type": "code",
   "execution_count": 50,
   "id": "2d933036",
   "metadata": {},
   "outputs": [
    {
     "name": "stdout",
     "output_type": "stream",
     "text": [
      "10\n",
      "20\n",
      "30\n",
      "40\n",
      "50\n",
      "60\n"
     ]
    }
   ],
   "source": [
    "x = (10,20,30,40,50,60)\n",
    "for i in x:\n",
    "    print(i)"
   ]
  },
  {
   "cell_type": "code",
   "execution_count": 51,
   "id": "76cc5514",
   "metadata": {},
   "outputs": [],
   "source": [
    "# join"
   ]
  },
  {
   "cell_type": "code",
   "execution_count": 52,
   "id": "529fd351",
   "metadata": {},
   "outputs": [
    {
     "name": "stdout",
     "output_type": "stream",
     "text": [
      "(10, 20, 30, 40, 50, 60)\n"
     ]
    }
   ],
   "source": [
    "x = (10,20,30)\n",
    "y = (40,50,60)\n",
    "print(x+y)"
   ]
  },
  {
   "cell_type": "markdown",
   "id": "54e20601",
   "metadata": {},
   "source": [
    "# range"
   ]
  },
  {
   "cell_type": "code",
   "execution_count": 53,
   "id": "7b5bbc87",
   "metadata": {},
   "outputs": [
    {
     "data": {
      "text/plain": [
       "range(0, 10)"
      ]
     },
     "execution_count": 53,
     "metadata": {},
     "output_type": "execute_result"
    }
   ],
   "source": [
    "x = range(10)\n",
    "x"
   ]
  },
  {
   "cell_type": "code",
   "execution_count": 54,
   "id": "5338e13a",
   "metadata": {},
   "outputs": [
    {
     "name": "stdout",
     "output_type": "stream",
     "text": [
      "0\n",
      "1\n",
      "2\n",
      "3\n",
      "4\n",
      "5\n",
      "6\n",
      "7\n",
      "8\n",
      "9\n"
     ]
    }
   ],
   "source": [
    "for i in range(10):\n",
    "    print(i)"
   ]
  },
  {
   "cell_type": "code",
   "execution_count": 56,
   "id": "0be51f85",
   "metadata": {},
   "outputs": [
    {
     "name": "stdout",
     "output_type": "stream",
     "text": [
      "2\n",
      "3\n",
      "4\n",
      "5\n",
      "6\n",
      "7\n",
      "8\n",
      "9\n"
     ]
    }
   ],
   "source": [
    "for i in range(2,10):\n",
    "    print(i)"
   ]
  },
  {
   "cell_type": "code",
   "execution_count": 57,
   "id": "3e60290a",
   "metadata": {},
   "outputs": [
    {
     "name": "stdout",
     "output_type": "stream",
     "text": [
      "1\n",
      "3\n",
      "5\n",
      "7\n",
      "9\n"
     ]
    }
   ],
   "source": [
    "for i in range(1,10,2):\n",
    "    print(i)"
   ]
  },
  {
   "cell_type": "markdown",
   "id": "4c3e2aaa",
   "metadata": {},
   "source": [
    "# set"
   ]
  },
  {
   "cell_type": "code",
   "execution_count": 1,
   "id": "f741f16d",
   "metadata": {},
   "outputs": [
    {
     "data": {
      "text/plain": [
       "{1, 2, 3, 4, 5, 6}"
      ]
     },
     "execution_count": 1,
     "metadata": {},
     "output_type": "execute_result"
    }
   ],
   "source": [
    "x= {1,2,3,4,5,6}\n",
    "x"
   ]
  },
  {
   "cell_type": "code",
   "execution_count": 2,
   "id": "8cedfb65",
   "metadata": {},
   "outputs": [
    {
     "name": "stdout",
     "output_type": "stream",
     "text": [
      "<class 'set'>\n",
      "6\n"
     ]
    }
   ],
   "source": [
    "print(type(x))\n",
    "print(len(x))"
   ]
  },
  {
   "cell_type": "code",
   "execution_count": 3,
   "id": "1e35e01d",
   "metadata": {},
   "outputs": [
    {
     "data": {
      "text/plain": [
       "{2, 3, 4, 6, 7, 8, 9}"
      ]
     },
     "execution_count": 3,
     "metadata": {},
     "output_type": "execute_result"
    }
   ],
   "source": [
    "x = {4,2,4,6,7,8,9,2,3,4,4,4,4,4}\n",
    "x"
   ]
  },
  {
   "cell_type": "code",
   "execution_count": 4,
   "id": "22f05eee",
   "metadata": {},
   "outputs": [
    {
     "name": "stdout",
     "output_type": "stream",
     "text": [
      "{64, 35, 678, 70, 45, 21, 24}\n"
     ]
    }
   ],
   "source": [
    "x = [35,24,64,678,45,35,35,21,70]\n",
    "print(set(x))"
   ]
  },
  {
   "cell_type": "code",
   "execution_count": 5,
   "id": "9014a98b",
   "metadata": {},
   "outputs": [],
   "source": [
    "# add : add,update"
   ]
  },
  {
   "cell_type": "code",
   "execution_count": 6,
   "id": "fc3aabb7",
   "metadata": {},
   "outputs": [
    {
     "data": {
      "text/plain": [
       "{12, 32, 43, 45, 54, 56, 89, 100}"
      ]
     },
     "execution_count": 6,
     "metadata": {},
     "output_type": "execute_result"
    }
   ],
   "source": [
    "x = {12,43,56,45,32,89,54}\n",
    "x.add(100)\n",
    "x"
   ]
  },
  {
   "cell_type": "code",
   "execution_count": 7,
   "id": "72bd6bf3",
   "metadata": {},
   "outputs": [
    {
     "data": {
      "text/plain": [
       "{10, 20, 30, 40, 50, 70, 80, 90}"
      ]
     },
     "execution_count": 7,
     "metadata": {},
     "output_type": "execute_result"
    }
   ],
   "source": [
    "x = {10,30,40,20}\n",
    "y = {70,90,80,50}\n",
    "x.update(y)\n",
    "x"
   ]
  },
  {
   "cell_type": "code",
   "execution_count": 10,
   "id": "a7caed1c",
   "metadata": {},
   "outputs": [
    {
     "data": {
      "text/plain": [
       "{10, 20, 30, 40, 50, 70, 80, 90}"
      ]
     },
     "execution_count": 10,
     "metadata": {},
     "output_type": "execute_result"
    }
   ],
   "source": [
    "x = {10,30,40,20}\n",
    "y = {70,90,80,50}\n",
    "z = x.union(y)\n",
    "z"
   ]
  },
  {
   "cell_type": "code",
   "execution_count": 11,
   "id": "09d85693",
   "metadata": {},
   "outputs": [],
   "source": [
    "# remove : remove,discard,clear"
   ]
  },
  {
   "cell_type": "code",
   "execution_count": 12,
   "id": "936f3a63",
   "metadata": {},
   "outputs": [
    {
     "data": {
      "text/plain": [
       "{12, 34, 43, 56, 78}"
      ]
     },
     "execution_count": 12,
     "metadata": {},
     "output_type": "execute_result"
    }
   ],
   "source": [
    "x = {12,34,21,56,43,78}\n",
    "x.remove(21)\n",
    "x"
   ]
  },
  {
   "cell_type": "code",
   "execution_count": 13,
   "id": "e60fb32f",
   "metadata": {},
   "outputs": [
    {
     "data": {
      "text/plain": [
       "{12, 34, 43, 56, 78}"
      ]
     },
     "execution_count": 13,
     "metadata": {},
     "output_type": "execute_result"
    }
   ],
   "source": [
    "x = {12,34,21,56,43,78}\n",
    "x.discard(21)\n",
    "x"
   ]
  },
  {
   "cell_type": "code",
   "execution_count": 14,
   "id": "a391926d",
   "metadata": {},
   "outputs": [
    {
     "data": {
      "text/plain": [
       "set()"
      ]
     },
     "execution_count": 14,
     "metadata": {},
     "output_type": "execute_result"
    }
   ],
   "source": [
    "x = {12,34,21,56,43,78}\n",
    "x.clear()\n",
    "x"
   ]
  },
  {
   "cell_type": "code",
   "execution_count": 16,
   "id": "f230568e",
   "metadata": {},
   "outputs": [],
   "source": [
    "# loop  : for"
   ]
  },
  {
   "cell_type": "code",
   "execution_count": 17,
   "id": "178d42b5",
   "metadata": {},
   "outputs": [
    {
     "name": "stdout",
     "output_type": "stream",
     "text": [
      "34\n",
      "21\n",
      "56\n",
      "43\n",
      "12\n",
      "78\n"
     ]
    }
   ],
   "source": [
    "x = {12,34,21,56,43,78}\n",
    "\n",
    "for i in x:\n",
    "    print(i)"
   ]
  },
  {
   "cell_type": "code",
   "execution_count": 18,
   "id": "d7974095",
   "metadata": {},
   "outputs": [
    {
     "data": {
      "text/plain": [
       "{12, 21, 34, 43, 56, 78}"
      ]
     },
     "execution_count": 18,
     "metadata": {},
     "output_type": "execute_result"
    }
   ],
   "source": [
    "x"
   ]
  },
  {
   "cell_type": "code",
   "execution_count": 26,
   "id": "d4f493cf",
   "metadata": {},
   "outputs": [
    {
     "name": "stdout",
     "output_type": "stream",
     "text": [
      "{56, 34, 12, 78}\n"
     ]
    }
   ],
   "source": [
    "y = []\n",
    "\n",
    "for i in x:\n",
    "    if i%2==0:\n",
    "        y.append(i)\n",
    "print(set(y))"
   ]
  },
  {
   "cell_type": "code",
   "execution_count": 28,
   "id": "17e681ee",
   "metadata": {},
   "outputs": [
    {
     "data": {
      "text/plain": [
       "{1, 2, 3}"
      ]
     },
     "execution_count": 28,
     "metadata": {},
     "output_type": "execute_result"
    }
   ],
   "source": [
    "a = {1,2,3,4,5}\n",
    "b = {4,5,6,7,8}\n",
    "\n",
    "z = a.difference(b)\n",
    "z"
   ]
  },
  {
   "cell_type": "code",
   "execution_count": 29,
   "id": "005b20c9",
   "metadata": {},
   "outputs": [
    {
     "data": {
      "text/plain": [
       "{6, 7, 8}"
      ]
     },
     "execution_count": 29,
     "metadata": {},
     "output_type": "execute_result"
    }
   ],
   "source": [
    "b.difference_update(a)\n",
    "b"
   ]
  },
  {
   "cell_type": "code",
   "execution_count": 30,
   "id": "cb383656",
   "metadata": {},
   "outputs": [
    {
     "data": {
      "text/plain": [
       "{4, 5}"
      ]
     },
     "execution_count": 30,
     "metadata": {},
     "output_type": "execute_result"
    }
   ],
   "source": [
    "a = {1,2,3,4,5}\n",
    "b = {4,5,6,7,8}\n",
    "\n",
    "z = a.intersection(b)\n",
    "z"
   ]
  },
  {
   "cell_type": "code",
   "execution_count": 31,
   "id": "13764460",
   "metadata": {},
   "outputs": [
    {
     "data": {
      "text/plain": [
       "{4, 5}"
      ]
     },
     "execution_count": 31,
     "metadata": {},
     "output_type": "execute_result"
    }
   ],
   "source": [
    "b.intersection_update(a)\n",
    "b"
   ]
  },
  {
   "cell_type": "code",
   "execution_count": 32,
   "id": "61865489",
   "metadata": {},
   "outputs": [
    {
     "data": {
      "text/plain": [
       "{1, 2, 3, 6, 7, 8}"
      ]
     },
     "execution_count": 32,
     "metadata": {},
     "output_type": "execute_result"
    }
   ],
   "source": [
    "a = {1,2,3,4,5}\n",
    "b = {4,5,6,7,8}\n",
    "\n",
    "z = a.symmetric_difference(b)\n",
    "z"
   ]
  },
  {
   "cell_type": "code",
   "execution_count": 33,
   "id": "e2395c0d",
   "metadata": {},
   "outputs": [
    {
     "data": {
      "text/plain": [
       "{1, 2, 3, 6, 7, 8}"
      ]
     },
     "execution_count": 33,
     "metadata": {},
     "output_type": "execute_result"
    }
   ],
   "source": [
    "b.symmetric_difference_update(a)\n",
    "b"
   ]
  },
  {
   "cell_type": "code",
   "execution_count": null,
   "id": "387365be",
   "metadata": {},
   "outputs": [],
   "source": []
  },
  {
   "cell_type": "code",
   "execution_count": 37,
   "id": "75c916b0",
   "metadata": {},
   "outputs": [
    {
     "data": {
      "text/plain": [
       "True"
      ]
     },
     "execution_count": 37,
     "metadata": {},
     "output_type": "execute_result"
    }
   ],
   "source": [
    "x = {1,2,3}\n",
    "y = {1,2,3,4,5,6}\n",
    "\n",
    "\n",
    "z= x.issubset(y)\n",
    "z"
   ]
  },
  {
   "cell_type": "code",
   "execution_count": 39,
   "id": "c4254244",
   "metadata": {},
   "outputs": [
    {
     "data": {
      "text/plain": [
       "True"
      ]
     },
     "execution_count": 39,
     "metadata": {},
     "output_type": "execute_result"
    }
   ],
   "source": [
    "x = {1,2,3,4,5,6,7}\n",
    "y = {1,2,3}\n",
    "\n",
    "z = x.issuperset(y)\n",
    "z"
   ]
  },
  {
   "cell_type": "code",
   "execution_count": 40,
   "id": "d286963c",
   "metadata": {},
   "outputs": [
    {
     "name": "stdout",
     "output_type": "stream",
     "text": [
      "{1, 2, 3, 4, 5, 6}\n"
     ]
    }
   ],
   "source": [
    "y = {1,2,3}\n",
    "x = {4,5,6}\n",
    "print(x.union(y))"
   ]
  },
  {
   "cell_type": "code",
   "execution_count": 41,
   "id": "c33ed259",
   "metadata": {},
   "outputs": [
    {
     "data": {
      "text/plain": [
       "{1, 2, 3, 4, 5, 6}"
      ]
     },
     "execution_count": 41,
     "metadata": {},
     "output_type": "execute_result"
    }
   ],
   "source": [
    "x = {1,2,3}\n",
    "y = {1,2,3,4,5,6}\n",
    "x.union(y)"
   ]
  },
  {
   "cell_type": "code",
   "execution_count": 43,
   "id": "951a7fc7",
   "metadata": {},
   "outputs": [
    {
     "data": {
      "text/plain": [
       "['__and__',\n",
       " '__class__',\n",
       " '__class_getitem__',\n",
       " '__contains__',\n",
       " '__delattr__',\n",
       " '__dir__',\n",
       " '__doc__',\n",
       " '__eq__',\n",
       " '__format__',\n",
       " '__ge__',\n",
       " '__getattribute__',\n",
       " '__gt__',\n",
       " '__hash__',\n",
       " '__iand__',\n",
       " '__init__',\n",
       " '__init_subclass__',\n",
       " '__ior__',\n",
       " '__isub__',\n",
       " '__iter__',\n",
       " '__ixor__',\n",
       " '__le__',\n",
       " '__len__',\n",
       " '__lt__',\n",
       " '__ne__',\n",
       " '__new__',\n",
       " '__or__',\n",
       " '__rand__',\n",
       " '__reduce__',\n",
       " '__reduce_ex__',\n",
       " '__repr__',\n",
       " '__ror__',\n",
       " '__rsub__',\n",
       " '__rxor__',\n",
       " '__setattr__',\n",
       " '__sizeof__',\n",
       " '__str__',\n",
       " '__sub__',\n",
       " '__subclasshook__',\n",
       " '__xor__',\n",
       " 'add',\n",
       " 'clear',\n",
       " 'copy',\n",
       " 'difference',\n",
       " 'difference_update',\n",
       " 'discard',\n",
       " 'intersection',\n",
       " 'intersection_update',\n",
       " 'isdisjoint',\n",
       " 'issubset',\n",
       " 'issuperset',\n",
       " 'pop',\n",
       " 'remove',\n",
       " 'symmetric_difference',\n",
       " 'symmetric_difference_update',\n",
       " 'union',\n",
       " 'update']"
      ]
     },
     "execution_count": 43,
     "metadata": {},
     "output_type": "execute_result"
    }
   ],
   "source": [
    "dir(set)"
   ]
  },
  {
   "cell_type": "markdown",
   "id": "6da30d86",
   "metadata": {},
   "source": [
    "# dict"
   ]
  },
  {
   "cell_type": "code",
   "execution_count": 1,
   "id": "c3a32fc0",
   "metadata": {},
   "outputs": [
    {
     "name": "stdout",
     "output_type": "stream",
     "text": [
      "{'a': 1, 'b': 2, 'c': 3}\n",
      "<class 'dict'>\n",
      "3\n"
     ]
    }
   ],
   "source": [
    "x = {'a':1,'b':2,'c':3}\n",
    "print(x)\n",
    "print(type(x))\n",
    "print(len(x))"
   ]
  },
  {
   "cell_type": "code",
   "execution_count": 2,
   "id": "6165be02",
   "metadata": {},
   "outputs": [
    {
     "data": {
      "text/plain": [
       "dict_keys(['a', 'b', 'c'])"
      ]
     },
     "execution_count": 2,
     "metadata": {},
     "output_type": "execute_result"
    }
   ],
   "source": [
    "x.keys()"
   ]
  },
  {
   "cell_type": "code",
   "execution_count": 3,
   "id": "18b6ecb5",
   "metadata": {},
   "outputs": [
    {
     "data": {
      "text/plain": [
       "dict_values([1, 2, 3])"
      ]
     },
     "execution_count": 3,
     "metadata": {},
     "output_type": "execute_result"
    }
   ],
   "source": [
    "x.values()"
   ]
  },
  {
   "cell_type": "code",
   "execution_count": 4,
   "id": "6c72dd23",
   "metadata": {},
   "outputs": [
    {
     "data": {
      "text/plain": [
       "dict_items([('a', 1), ('b', 2), ('c', 3)])"
      ]
     },
     "execution_count": 4,
     "metadata": {},
     "output_type": "execute_result"
    }
   ],
   "source": [
    "x.items()"
   ]
  },
  {
   "cell_type": "code",
   "execution_count": 5,
   "id": "8024c48b",
   "metadata": {},
   "outputs": [],
   "source": [
    "# Access"
   ]
  },
  {
   "cell_type": "code",
   "execution_count": 7,
   "id": "f4689475",
   "metadata": {},
   "outputs": [
    {
     "name": "stdout",
     "output_type": "stream",
     "text": [
      "2\n"
     ]
    }
   ],
   "source": [
    "x = {'a':1,'b':2,'c':3}\n",
    "print(x['b'])\n"
   ]
  },
  {
   "cell_type": "code",
   "execution_count": 8,
   "id": "9c01aecb",
   "metadata": {},
   "outputs": [],
   "source": [
    "# change"
   ]
  },
  {
   "cell_type": "code",
   "execution_count": 9,
   "id": "402acfa4",
   "metadata": {},
   "outputs": [
    {
     "data": {
      "text/plain": [
       "{'a': 1, 'b': 2, 'c': 10}"
      ]
     },
     "execution_count": 9,
     "metadata": {},
     "output_type": "execute_result"
    }
   ],
   "source": [
    "x = {'a':1,'b':2,'c':3}\n",
    "x['c']=10\n",
    "x"
   ]
  },
  {
   "cell_type": "code",
   "execution_count": 10,
   "id": "c211457a",
   "metadata": {},
   "outputs": [],
   "source": [
    "# add"
   ]
  },
  {
   "cell_type": "code",
   "execution_count": 11,
   "id": "5b34d2d0",
   "metadata": {},
   "outputs": [
    {
     "data": {
      "text/plain": [
       "{'a': 1, 'b': 2, 'c': 3, 'd': 20}"
      ]
     },
     "execution_count": 11,
     "metadata": {},
     "output_type": "execute_result"
    }
   ],
   "source": [
    "x = {'a':1,'b':2,'c':3}\n",
    "x['d'] = 20\n",
    "x"
   ]
  },
  {
   "cell_type": "code",
   "execution_count": 12,
   "id": "5b1a5b7c",
   "metadata": {},
   "outputs": [
    {
     "data": {
      "text/plain": [
       "{'a': 1, 'b': 2, 'c': 3, 'e': 30}"
      ]
     },
     "execution_count": 12,
     "metadata": {},
     "output_type": "execute_result"
    }
   ],
   "source": [
    "x = {'a':1,'b':2,'c':3}\n",
    "x.update({'e':30})\n",
    "x"
   ]
  },
  {
   "cell_type": "code",
   "execution_count": 13,
   "id": "4f1b6bae",
   "metadata": {},
   "outputs": [],
   "source": [
    "# remove : pop,popitem,del,clear"
   ]
  },
  {
   "cell_type": "code",
   "execution_count": 14,
   "id": "1c044a0d",
   "metadata": {},
   "outputs": [
    {
     "data": {
      "text/plain": [
       "{'a': 1, 'c': 3}"
      ]
     },
     "execution_count": 14,
     "metadata": {},
     "output_type": "execute_result"
    }
   ],
   "source": [
    "x = {'a':1,'b':2,'c':3}\n",
    "x.pop('b')\n",
    "x"
   ]
  },
  {
   "cell_type": "code",
   "execution_count": 18,
   "id": "6c084912",
   "metadata": {},
   "outputs": [
    {
     "data": {
      "text/plain": [
       "{'a': 1, 'c': 3}"
      ]
     },
     "execution_count": 18,
     "metadata": {},
     "output_type": "execute_result"
    }
   ],
   "source": [
    "x = {'a':1,'b':2,'c':3}\n",
    "del x['b']\n",
    "x"
   ]
  },
  {
   "cell_type": "code",
   "execution_count": 19,
   "id": "26275f3a",
   "metadata": {},
   "outputs": [
    {
     "data": {
      "text/plain": [
       "{}"
      ]
     },
     "execution_count": 19,
     "metadata": {},
     "output_type": "execute_result"
    }
   ],
   "source": [
    "x = {'a':1,'b':2,'c':3}\n",
    "x.clear()\n",
    "x"
   ]
  },
  {
   "cell_type": "code",
   "execution_count": 20,
   "id": "4f009760",
   "metadata": {},
   "outputs": [],
   "source": [
    "# loop : for"
   ]
  },
  {
   "cell_type": "code",
   "execution_count": 21,
   "id": "f9347d25",
   "metadata": {},
   "outputs": [
    {
     "name": "stdout",
     "output_type": "stream",
     "text": [
      "a\n",
      "b\n",
      "c\n"
     ]
    }
   ],
   "source": [
    "x = {'a':1,'b':2,'c':3}\n",
    "for i in x:\n",
    "    print(i)"
   ]
  },
  {
   "cell_type": "code",
   "execution_count": 22,
   "id": "1f399bbc",
   "metadata": {},
   "outputs": [
    {
     "name": "stdout",
     "output_type": "stream",
     "text": [
      "a\n",
      "b\n",
      "c\n"
     ]
    }
   ],
   "source": [
    "x = {'a':1,'b':2,'c':3}\n",
    "for i in x.keys():\n",
    "    print(i)"
   ]
  },
  {
   "cell_type": "code",
   "execution_count": 23,
   "id": "911aa532",
   "metadata": {},
   "outputs": [
    {
     "name": "stdout",
     "output_type": "stream",
     "text": [
      "1\n",
      "2\n",
      "3\n"
     ]
    }
   ],
   "source": [
    "x = {'a':1,'b':2,'c':3}\n",
    "for i in x.values():\n",
    "    print(i)"
   ]
  },
  {
   "cell_type": "code",
   "execution_count": 24,
   "id": "6e75a4db",
   "metadata": {},
   "outputs": [
    {
     "name": "stdout",
     "output_type": "stream",
     "text": [
      "('a', 1)\n",
      "('b', 2)\n",
      "('c', 3)\n"
     ]
    }
   ],
   "source": [
    "x = {'a':1,'b':2,'c':3}\n",
    "for i in x.items():\n",
    "    print(i)"
   ]
  },
  {
   "cell_type": "code",
   "execution_count": 25,
   "id": "8edcf4ec",
   "metadata": {},
   "outputs": [
    {
     "name": "stdout",
     "output_type": "stream",
     "text": [
      "a 1\n",
      "b 2\n",
      "c 3\n"
     ]
    }
   ],
   "source": [
    "x = {'a':1,'b':2,'c':3}\n",
    "for i,j in x.items():\n",
    "    print(i,j)"
   ]
  },
  {
   "cell_type": "code",
   "execution_count": 26,
   "id": "f30203f9",
   "metadata": {},
   "outputs": [],
   "source": [
    "# nasted"
   ]
  },
  {
   "cell_type": "code",
   "execution_count": 27,
   "id": "da55a295",
   "metadata": {},
   "outputs": [
    {
     "data": {
      "text/plain": [
       "{'a': {'q': 1, 'w': 2}, 'b': {'e': 3, 'r': 4}, 'c': {'t': 5, 'y': 6}}"
      ]
     },
     "execution_count": 27,
     "metadata": {},
     "output_type": "execute_result"
    }
   ],
   "source": [
    "x = { 'a': {'q':1,'w':2}, 'b': {'e':3,'r':4}, 'c': {'t':5,'y':6}}\n",
    "x"
   ]
  },
  {
   "cell_type": "code",
   "execution_count": 28,
   "id": "ad80406f",
   "metadata": {},
   "outputs": [
    {
     "data": {
      "text/plain": [
       "dict_keys(['a', 'b', 'c'])"
      ]
     },
     "execution_count": 28,
     "metadata": {},
     "output_type": "execute_result"
    }
   ],
   "source": [
    "x.keys()"
   ]
  },
  {
   "cell_type": "code",
   "execution_count": 29,
   "id": "a39e2627",
   "metadata": {},
   "outputs": [
    {
     "data": {
      "text/plain": [
       "dict_values([{'q': 1, 'w': 2}, {'e': 3, 'r': 4}, {'t': 5, 'y': 6}])"
      ]
     },
     "execution_count": 29,
     "metadata": {},
     "output_type": "execute_result"
    }
   ],
   "source": [
    "x.values()"
   ]
  },
  {
   "cell_type": "code",
   "execution_count": 33,
   "id": "3306bfe0",
   "metadata": {},
   "outputs": [
    {
     "name": "stdout",
     "output_type": "stream",
     "text": [
      "('a', {'q': 1, 'w': 2})\n",
      "('b', {'e': 3, 'r': 4})\n",
      "('c', {'t': 5, 'y': 6})\n"
     ]
    }
   ],
   "source": [
    "for i in x.items():\n",
    "    print(i)"
   ]
  },
  {
   "cell_type": "code",
   "execution_count": 36,
   "id": "ade10eec",
   "metadata": {},
   "outputs": [
    {
     "data": {
      "text/plain": [
       "{'a': {'a': 1, 'b': 2}, 'b': {'e': 3, 'r': 4}, 'c': {'t': 5, 'y': 6}}"
      ]
     },
     "execution_count": 36,
     "metadata": {},
     "output_type": "execute_result"
    }
   ],
   "source": [
    "x = { 'a': {'a':1,'b':2}, 'b': {'e':3,'r':4}, 'c': {'t':5,'y':6}}\n",
    "x"
   ]
  },
  {
   "cell_type": "code",
   "execution_count": 37,
   "id": "a74fdb18",
   "metadata": {},
   "outputs": [],
   "source": [
    "# {1:1,2:4,3:9,4:16,5:25}"
   ]
  },
  {
   "cell_type": "code",
   "execution_count": 42,
   "id": "4fa5e311",
   "metadata": {},
   "outputs": [
    {
     "name": "stdout",
     "output_type": "stream",
     "text": [
      "range(0, 16)\n"
     ]
    }
   ],
   "source": [
    "x = range(16)\n",
    "print(x)"
   ]
  },
  {
   "cell_type": "code",
   "execution_count": 68,
   "id": "1a55a177",
   "metadata": {
    "scrolled": true
   },
   "outputs": [
    {
     "name": "stdout",
     "output_type": "stream",
     "text": [
      "{1: 1, 2: 4, 3: 9, 4: 16, 5: 25, 6: 36, 7: 49, 8: 64, 9: 81, 10: 100, 11: 121, 12: 144, 13: 169, 14: 196, 15: 225}\n"
     ]
    }
   ],
   "source": [
    "x= {}\n",
    "\n",
    "for i in range(1,16):\n",
    "    x[i] = i**2\n",
    "print(x)"
   ]
  },
  {
   "cell_type": "code",
   "execution_count": 98,
   "id": "ec5507ca",
   "metadata": {},
   "outputs": [
    {
     "data": {
      "text/plain": [
       "[1, 2, 3, 6, 7, 8, 9, 10, 11, 12, 13, 14, 15]"
      ]
     },
     "execution_count": 98,
     "metadata": {},
     "output_type": "execute_result"
    }
   ],
   "source": [
    "y = list(x)\n",
    "y"
   ]
  },
  {
   "cell_type": "code",
   "execution_count": 99,
   "id": "ac570c19",
   "metadata": {},
   "outputs": [
    {
     "name": "stdout",
     "output_type": "stream",
     "text": [
      "[1, 2, 3, 6, 7]\n"
     ]
    }
   ],
   "source": [
    "print(y[:5])"
   ]
  },
  {
   "cell_type": "code",
   "execution_count": 107,
   "id": "2fec2c68",
   "metadata": {},
   "outputs": [
    {
     "name": "stdout",
     "output_type": "stream",
     "text": [
      "[(1, 1), (2, 4), (3, 9), (6, 36), (7, 49)]\n"
     ]
    }
   ],
   "source": [
    "y = list(dict.items(x))\n",
    "print(y[:5])"
   ]
  },
  {
   "cell_type": "code",
   "execution_count": 109,
   "id": "9dd12b02",
   "metadata": {},
   "outputs": [
    {
     "name": "stdout",
     "output_type": "stream",
     "text": [
      "[(11, 121), (12, 144), (13, 169), (14, 196), (15, 225)]\n"
     ]
    }
   ],
   "source": [
    "print(y[-5:])"
   ]
  },
  {
   "cell_type": "markdown",
   "id": "4182b199",
   "metadata": {},
   "source": [
    "# if else"
   ]
  },
  {
   "cell_type": "code",
   "execution_count": 1,
   "id": "49308874",
   "metadata": {},
   "outputs": [
    {
     "name": "stdout",
     "output_type": "stream",
     "text": [
      "y\n"
     ]
    }
   ],
   "source": [
    "x = 10\n",
    "\n",
    "if x<20:\n",
    "    print('y')"
   ]
  },
  {
   "cell_type": "code",
   "execution_count": 2,
   "id": "0f2325f6",
   "metadata": {},
   "outputs": [
    {
     "name": "stdout",
     "output_type": "stream",
     "text": [
      "n\n"
     ]
    }
   ],
   "source": [
    "x = 10\n",
    "\n",
    "if x<2:\n",
    "    print('y')\n",
    "else:\n",
    "    print('n')"
   ]
  },
  {
   "cell_type": "code",
   "execution_count": 3,
   "id": "0ec064e0",
   "metadata": {},
   "outputs": [
    {
     "name": "stdout",
     "output_type": "stream",
     "text": [
      "yy\n"
     ]
    }
   ],
   "source": [
    "x = 10\n",
    "\n",
    "if x<2:\n",
    "    print('y')\n",
    "elif x>5:\n",
    "    print('yy')\n",
    "else:\n",
    "    print('n')"
   ]
  },
  {
   "cell_type": "code",
   "execution_count": 4,
   "id": "c802d3ce",
   "metadata": {},
   "outputs": [
    {
     "name": "stdout",
     "output_type": "stream",
     "text": [
      "n\n"
     ]
    }
   ],
   "source": [
    "x = 10\n",
    "\n",
    "if x<2:\n",
    "    print('y')\n",
    "elif x>15:\n",
    "    print('yy')\n",
    "else:\n",
    "    print('n')"
   ]
  },
  {
   "cell_type": "code",
   "execution_count": 5,
   "id": "8c66abd1",
   "metadata": {},
   "outputs": [
    {
     "name": "stdout",
     "output_type": "stream",
     "text": [
      "yyy\n"
     ]
    }
   ],
   "source": [
    "x = 10\n",
    "\n",
    "if x<2:\n",
    "    print('y')\n",
    "elif x>15:\n",
    "    print('yy')\n",
    "elif x<=10:\n",
    "    print('yyy')\n",
    "else:\n",
    "    print('n')"
   ]
  },
  {
   "cell_type": "code",
   "execution_count": 6,
   "id": "16c455eb",
   "metadata": {},
   "outputs": [
    {
     "name": "stdout",
     "output_type": "stream",
     "text": [
      "y\n"
     ]
    }
   ],
   "source": [
    "x = 10\n",
    "\n",
    "if x<20 and x>3:\n",
    "    print('y')\n",
    "else:\n",
    "    print('n')"
   ]
  },
  {
   "cell_type": "code",
   "execution_count": 8,
   "id": "15b9db48",
   "metadata": {},
   "outputs": [
    {
     "name": "stdout",
     "output_type": "stream",
     "text": [
      "n\n"
     ]
    }
   ],
   "source": [
    "x = 10\n",
    "\n",
    "if x>20 and x>3 and x<=10:\n",
    "    print('y')\n",
    "else:\n",
    "    print('n')"
   ]
  },
  {
   "cell_type": "code",
   "execution_count": 9,
   "id": "065da691",
   "metadata": {},
   "outputs": [
    {
     "name": "stdout",
     "output_type": "stream",
     "text": [
      "y\n"
     ]
    }
   ],
   "source": [
    "x = 10\n",
    "\n",
    "if x>20 or x>3:\n",
    "    print('y')\n",
    "else:\n",
    "    print('n')"
   ]
  },
  {
   "cell_type": "code",
   "execution_count": 10,
   "id": "e42537cd",
   "metadata": {},
   "outputs": [
    {
     "name": "stdout",
     "output_type": "stream",
     "text": [
      "n\n"
     ]
    }
   ],
   "source": [
    "x = 10\n",
    "\n",
    "if x>20 or x<3:\n",
    "    print('y')\n",
    "else:\n",
    "    print('n')"
   ]
  },
  {
   "cell_type": "code",
   "execution_count": 11,
   "id": "9e09abf4",
   "metadata": {},
   "outputs": [
    {
     "name": "stdout",
     "output_type": "stream",
     "text": [
      "y\n"
     ]
    }
   ],
   "source": [
    "x = 10\n",
    "\n",
    "if x>20 or x>3 or x>=20:\n",
    "    print('y')\n",
    "else:\n",
    "    print('n')"
   ]
  },
  {
   "cell_type": "code",
   "execution_count": 12,
   "id": "083123b3",
   "metadata": {},
   "outputs": [
    {
     "name": "stdout",
     "output_type": "stream",
     "text": [
      "y\n"
     ]
    }
   ],
   "source": [
    "x = 10\n",
    "\n",
    "if x<20:\n",
    "    if x>5:\n",
    "        print('y')"
   ]
  },
  {
   "cell_type": "code",
   "execution_count": 13,
   "id": "1b840194",
   "metadata": {},
   "outputs": [
    {
     "name": "stdout",
     "output_type": "stream",
     "text": [
      "n\n"
     ]
    }
   ],
   "source": [
    "x = 10\n",
    "\n",
    "if x<20:\n",
    "    if x<5:\n",
    "        print('y')\n",
    "    else:\n",
    "        print('n')"
   ]
  },
  {
   "cell_type": "code",
   "execution_count": 14,
   "id": "da6222fc",
   "metadata": {},
   "outputs": [
    {
     "name": "stdout",
     "output_type": "stream",
     "text": [
      "nn\n"
     ]
    }
   ],
   "source": [
    "x = 10\n",
    "\n",
    "if x>20:\n",
    "    if x>5:\n",
    "        print('y')\n",
    "    else:\n",
    "        print('n')\n",
    "else:\n",
    "    print('nn')"
   ]
  },
  {
   "cell_type": "code",
   "execution_count": 15,
   "id": "a5115e20",
   "metadata": {},
   "outputs": [
    {
     "name": "stdout",
     "output_type": "stream",
     "text": [
      "yy\n",
      "y\n"
     ]
    }
   ],
   "source": [
    "x = 10\n",
    "\n",
    "if x<20:\n",
    "    print('yy')\n",
    "    if x>5:\n",
    "        print('y')\n",
    "    else:\n",
    "        print('n')\n",
    "else:\n",
    "    print('nn')"
   ]
  },
  {
   "cell_type": "code",
   "execution_count": 29,
   "id": "f6e44841",
   "metadata": {},
   "outputs": [
    {
     "name": "stdout",
     "output_type": "stream",
     "text": [
      "fox\n"
     ]
    }
   ],
   "source": [
    "x = \"The quick brown fox jumps over the lazy dog\"\n",
    "y=x.split()\n",
    "print(y[3])"
   ]
  },
  {
   "cell_type": "code",
   "execution_count": 47,
   "id": "c6320356",
   "metadata": {},
   "outputs": [
    {
     "name": "stdout",
     "output_type": "stream",
     "text": [
      "y\n"
     ]
    }
   ],
   "source": [
    "x = \"The quick brown fox jumps over the lazy dog\"\n",
    "y=x.split()\n",
    "len(y)\n",
    "if len(y)>3:\n",
    "    print('y')\n"
   ]
  },
  {
   "cell_type": "code",
   "execution_count": 48,
   "id": "beba9b90",
   "metadata": {},
   "outputs": [
    {
     "data": {
      "text/plain": [
       "['The', 'quick', 'brown', 'fox', 'jumps', 'over', 'the', 'lazy', 'dog']"
      ]
     },
     "execution_count": 48,
     "metadata": {},
     "output_type": "execute_result"
    }
   ],
   "source": [
    "x = str.split(\"The quick brown fox jumps over the lazy dog\")\n",
    "x"
   ]
  },
  {
   "cell_type": "code",
   "execution_count": 50,
   "id": "8d7334d6",
   "metadata": {},
   "outputs": [
    {
     "name": "stdout",
     "output_type": "stream",
     "text": [
      "quick\n",
      "brown\n",
      "jumps\n"
     ]
    }
   ],
   "source": [
    "for i in x:\n",
    "    if len(i)>4:\n",
    "        print(i)"
   ]
  },
  {
   "cell_type": "markdown",
   "id": "531eb65e",
   "metadata": {},
   "source": [
    "# loop"
   ]
  },
  {
   "cell_type": "code",
   "execution_count": 4,
   "id": "aa0abb05",
   "metadata": {},
   "outputs": [
    {
     "name": "stdout",
     "output_type": "stream",
     "text": [
      "3\n",
      "4\n",
      "5\n",
      "6\n",
      "7\n",
      "8\n",
      "9\n",
      "10\n"
     ]
    }
   ],
   "source": [
    "i  = 3\n",
    "\n",
    "while i <= 10:\n",
    "    print(i)\n",
    "    i = i + 1"
   ]
  },
  {
   "cell_type": "code",
   "execution_count": 5,
   "id": "e7d0ac7e",
   "metadata": {},
   "outputs": [
    {
     "name": "stdout",
     "output_type": "stream",
     "text": [
      "1\n",
      "2\n",
      "3\n",
      "4\n",
      "5\n"
     ]
    }
   ],
   "source": [
    "i = 1\n",
    "\n",
    "while i < 10:\n",
    "    print(i)\n",
    "    if i == 5:\n",
    "        break\n",
    "    i = i + 1"
   ]
  },
  {
   "cell_type": "code",
   "execution_count": 6,
   "id": "3d653c95",
   "metadata": {},
   "outputs": [
    {
     "name": "stdout",
     "output_type": "stream",
     "text": [
      "2\n",
      "3\n",
      "4\n",
      "6\n",
      "7\n",
      "8\n",
      "9\n",
      "10\n"
     ]
    }
   ],
   "source": [
    "i = 1\n",
    "\n",
    "while i < 10:\n",
    "    i = i + 1\n",
    "    if i == 5:\n",
    "        continue\n",
    "    print(i)"
   ]
  },
  {
   "cell_type": "code",
   "execution_count": 7,
   "id": "a70eb9af",
   "metadata": {},
   "outputs": [
    {
     "name": "stdout",
     "output_type": "stream",
     "text": [
      "2\n",
      "3\n",
      "4\n",
      "6\n",
      "7\n",
      "8\n",
      "9\n",
      "10\n",
      "yes\n"
     ]
    }
   ],
   "source": [
    "i = 1\n",
    "\n",
    "while i < 10:\n",
    "    i = i + 1\n",
    "    if i == 5:\n",
    "        continue\n",
    "    print(i)\n",
    "else:\n",
    "    print('yes')"
   ]
  },
  {
   "cell_type": "code",
   "execution_count": 8,
   "id": "98765a71",
   "metadata": {},
   "outputs": [],
   "source": [
    "# for"
   ]
  },
  {
   "cell_type": "code",
   "execution_count": 9,
   "id": "ec4b6ae8",
   "metadata": {},
   "outputs": [
    {
     "name": "stdout",
     "output_type": "stream",
     "text": [
      "1\n",
      "2\n",
      "3\n",
      "4\n",
      "5\n",
      "6\n",
      "7\n",
      "8\n",
      "9\n"
     ]
    }
   ],
   "source": [
    "x = [1,2,3,4,5,6,7,8,9]\n",
    "\n",
    "for i in x:\n",
    "    print(i)"
   ]
  },
  {
   "cell_type": "code",
   "execution_count": 11,
   "id": "a1c1f5cf",
   "metadata": {},
   "outputs": [
    {
     "name": "stdout",
     "output_type": "stream",
     "text": [
      "1\n",
      "2\n",
      "3\n",
      "4\n"
     ]
    }
   ],
   "source": [
    "x = [1,2,3,4,5,6,7,8,9]\n",
    "\n",
    "for i in x:\n",
    "    if i == 5:\n",
    "        break\n",
    "    print(i)"
   ]
  },
  {
   "cell_type": "code",
   "execution_count": 13,
   "id": "593e4832",
   "metadata": {},
   "outputs": [
    {
     "name": "stdout",
     "output_type": "stream",
     "text": [
      "1\n",
      "2\n",
      "3\n",
      "4\n",
      "6\n",
      "7\n",
      "8\n",
      "9\n"
     ]
    }
   ],
   "source": [
    "x = [1,2,3,4,5,6,7,8,9]\n",
    "\n",
    "\n",
    "for i in x:\n",
    "    if i == 5:\n",
    "        continue\n",
    "    print(i)"
   ]
  },
  {
   "cell_type": "code",
   "execution_count": 14,
   "id": "5487b2b6",
   "metadata": {},
   "outputs": [
    {
     "name": "stdout",
     "output_type": "stream",
     "text": [
      "0\n",
      "1\n",
      "2\n",
      "3\n",
      "4\n",
      "5\n",
      "6\n",
      "7\n",
      "8\n",
      "9\n"
     ]
    }
   ],
   "source": [
    "for i in range(10):\n",
    "    print(i)"
   ]
  },
  {
   "cell_type": "code",
   "execution_count": 15,
   "id": "1e241e68",
   "metadata": {},
   "outputs": [
    {
     "name": "stdout",
     "output_type": "stream",
     "text": [
      "2\n",
      "3\n",
      "4\n",
      "5\n",
      "6\n",
      "7\n",
      "8\n",
      "9\n"
     ]
    }
   ],
   "source": [
    "for i in range(2,10):\n",
    "    print(i)"
   ]
  },
  {
   "cell_type": "code",
   "execution_count": 18,
   "id": "7255e517",
   "metadata": {},
   "outputs": [
    {
     "name": "stdout",
     "output_type": "stream",
     "text": [
      "1\n",
      "4\n",
      "7\n"
     ]
    }
   ],
   "source": [
    "for i in range(1,10,3):\n",
    "    print(i)"
   ]
  },
  {
   "cell_type": "code",
   "execution_count": 19,
   "id": "256260ea",
   "metadata": {},
   "outputs": [
    {
     "name": "stdout",
     "output_type": "stream",
     "text": [
      "1 10\n",
      "1 20\n",
      "1 30\n",
      "2 10\n",
      "2 20\n",
      "2 30\n",
      "3 10\n",
      "3 20\n",
      "3 30\n"
     ]
    }
   ],
   "source": [
    "x = [1,2,3]\n",
    "y = [10,20,30]\n",
    "\n",
    "for i in x:\n",
    "    for j in y:\n",
    "        print(i,j)"
   ]
  },
  {
   "cell_type": "code",
   "execution_count": 20,
   "id": "d888364f",
   "metadata": {},
   "outputs": [
    {
     "name": "stdout",
     "output_type": "stream",
     "text": [
      "10\n",
      "20\n",
      "30\n",
      "40\n",
      "50\n",
      "60\n"
     ]
    }
   ],
   "source": [
    "x = [10,20,30,40,50,60]\n",
    "\n",
    "for i in x:\n",
    "    print(i)"
   ]
  },
  {
   "cell_type": "code",
   "execution_count": 21,
   "id": "82cb161a",
   "metadata": {},
   "outputs": [
    {
     "data": {
      "text/plain": [
       "[10, 20, 30, 40, 50, 60]"
      ]
     },
     "execution_count": 21,
     "metadata": {},
     "output_type": "execute_result"
    }
   ],
   "source": [
    "x = [10,20,30,40,50,60]\n",
    "\n",
    "y = [i for i in x]\n",
    "y"
   ]
  },
  {
   "cell_type": "code",
   "execution_count": 23,
   "id": "ce14c4a0",
   "metadata": {},
   "outputs": [
    {
     "data": {
      "text/plain": [
       "['APPLE', 'BANANA', 'CHERRY', 'KIWI', 'ORANGE']"
      ]
     },
     "execution_count": 23,
     "metadata": {},
     "output_type": "execute_result"
    }
   ],
   "source": [
    "x = ['apple','banana','cherry','kiwi','orange']\n",
    "\n",
    "y = [i.upper() for i in x]\n",
    "y"
   ]
  },
  {
   "cell_type": "code",
   "execution_count": 24,
   "id": "9db36651",
   "metadata": {},
   "outputs": [],
   "source": [
    "y = [i for i in range(1,20) if i%2 ==0]"
   ]
  },
  {
   "cell_type": "code",
   "execution_count": 25,
   "id": "b4534bdd",
   "metadata": {},
   "outputs": [
    {
     "data": {
      "text/plain": [
       "[2, 4, 6, 8, 10, 12, 14, 16, 18]"
      ]
     },
     "execution_count": 25,
     "metadata": {},
     "output_type": "execute_result"
    }
   ],
   "source": [
    "y"
   ]
  },
  {
   "cell_type": "code",
   "execution_count": 26,
   "id": "5b1d48c4",
   "metadata": {},
   "outputs": [
    {
     "data": {
      "text/plain": [
       "['orange', 'banana', 'cherry', 'kiwi']"
      ]
     },
     "execution_count": 26,
     "metadata": {},
     "output_type": "execute_result"
    }
   ],
   "source": [
    "x = ['apple','banana','cherry','kiwi']\n",
    "\n",
    "y = [i if i!='apple' else 'orange' for i in x]\n",
    "y"
   ]
  },
  {
   "cell_type": "code",
   "execution_count": 30,
   "id": "fd602871",
   "metadata": {},
   "outputs": [
    {
     "data": {
      "text/plain": [
       "[10, 20]"
      ]
     },
     "execution_count": 30,
     "metadata": {},
     "output_type": "execute_result"
    }
   ],
   "source": [
    "y = [i for i in range(1,30) if i%2 ==0 and i%5==0]\n",
    "y"
   ]
  },
  {
   "cell_type": "code",
   "execution_count": 8,
   "id": "f3aa5aa5",
   "metadata": {},
   "outputs": [
    {
     "name": "stdout",
     "output_type": "stream",
     "text": [
      "[1, 2, 3, 10, 20, 30]\n"
     ]
    },
    {
     "ename": "NameError",
     "evalue": "name 'z' is not defined",
     "output_type": "error",
     "traceback": [
      "\u001b[1;31m---------------------------------------------------------------------------\u001b[0m",
      "\u001b[1;31mNameError\u001b[0m                                 Traceback (most recent call last)",
      "Input \u001b[1;32mIn [8]\u001b[0m, in \u001b[0;36m<cell line: 7>\u001b[1;34m()\u001b[0m\n\u001b[0;32m      5\u001b[0m     \u001b[38;5;28mprint\u001b[39m(z)\n\u001b[0;32m      6\u001b[0m myfun()\n\u001b[1;32m----> 7\u001b[0m \u001b[38;5;28mprint\u001b[39m(\u001b[43mz\u001b[49m)\n",
      "\u001b[1;31mNameError\u001b[0m: name 'z' is not defined"
     ]
    }
   ],
   "source": [
    "def myfun():\n",
    "    x = [1,2,3]\n",
    "    y = [10,20,30]\n",
    "    z = x + y\n",
    "    print(z)\n",
    "myfun()\n",
    "print(z)"
   ]
  },
  {
   "cell_type": "code",
   "execution_count": 9,
   "id": "1890c6ff",
   "metadata": {},
   "outputs": [
    {
     "name": "stdout",
     "output_type": "stream",
     "text": [
      "10\n"
     ]
    }
   ],
   "source": [
    "#local\n",
    "def myfun1():\n",
    "    x = 10\n",
    "    print(x)\n",
    "myfun1()    \n",
    "    "
   ]
  },
  {
   "cell_type": "code",
   "execution_count": 10,
   "id": "4b9407aa",
   "metadata": {},
   "outputs": [
    {
     "name": "stdout",
     "output_type": "stream",
     "text": [
      "10\n",
      "20\n"
     ]
    }
   ],
   "source": [
    "#Global\n",
    "x = 20\n",
    "def myfun1():\n",
    "    x = 10\n",
    "    print(x)\n",
    "myfun1()\n",
    "print(x)"
   ]
  },
  {
   "cell_type": "code",
   "execution_count": 11,
   "id": "f7b32db7",
   "metadata": {},
   "outputs": [
    {
     "data": {
      "text/plain": [
       "['__and__',\n",
       " '__class__',\n",
       " '__class_getitem__',\n",
       " '__contains__',\n",
       " '__delattr__',\n",
       " '__dir__',\n",
       " '__doc__',\n",
       " '__eq__',\n",
       " '__format__',\n",
       " '__ge__',\n",
       " '__getattribute__',\n",
       " '__gt__',\n",
       " '__hash__',\n",
       " '__iand__',\n",
       " '__init__',\n",
       " '__init_subclass__',\n",
       " '__ior__',\n",
       " '__isub__',\n",
       " '__iter__',\n",
       " '__ixor__',\n",
       " '__le__',\n",
       " '__len__',\n",
       " '__lt__',\n",
       " '__ne__',\n",
       " '__new__',\n",
       " '__or__',\n",
       " '__rand__',\n",
       " '__reduce__',\n",
       " '__reduce_ex__',\n",
       " '__repr__',\n",
       " '__ror__',\n",
       " '__rsub__',\n",
       " '__rxor__',\n",
       " '__setattr__',\n",
       " '__sizeof__',\n",
       " '__str__',\n",
       " '__sub__',\n",
       " '__subclasshook__',\n",
       " '__xor__',\n",
       " 'add',\n",
       " 'clear',\n",
       " 'copy',\n",
       " 'difference',\n",
       " 'difference_update',\n",
       " 'discard',\n",
       " 'intersection',\n",
       " 'intersection_update',\n",
       " 'isdisjoint',\n",
       " 'issubset',\n",
       " 'issuperset',\n",
       " 'pop',\n",
       " 'remove',\n",
       " 'symmetric_difference',\n",
       " 'symmetric_difference_update',\n",
       " 'union',\n",
       " 'update']"
      ]
     },
     "execution_count": 11,
     "metadata": {},
     "output_type": "execute_result"
    }
   ],
   "source": [
    "dir (set)"
   ]
  },
  {
   "cell_type": "markdown",
   "id": "bfa91bae",
   "metadata": {},
   "source": [
    "# class/object"
   ]
  },
  {
   "cell_type": "code",
   "execution_count": 12,
   "id": "63d793a2",
   "metadata": {},
   "outputs": [],
   "source": [
    "class Myclass1():\n",
    "    x = 10\n",
    "    y =20\n",
    "    z =30"
   ]
  },
  {
   "cell_type": "code",
   "execution_count": 13,
   "id": "1795ce88",
   "metadata": {},
   "outputs": [
    {
     "name": "stdout",
     "output_type": "stream",
     "text": [
      "10\n"
     ]
    }
   ],
   "source": [
    "a = Myclass1()\n",
    "print(a.x)"
   ]
  },
  {
   "cell_type": "code",
   "execution_count": 14,
   "id": "80920c0d",
   "metadata": {},
   "outputs": [
    {
     "name": "stdout",
     "output_type": "stream",
     "text": [
      "20\n"
     ]
    }
   ],
   "source": [
    "print(a.y)"
   ]
  },
  {
   "cell_type": "code",
   "execution_count": 15,
   "id": "53675da8",
   "metadata": {},
   "outputs": [
    {
     "name": "stdout",
     "output_type": "stream",
     "text": [
      "30\n"
     ]
    }
   ],
   "source": [
    "print(a.z)"
   ]
  },
  {
   "cell_type": "code",
   "execution_count": 10,
   "id": "37aa392a",
   "metadata": {},
   "outputs": [],
   "source": [
    "class Myclass2:\n",
    "    \n",
    "    def __init__(self,x,y):\n",
    "        self.X = x\n",
    "        self.Y = y\n",
    "        \n",
    "    def add(self):\n",
    "        print(self.X+self.Y)\n",
    "       \n",
    "    def sub(self):\n",
    "        print(self.X - self.Y)\n",
    "        \n",
    "    def mul(self):\n",
    "        print(self.X * self.Y)\n",
    "        \n",
    "    def div(self):\n",
    "        print(self.X/self.Y)"
   ]
  },
  {
   "cell_type": "code",
   "execution_count": 25,
   "id": "65b24236",
   "metadata": {},
   "outputs": [
    {
     "name": "stdout",
     "output_type": "stream",
     "text": [
      "30\n"
     ]
    }
   ],
   "source": [
    "aa = Myclass2(10,20)\n",
    "aa.add()"
   ]
  },
  {
   "cell_type": "code",
   "execution_count": 26,
   "id": "e0aec928",
   "metadata": {},
   "outputs": [
    {
     "name": "stdout",
     "output_type": "stream",
     "text": [
      "-10\n"
     ]
    }
   ],
   "source": [
    "aa.sub()"
   ]
  },
  {
   "cell_type": "code",
   "execution_count": 27,
   "id": "bd6f97b2",
   "metadata": {},
   "outputs": [
    {
     "data": {
      "text/plain": [
       "30"
      ]
     },
     "execution_count": 27,
     "metadata": {},
     "output_type": "execute_result"
    }
   ],
   "source": [
    "b = Myclass1()\n",
    "b.z"
   ]
  },
  {
   "cell_type": "code",
   "execution_count": 32,
   "id": "4d3601f1",
   "metadata": {},
   "outputs": [],
   "source": [
    "class Myclass3:\n",
    "    \n",
    "    def __init__(self,name,age):\n",
    "        self.N = name\n",
    "        self.A = age\n",
    "        \n",
    "    def myfunc1(self):\n",
    "        print('fhfhffhif',self.N ,'fihfioi',self.A)"
   ]
  },
  {
   "cell_type": "code",
   "execution_count": 33,
   "id": "1141dc7b",
   "metadata": {},
   "outputs": [
    {
     "name": "stdout",
     "output_type": "stream",
     "text": [
      "fhfhffhif Arpan fihfioi 26\n"
     ]
    }
   ],
   "source": [
    "aaa = Myclass3('Arpan',26)\n",
    "aaa.myfunc1()"
   ]
  },
  {
   "cell_type": "code",
   "execution_count": 43,
   "id": "f6c63c4a",
   "metadata": {},
   "outputs": [],
   "source": [
    "class Myclass4:\n",
    "    \n",
    "    def __init__(self,x,y):\n",
    "        self.X = x\n",
    "        self.Y = y\n",
    "        for i in x:\n",
    "            for j in i:\n",
    "                print(j)\n",
    "        "
   ]
  },
  {
   "cell_type": "code",
   "execution_count": 44,
   "id": "af0d0be8",
   "metadata": {},
   "outputs": [
    {
     "ename": "TypeError",
     "evalue": "'int' object is not iterable",
     "output_type": "error",
     "traceback": [
      "\u001b[1;31m---------------------------------------------------------------------------\u001b[0m",
      "\u001b[1;31mTypeError\u001b[0m                                 Traceback (most recent call last)",
      "Input \u001b[1;32mIn [44]\u001b[0m, in \u001b[0;36m<cell line: 1>\u001b[1;34m()\u001b[0m\n\u001b[1;32m----> 1\u001b[0m a \u001b[38;5;241m=\u001b[39m \u001b[43mMyclass4\u001b[49m\u001b[43m(\u001b[49m\u001b[38;5;241;43m2\u001b[39;49m\u001b[43m,\u001b[49m\u001b[38;5;241;43m3\u001b[39;49m\u001b[43m)\u001b[49m\n\u001b[0;32m      2\u001b[0m a\n",
      "Input \u001b[1;32mIn [43]\u001b[0m, in \u001b[0;36mMyclass4.__init__\u001b[1;34m(self, x, y)\u001b[0m\n\u001b[0;32m      4\u001b[0m \u001b[38;5;28mself\u001b[39m\u001b[38;5;241m.\u001b[39mX \u001b[38;5;241m=\u001b[39m x\n\u001b[0;32m      5\u001b[0m \u001b[38;5;28mself\u001b[39m\u001b[38;5;241m.\u001b[39mY \u001b[38;5;241m=\u001b[39m y\n\u001b[1;32m----> 6\u001b[0m \u001b[38;5;28;01mfor\u001b[39;00m i \u001b[38;5;129;01min\u001b[39;00m x:\n\u001b[0;32m      7\u001b[0m     \u001b[38;5;28;01mfor\u001b[39;00m j \u001b[38;5;129;01min\u001b[39;00m i:\n\u001b[0;32m      8\u001b[0m         \u001b[38;5;28mprint\u001b[39m(j)\n",
      "\u001b[1;31mTypeError\u001b[0m: 'int' object is not iterable"
     ]
    }
   ],
   "source": [
    "a = Myclass4(2,3)\n",
    "a"
   ]
  },
  {
   "cell_type": "code",
   "execution_count": 12,
   "id": "0b03e071",
   "metadata": {},
   "outputs": [],
   "source": [
    "class Myclass5():\n",
    "    def __init__(self,x,y):\n",
    "        self.X = x\n",
    "        self.Y = y\n",
    "        \n",
    "    def add1(self):\n",
    "        print(self.X+self.Y)\n",
    "       \n",
    "    def sub2(self):\n",
    "        print(self.X - self.Y)\n",
    "        \n",
    "class Myclass6(Myclass2):\n",
    "    pass"
   ]
  },
  {
   "cell_type": "code",
   "execution_count": 13,
   "id": "f8ffbf11",
   "metadata": {},
   "outputs": [
    {
     "name": "stdout",
     "output_type": "stream",
     "text": [
      "200\n"
     ]
    }
   ],
   "source": [
    "a = Myclass6(10,20)\n",
    "a.mul()"
   ]
  },
  {
   "cell_type": "code",
   "execution_count": 1,
   "id": "57ed3479",
   "metadata": {},
   "outputs": [],
   "source": [
    "class Myclass7:\n",
    "    def __init__(self,x,y):\n",
    "        self.X = x\n",
    "        self.Y = y\n",
    "        \n",
    "    def add1(self):\n",
    "        print(self.X+self.Y)\n",
    "       \n",
    "    def sub2(self):\n",
    "        print(self.X - self.Y)\n",
    "        \n",
    "class Myclass8(Myclass7):\n",
    "    def __init__(self,x,y):\n",
    "        Myclass7.__init__(self,x,y)\n",
    "        \n",
    "    def mul(self):\n",
    "        print(self.X * self.Y)\n",
    "        \n",
    "    def div(self):\n",
    "        print(self.X/self.Y)"
   ]
  },
  {
   "cell_type": "code",
   "execution_count": 2,
   "id": "d723bcc4",
   "metadata": {},
   "outputs": [
    {
     "name": "stdout",
     "output_type": "stream",
     "text": [
      "273\n"
     ]
    }
   ],
   "source": [
    "a = Myclass8(13,21)\n",
    "a.mul()"
   ]
  },
  {
   "cell_type": "code",
   "execution_count": 11,
   "id": "2e22dc41",
   "metadata": {},
   "outputs": [],
   "source": [
    "class Myclass9:\n",
    "    def __init__(self,x,y):\n",
    "        self.X = x\n",
    "        self.Y = y\n",
    "        \n",
    "    def add1(self):\n",
    "        print(self.X+self.Y)\n",
    "       \n",
    "    def sub2(self):\n",
    "        print(self.X - self.Y)\n",
    "        \n",
    "class Myclass10(Myclass9):\n",
    "    def __init__(self,x,y):\n",
    "        super().__init__(x,y)\n",
    "        \n",
    "    def mul(self):\n",
    "        print(self.X * self.Y)\n",
    "        \n",
    "    def div(self):\n",
    "        print(self.X/self.Y)"
   ]
  },
  {
   "cell_type": "code",
   "execution_count": 13,
   "id": "dd07a3fd",
   "metadata": {},
   "outputs": [
    {
     "name": "stdout",
     "output_type": "stream",
     "text": [
      "34\n"
     ]
    }
   ],
   "source": [
    "a = Myclass10(13,21)\n",
    "a.add1()"
   ]
  },
  {
   "cell_type": "code",
   "execution_count": 16,
   "id": "514af11b",
   "metadata": {},
   "outputs": [],
   "source": [
    "class Myclass11:\n",
    "    def __init__(self,x,y):\n",
    "        self.X = x\n",
    "        self.Y = y\n",
    "        \n",
    "    def add1(self):\n",
    "        print(self.X+self.Z)\n",
    "       \n",
    "    def sub2(self):\n",
    "        print(self.X - self.Y)\n",
    "        \n",
    "class Myclass12(Myclass11):\n",
    "    def __init__(self,x,y,z):\n",
    "        Myclass11.__init__(self,x,y)\n",
    "        self.Z = z\n",
    "        \n",
    "    def mul(self):\n",
    "        print(self.X * self.Z)"
   ]
  },
  {
   "cell_type": "code",
   "execution_count": 17,
   "id": "1eb69073",
   "metadata": {},
   "outputs": [
    {
     "name": "stdout",
     "output_type": "stream",
     "text": [
      "40\n"
     ]
    }
   ],
   "source": [
    "aa = Myclass12(10,20,30)\n",
    "aa.add1()"
   ]
  },
  {
   "cell_type": "markdown",
   "id": "fb3397bc",
   "metadata": {},
   "source": [
    "# Lambda"
   ]
  },
  {
   "cell_type": "code",
   "execution_count": 3,
   "id": "4ac3d031",
   "metadata": {},
   "outputs": [],
   "source": [
    "x = lambda a: a+10"
   ]
  },
  {
   "cell_type": "code",
   "execution_count": 4,
   "id": "7d062083",
   "metadata": {},
   "outputs": [
    {
     "name": "stdout",
     "output_type": "stream",
     "text": [
      "25\n"
     ]
    }
   ],
   "source": [
    "print(x(15))"
   ]
  },
  {
   "cell_type": "code",
   "execution_count": 5,
   "id": "d26bdd4d",
   "metadata": {},
   "outputs": [],
   "source": [
    "x = lambda a,b,c,d:a+b*c-d"
   ]
  },
  {
   "cell_type": "code",
   "execution_count": 6,
   "id": "ca3a15ee",
   "metadata": {},
   "outputs": [
    {
     "name": "stdout",
     "output_type": "stream",
     "text": [
      "37\n"
     ]
    }
   ],
   "source": [
    "print(x(4,6,7,9))"
   ]
  },
  {
   "cell_type": "code",
   "execution_count": 7,
   "id": "59711896",
   "metadata": {},
   "outputs": [],
   "source": [
    "def myf(n):\n",
    "    return lambda a : n*a"
   ]
  },
  {
   "cell_type": "code",
   "execution_count": 8,
   "id": "a45647c0",
   "metadata": {},
   "outputs": [
    {
     "name": "stdout",
     "output_type": "stream",
     "text": [
      "30\n"
     ]
    }
   ],
   "source": [
    "x = myf(3)\n",
    "print(x(10))"
   ]
  },
  {
   "cell_type": "markdown",
   "id": "16cbeb16",
   "metadata": {},
   "source": [
    "# Scope"
   ]
  },
  {
   "cell_type": "code",
   "execution_count": 9,
   "id": "e84e6631",
   "metadata": {},
   "outputs": [
    {
     "name": "stdout",
     "output_type": "stream",
     "text": [
      "10\n"
     ]
    }
   ],
   "source": [
    "# local\n",
    "\n",
    "def my():\n",
    "    a = 10\n",
    "    print(a)\n",
    "my()"
   ]
  },
  {
   "cell_type": "code",
   "execution_count": 11,
   "id": "6ac8c6e3",
   "metadata": {},
   "outputs": [
    {
     "name": "stdout",
     "output_type": "stream",
     "text": [
      "15\n",
      "15\n"
     ]
    }
   ],
   "source": [
    "x = 15\n",
    "def myfun():\n",
    "    print(x)\n",
    "myfun()\n",
    "print(x)"
   ]
  },
  {
   "cell_type": "code",
   "execution_count": 13,
   "id": "38be69e9",
   "metadata": {},
   "outputs": [
    {
     "name": "stdout",
     "output_type": "stream",
     "text": [
      "20\n",
      "20\n"
     ]
    }
   ],
   "source": [
    "def myfun():\n",
    "    global x\n",
    "    x = 20\n",
    "    print(x)\n",
    "myfun()\n",
    "print(x)"
   ]
  },
  {
   "cell_type": "code",
   "execution_count": 3,
   "id": "c265b32a",
   "metadata": {},
   "outputs": [
    {
     "data": {
      "text/plain": [
       "(1, 2, 3)"
      ]
     },
     "execution_count": 3,
     "metadata": {},
     "output_type": "execute_result"
    }
   ],
   "source": [
    "x = [1,2,3]\n",
    "y = tuple(x)\n",
    "y\n"
   ]
  },
  {
   "cell_type": "code",
   "execution_count": 44,
   "id": "b9499de8",
   "metadata": {},
   "outputs": [
    {
     "name": "stdout",
     "output_type": "stream",
     "text": [
      "['I', 'love', 'my', 'India']\n",
      "India\n"
     ]
    },
    {
     "data": {
      "text/plain": [
       "4"
      ]
     },
     "execution_count": 44,
     "metadata": {},
     "output_type": "execute_result"
    }
   ],
   "source": [
    "x = str.split(\"I love my India\")\n",
    "print(x)\n",
    "for i in x:\n",
    "    if len(i)>4:\n",
    "        print(i) \n",
    "len(x)"
   ]
  },
  {
   "cell_type": "markdown",
   "id": "cc859525",
   "metadata": {},
   "source": []
  },
  {
   "cell_type": "code",
   "execution_count": 45,
   "id": "2ce14d9d",
   "metadata": {},
   "outputs": [
    {
     "name": "stdout",
     "output_type": "stream",
     "text": [
      "6 3 7\n"
     ]
    }
   ],
   "source": [
    "a = 2\n",
    "b = 5\n",
    "c = 1\n",
    "\n",
    "p = b+c\n",
    "q = a+c\n",
    "r = b+a\n",
    "\n",
    "print(p,q,r)"
   ]
  },
  {
   "cell_type": "code",
   "execution_count": 2,
   "id": "f6eb008e",
   "metadata": {},
   "outputs": [],
   "source": [
    "import pandas as pd"
   ]
  },
  {
   "cell_type": "code",
   "execution_count": null,
   "id": "92f34230",
   "metadata": {},
   "outputs": [],
   "source": []
  }
 ],
 "metadata": {
  "kernelspec": {
   "display_name": "Python 3 (ipykernel)",
   "language": "python",
   "name": "python3"
  },
  "language_info": {
   "codemirror_mode": {
    "name": "ipython",
    "version": 3
   },
   "file_extension": ".py",
   "mimetype": "text/x-python",
   "name": "python",
   "nbconvert_exporter": "python",
   "pygments_lexer": "ipython3",
   "version": "3.11.1"
  }
 },
 "nbformat": 4,
 "nbformat_minor": 5
}
