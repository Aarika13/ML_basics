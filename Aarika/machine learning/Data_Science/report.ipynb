{
 "cells": [
  {
   "cell_type": "code",
   "execution_count": 1,
   "id": "727c121c",
   "metadata": {},
   "outputs": [
    {
     "name": "stdout",
     "output_type": "stream",
     "text": [
      "Enter the value of a:90\n",
      "Enter the value of b:2\n",
      "The sum of number is 92\n",
      "The subraction of number is 88\n",
      "The multiplication of number is 180\n",
      "The division of number is 45.0\n",
      "The modulo of number is 0\n",
      "The floor value of number is 45\n"
     ]
    }
   ],
   "source": [
    "a = int(input(\"Enter the value of a:\"))\n",
    "b = int(input(\"Enter the value of b:\"))\n",
    "print(\"The sum of number is\", a+b)\n",
    "print(\"The subraction of number is\", a-b)\n",
    "print(\"The multiplication of number is\", a*b)\n",
    "print(\"The division of number is\", a/b)\n",
    "print(\"The modulo of number is\", a%b)\n",
    "print(\"The floor value of number is\", a//b)"
   ]
  },
  {
   "cell_type": "code",
   "execution_count": null,
   "id": "a6b4fb87",
   "metadata": {},
   "outputs": [],
   "source": []
  }
 ],
 "metadata": {
  "kernelspec": {
   "display_name": "Python 3 (ipykernel)",
   "language": "python",
   "name": "python3"
  },
  "language_info": {
   "codemirror_mode": {
    "name": "ipython",
    "version": 3
   },
   "file_extension": ".py",
   "mimetype": "text/x-python",
   "name": "python",
   "nbconvert_exporter": "python",
   "pygments_lexer": "ipython3",
   "version": "3.9.7"
  }
 },
 "nbformat": 4,
 "nbformat_minor": 5
}
