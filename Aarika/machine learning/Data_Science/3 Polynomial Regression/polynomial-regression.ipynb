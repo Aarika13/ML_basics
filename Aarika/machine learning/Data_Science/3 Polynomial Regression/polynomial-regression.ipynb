{
 "cells": [
  {
   "cell_type": "code",
   "execution_count": null,
   "id": "c479b607",
   "metadata": {},
   "outputs": [],
   "source": []
  },
  {
   "cell_type": "code",
   "execution_count": 1,
   "id": "9281ba2c",
   "metadata": {},
   "outputs": [],
   "source": [
    "import numpy as np\n",
    "import matplotlib.pyplot as plt\n",
    "\n",
    "from sklearn.model_selection import train_test_split\n",
    "\n",
    "from sklearn.linear_model import LinearRegression\n",
    "\n",
    "from sklearn.preprocessing import PolynomialFeatures,StandardScaler\n",
    "\n",
    "from sklearn.metrics import r2_score"
   ]
  },
  {
   "cell_type": "code",
   "execution_count": 2,
   "id": "814d2bf5",
   "metadata": {},
   "outputs": [],
   "source": [
    "X = 6 * np.random.rand(200, 1) - 3\n",
    "y = 0.8 * X**2 + 0.9 * X + 2 + np.random.randn(200, 1)\n",
    "\n",
    "# y = 0.8x^2 + 0.9x + 2"
   ]
  },
  {
   "cell_type": "code",
   "execution_count": 3,
   "id": "692208ce",
   "metadata": {},
   "outputs": [
    {
     "data": {
      "text/plain": [
       "(200, 1)"
      ]
     },
     "execution_count": 3,
     "metadata": {},
     "output_type": "execute_result"
    }
   ],
   "source": [
    "X.shape"
   ]
  },
  {
   "cell_type": "code",
   "execution_count": 4,
   "id": "739147e2",
   "metadata": {},
   "outputs": [
    {
     "data": {
      "text/plain": [
       "(200, 1)"
      ]
     },
     "execution_count": 4,
     "metadata": {},
     "output_type": "execute_result"
    }
   ],
   "source": [
    "y.shape"
   ]
  },
  {
   "cell_type": "code",
   "execution_count": 6,
   "id": "5f8075b7",
   "metadata": {},
   "outputs": [
    {
     "data": {
      "image/png": "[encoded data removed]",
      "text/plain": [
       "<Figure size 432x288 with 1 Axes>"
      ]
     },
     "metadata": {
      "needs_background": "light"
     },
     "output_type": "display_data"
    }
   ],
   "source": [
    "plt.plot(X, y,'b.')\n",
    "plt.xlabel(\"X\")\n",
    "plt.ylabel(\"y\")\n",
    "plt.show()"
   ]
  },
  {
   "cell_type": "code",
   "execution_count": 7,
   "id": "2f4ca3e3",
   "metadata": {},
   "outputs": [],
   "source": [
    "# Train test split\n",
    "X_train,X_test,y_train,y_test = train_test_split(X,y,test_size=0.2,random_state=2)"
   ]
  },
  {
   "cell_type": "code",
   "execution_count": 8,
   "id": "99c8e622",
   "metadata": {},
   "outputs": [
    {
     "data": {
      "text/plain": [
       "array([[ 1.72752722e+00],\n",
       "       [ 2.62722791e+00],\n",
       "       [-1.70737168e+00],\n",
       "       [-6.48616871e-01],\n",
       "       [ 2.23753975e+00],\n",
       "       [-2.54817965e+00],\n",
       "       [ 1.24776607e+00],\n",
       "       [-7.38450306e-01],\n",
       "       [-2.78353797e+00],\n",
       "       [-7.13189162e-01],\n",
       "       [-2.59974693e-01],\n",
       "       [-4.52645797e-01],\n",
       "       [-5.80893020e-01],\n",
       "       [ 2.23855389e-01],\n",
       "       [ 2.79287578e+00],\n",
       "       [-1.83300252e-01],\n",
       "       [ 1.66800495e+00],\n",
       "       [ 2.45320978e+00],\n",
       "       [-1.73040686e+00],\n",
       "       [ 2.44912508e-01],\n",
       "       [ 1.17253329e+00],\n",
       "       [-1.02980182e+00],\n",
       "       [-2.41061571e+00],\n",
       "       [ 1.45779849e+00],\n",
       "       [ 1.55378940e+00],\n",
       "       [-9.54715406e-01],\n",
       "       [ 1.47295199e+00],\n",
       "       [ 2.64684753e+00],\n",
       "       [ 5.67585549e-01],\n",
       "       [ 1.59302978e-01],\n",
       "       [ 1.51543724e+00],\n",
       "       [-2.49813514e+00],\n",
       "       [-1.74367209e+00],\n",
       "       [-1.25443644e+00],\n",
       "       [ 8.90720510e-01],\n",
       "       [ 1.19813125e+00],\n",
       "       [-2.00062683e+00],\n",
       "       [-1.97274478e+00],\n",
       "       [-2.07459905e+00],\n",
       "       [ 2.51452268e+00],\n",
       "       [-2.78520389e+00],\n",
       "       [ 1.36373904e+00],\n",
       "       [ 2.80174111e-03],\n",
       "       [ 2.73670074e+00],\n",
       "       [ 9.55339135e-01],\n",
       "       [-1.02551001e+00],\n",
       "       [-2.51243903e+00],\n",
       "       [-1.62272694e-01],\n",
       "       [-4.44373486e-01],\n",
       "       [-4.73871350e-01],\n",
       "       [ 1.54917394e+00],\n",
       "       [-1.76085639e+00],\n",
       "       [ 9.97408797e-02],\n",
       "       [-6.34517889e-01],\n",
       "       [ 6.76150942e-01],\n",
       "       [ 2.54424337e+00],\n",
       "       [ 2.78601667e+00],\n",
       "       [ 2.10145323e+00],\n",
       "       [-2.37159804e+00],\n",
       "       [ 3.66080058e-01],\n",
       "       [ 2.72148070e+00],\n",
       "       [-2.25375072e+00],\n",
       "       [-6.44553972e-01],\n",
       "       [-6.84124408e-01],\n",
       "       [ 5.53819690e-01],\n",
       "       [-1.41320906e+00],\n",
       "       [ 1.86357165e+00],\n",
       "       [-1.99193694e+00],\n",
       "       [-1.55997170e+00],\n",
       "       [-1.40139970e+00],\n",
       "       [-1.79232540e+00],\n",
       "       [ 2.28355373e+00],\n",
       "       [ 1.64932203e+00],\n",
       "       [ 1.49024687e+00],\n",
       "       [ 3.47064142e-01],\n",
       "       [-9.05451056e-01],\n",
       "       [-2.23276699e+00],\n",
       "       [ 2.58816976e+00],\n",
       "       [-1.27892824e+00],\n",
       "       [-1.42910608e+00],\n",
       "       [ 3.43799590e-01],\n",
       "       [ 1.10640311e+00],\n",
       "       [-2.35688557e+00],\n",
       "       [-1.78973950e+00],\n",
       "       [ 2.85001518e+00],\n",
       "       [ 1.47509835e+00],\n",
       "       [ 1.65008036e+00],\n",
       "       [-2.43685271e-01],\n",
       "       [ 2.90916189e+00],\n",
       "       [-4.43160461e-02],\n",
       "       [-8.74600504e-01],\n",
       "       [ 1.94561548e-01],\n",
       "       [-1.61096012e+00],\n",
       "       [-5.18360702e-01],\n",
       "       [ 1.29839433e+00],\n",
       "       [ 1.83773646e+00],\n",
       "       [ 2.87115614e+00],\n",
       "       [ 1.14710315e+00],\n",
       "       [-2.18559515e+00],\n",
       "       [-2.34813688e+00],\n",
       "       [-2.35631714e+00],\n",
       "       [-2.78009980e+00],\n",
       "       [ 2.36773816e+00],\n",
       "       [ 2.12581661e+00],\n",
       "       [ 1.86533268e+00],\n",
       "       [ 2.89676873e+00],\n",
       "       [-1.31705252e+00],\n",
       "       [ 1.11805832e+00],\n",
       "       [-2.84258597e+00],\n",
       "       [ 1.69050217e+00],\n",
       "       [-1.39316948e+00],\n",
       "       [ 2.75209838e+00],\n",
       "       [-2.02274385e+00],\n",
       "       [-8.20578092e-01],\n",
       "       [-2.24780554e+00],\n",
       "       [-1.29864992e+00],\n",
       "       [ 1.04490779e+00],\n",
       "       [-1.56122138e+00],\n",
       "       [ 2.98272408e+00],\n",
       "       [ 2.60958388e+00],\n",
       "       [ 1.37547012e+00],\n",
       "       [-2.54228370e+00],\n",
       "       [-2.59763580e+00],\n",
       "       [-5.87479843e-01],\n",
       "       [ 1.19668304e+00],\n",
       "       [-2.58766604e+00],\n",
       "       [ 2.64498866e+00],\n",
       "       [ 5.80823813e-01],\n",
       "       [ 2.30621218e+00],\n",
       "       [-2.79082010e+00],\n",
       "       [ 2.38356589e+00],\n",
       "       [ 2.98229758e+00],\n",
       "       [-1.52363503e+00],\n",
       "       [ 1.09841856e+00],\n",
       "       [ 1.27384897e+00],\n",
       "       [ 1.73122470e+00],\n",
       "       [-3.62395302e-01],\n",
       "       [-2.41871447e+00],\n",
       "       [-1.26088748e+00],\n",
       "       [-1.74776504e+00],\n",
       "       [ 6.63921959e-02],\n",
       "       [ 1.88953335e+00],\n",
       "       [-1.31043223e+00],\n",
       "       [ 4.60071338e-01],\n",
       "       [ 1.66007318e+00],\n",
       "       [-4.39911408e-03],\n",
       "       [-3.61259692e-01],\n",
       "       [ 1.00518473e+00],\n",
       "       [-2.95758613e+00],\n",
       "       [-2.66481891e+00],\n",
       "       [ 6.71141576e-01],\n",
       "       [ 1.48849112e+00],\n",
       "       [-3.69334722e-01],\n",
       "       [ 2.23173242e+00],\n",
       "       [ 1.23086654e+00],\n",
       "       [ 1.10891601e+00],\n",
       "       [ 2.55441121e+00],\n",
       "       [ 1.55745736e+00],\n",
       "       [-1.87318401e+00],\n",
       "       [ 4.09173268e-01]])"
      ]
     },
     "execution_count": 8,
     "metadata": {},
     "output_type": "execute_result"
    }
   ],
   "source": [
    "X_train"
   ]
  },
  {
   "cell_type": "code",
   "execution_count": 9,
   "id": "74b0ac4e",
   "metadata": {},
   "outputs": [
    {
     "data": {
      "text/plain": [
       "array([[ 1.48998711],\n",
       "       [-1.88328569],\n",
       "       [ 1.43619583],\n",
       "       [-2.51067165],\n",
       "       [ 2.74367228],\n",
       "       [-0.18453231],\n",
       "       [ 1.21087816],\n",
       "       [-1.09586265],\n",
       "       [ 0.0323759 ],\n",
       "       [ 1.71629197],\n",
       "       [-2.05752695],\n",
       "       [-1.20155856],\n",
       "       [-0.79277463],\n",
       "       [ 1.01861287],\n",
       "       [ 2.12214171],\n",
       "       [ 2.60864101],\n",
       "       [ 0.8528764 ],\n",
       "       [ 1.46320186],\n",
       "       [-0.11329312],\n",
       "       [-0.71365191],\n",
       "       [ 0.32268471],\n",
       "       [ 0.08290472],\n",
       "       [-1.06954161],\n",
       "       [-0.94964122],\n",
       "       [ 0.3279395 ],\n",
       "       [-0.2864764 ],\n",
       "       [-2.65715465],\n",
       "       [-1.47838073],\n",
       "       [-2.28166436],\n",
       "       [-1.11073888],\n",
       "       [ 0.0478233 ],\n",
       "       [-0.87538267],\n",
       "       [ 1.31757156],\n",
       "       [ 2.55139547],\n",
       "       [-0.04851002],\n",
       "       [-1.97299512],\n",
       "       [-2.47100284],\n",
       "       [ 2.4301003 ],\n",
       "       [ 1.71648692],\n",
       "       [-2.23169728]])"
      ]
     },
     "execution_count": 9,
     "metadata": {},
     "output_type": "execute_result"
    }
   ],
   "source": [
    "X_test"
   ]
  },
  {
   "cell_type": "code",
   "execution_count": 10,
   "id": "50744e4d",
   "metadata": {},
   "outputs": [
    {
     "data": {
      "text/plain": [
       "array([[ 4.97678348],\n",
       "       [10.86724851],\n",
       "       [ 2.8268634 ],\n",
       "       [ 0.79483778],\n",
       "       [ 9.06909953],\n",
       "       [ 6.17777348],\n",
       "       [ 3.89760194],\n",
       "       [ 2.01523989],\n",
       "       [ 6.28272608],\n",
       "       [ 1.53660133],\n",
       "       [ 2.49646016],\n",
       "       [ 1.14942977],\n",
       "       [ 1.96687379],\n",
       "       [ 2.53576513],\n",
       "       [11.55778975],\n",
       "       [ 1.85198951],\n",
       "       [ 7.0140278 ],\n",
       "       [ 8.33460518],\n",
       "       [ 3.6372603 ],\n",
       "       [ 3.209474  ],\n",
       "       [ 4.66695587],\n",
       "       [ 1.2296889 ],\n",
       "       [ 3.59601893],\n",
       "       [ 4.32975153],\n",
       "       [ 5.53775497],\n",
       "       [ 1.71622452],\n",
       "       [ 5.97123698],\n",
       "       [11.16438293],\n",
       "       [ 3.65696087],\n",
       "       [-0.72198864],\n",
       "       [ 5.00425991],\n",
       "       [ 4.94452138],\n",
       "       [ 1.60690172],\n",
       "       [ 3.15229483],\n",
       "       [ 4.46863456],\n",
       "       [ 4.14318015],\n",
       "       [ 3.41619354],\n",
       "       [ 4.93291358],\n",
       "       [ 2.82173737],\n",
       "       [ 8.91752158],\n",
       "       [ 4.5867064 ],\n",
       "       [ 3.93676219],\n",
       "       [ 2.78921021],\n",
       "       [10.26436696],\n",
       "       [ 4.18762668],\n",
       "       [ 1.28684513],\n",
       "       [ 5.29411045],\n",
       "       [ 2.44743442],\n",
       "       [ 3.97541456],\n",
       "       [ 0.79729801],\n",
       "       [ 6.81948415],\n",
       "       [ 2.96121607],\n",
       "       [ 3.23630025],\n",
       "       [ 1.6016803 ],\n",
       "       [ 5.42158994],\n",
       "       [10.87350311],\n",
       "       [10.51225661],\n",
       "       [ 7.39347085],\n",
       "       [ 5.69088827],\n",
       "       [ 2.05338798],\n",
       "       [ 8.16083299],\n",
       "       [ 3.37854469],\n",
       "       [ 1.38463196],\n",
       "       [ 0.56723496],\n",
       "       [ 3.17683502],\n",
       "       [ 1.95929391],\n",
       "       [ 5.32601156],\n",
       "       [ 1.71256708],\n",
       "       [ 2.13475751],\n",
       "       [ 0.52924818],\n",
       "       [ 1.89702569],\n",
       "       [ 7.93675534],\n",
       "       [ 5.04168825],\n",
       "       [ 4.48091287],\n",
       "       [ 3.24128856],\n",
       "       [ 2.24565304],\n",
       "       [ 4.19817641],\n",
       "       [ 8.28893851],\n",
       "       [ 2.90857979],\n",
       "       [ 0.75564533],\n",
       "       [ 1.8729584 ],\n",
       "       [ 3.56304863],\n",
       "       [ 4.93176933],\n",
       "       [ 4.24976379],\n",
       "       [10.64791183],\n",
       "       [ 5.87549071],\n",
       "       [ 6.91306438],\n",
       "       [ 2.75812839],\n",
       "       [ 9.84366628],\n",
       "       [ 1.47465225],\n",
       "       [ 1.87333689],\n",
       "       [ 1.81308386],\n",
       "       [ 3.90722414],\n",
       "       [ 2.36459213],\n",
       "       [ 3.44904113],\n",
       "       [ 6.15818903],\n",
       "       [11.76917859],\n",
       "       [ 3.47337109],\n",
       "       [ 4.49155561],\n",
       "       [ 4.24517048],\n",
       "       [ 4.26752063],\n",
       "       [ 5.35936957],\n",
       "       [ 7.78314975],\n",
       "       [10.03673218],\n",
       "       [ 8.39231154],\n",
       "       [ 9.64487527],\n",
       "       [ 0.91635124],\n",
       "       [ 2.97684145],\n",
       "       [ 6.14412354],\n",
       "       [ 5.70879557],\n",
       "       [ 1.40127644],\n",
       "       [12.50332263],\n",
       "       [ 4.66120931],\n",
       "       [-0.34817475],\n",
       "       [ 4.66077418],\n",
       "       [ 4.5748684 ],\n",
       "       [ 4.23205424],\n",
       "       [ 2.67056977],\n",
       "       [10.07153386],\n",
       "       [ 9.72935274],\n",
       "       [ 5.84427699],\n",
       "       [ 5.18038832],\n",
       "       [ 4.53113045],\n",
       "       [ 1.11438253],\n",
       "       [ 2.50380434],\n",
       "       [ 3.73161873],\n",
       "       [11.92811467],\n",
       "       [ 3.75054434],\n",
       "       [ 9.42994619],\n",
       "       [ 6.81279676],\n",
       "       [ 9.16325789],\n",
       "       [13.01058807],\n",
       "       [ 4.05345437],\n",
       "       [ 5.90371291],\n",
       "       [ 2.98131335],\n",
       "       [ 6.60850901],\n",
       "       [ 1.60118198],\n",
       "       [ 4.89008194],\n",
       "       [ 0.49938267],\n",
       "       [ 0.77627252],\n",
       "       [ 2.62815143],\n",
       "       [ 6.79937901],\n",
       "       [ 0.03248869],\n",
       "       [ 3.02418092],\n",
       "       [ 4.61669256],\n",
       "       [ 2.19264247],\n",
       "       [ 1.36232224],\n",
       "       [ 4.55400465],\n",
       "       [ 6.64388142],\n",
       "       [ 5.70257247],\n",
       "       [ 3.91226698],\n",
       "       [ 4.80924765],\n",
       "       [ 1.7073063 ],\n",
       "       [ 9.64211072],\n",
       "       [ 5.91309172],\n",
       "       [ 2.96610963],\n",
       "       [10.9216199 ],\n",
       "       [ 5.56269294],\n",
       "       [ 2.61610743],\n",
       "       [ 1.41683225]])"
      ]
     },
     "execution_count": 10,
     "metadata": {},
     "output_type": "execute_result"
    }
   ],
   "source": [
    "y_train"
   ]
  },
  {
   "cell_type": "code",
   "execution_count": 11,
   "id": "8c8270fb",
   "metadata": {},
   "outputs": [
    {
     "data": {
      "text/plain": [
       "array([[ 4.21891954],\n",
       "       [ 2.74930965],\n",
       "       [ 6.17947599],\n",
       "       [ 5.84319361],\n",
       "       [11.03470854],\n",
       "       [-1.37049612],\n",
       "       [ 4.65313294],\n",
       "       [ 2.08420721],\n",
       "       [ 2.31204838],\n",
       "       [ 6.72802547],\n",
       "       [ 3.61815026],\n",
       "       [ 3.57164839],\n",
       "       [ 3.0859596 ],\n",
       "       [ 5.43217594],\n",
       "       [ 5.55566023],\n",
       "       [ 9.82611507],\n",
       "       [ 4.30548819],\n",
       "       [ 5.41585506],\n",
       "       [ 1.19648607],\n",
       "       [ 1.93661634],\n",
       "       [ 2.26704074],\n",
       "       [ 2.57015205],\n",
       "       [ 1.60846991],\n",
       "       [ 3.59720954],\n",
       "       [ 2.47444375],\n",
       "       [ 0.80911842],\n",
       "       [ 4.49315804],\n",
       "       [ 2.90422275],\n",
       "       [ 1.81060062],\n",
       "       [ 2.91255543],\n",
       "       [ 3.82963124],\n",
       "       [ 1.51730079],\n",
       "       [ 4.71170899],\n",
       "       [ 9.93540761],\n",
       "       [ 2.8059266 ],\n",
       "       [ 4.11601436],\n",
       "       [ 2.15889315],\n",
       "       [ 8.10210599],\n",
       "       [ 6.81251496],\n",
       "       [ 1.98978407]])"
      ]
     },
     "execution_count": 11,
     "metadata": {},
     "output_type": "execute_result"
    }
   ],
   "source": [
    "\n",
    "y_test"
   ]
  },
  {
   "cell_type": "code",
   "execution_count": null,
   "id": "dd9ea319",
   "metadata": {},
   "outputs": [],
   "source": []
  },
  {
   "cell_type": "code",
   "execution_count": 12,
   "id": "ff5589f2",
   "metadata": {},
   "outputs": [],
   "source": [
    "# Applying linear regression\n",
    "lr = LinearRegression()"
   ]
  },
  {
   "cell_type": "code",
   "execution_count": 13,
   "id": "ea8a3ba9",
   "metadata": {},
   "outputs": [
    {
     "data": {
      "text/plain": [
       "LinearRegression()"
      ]
     },
     "execution_count": 13,
     "metadata": {},
     "output_type": "execute_result"
    }
   ],
   "source": [
    "lr.fit(X_train,y_train)"
   ]
  },
  {
   "cell_type": "code",
   "execution_count": 14,
   "id": "9d7f54c3",
   "metadata": {},
   "outputs": [],
   "source": [
    "y_pred = lr.predict(X_test)\n"
   ]
  },
  {
   "cell_type": "code",
   "execution_count": 15,
   "id": "b1fd3ca6",
   "metadata": {},
   "outputs": [
    {
     "data": {
      "text/plain": [
       "0.3918185545154975"
      ]
     },
     "execution_count": 15,
     "metadata": {},
     "output_type": "execute_result"
    }
   ],
   "source": [
    "r2_score(y_test,y_pred)"
   ]
  },
  {
   "cell_type": "code",
   "execution_count": 16,
   "id": "0f9dfea0",
   "metadata": {},
   "outputs": [
    {
     "data": {
      "image/png": "[encoded data removed]",
      "text/plain": [
       "<Figure size 432x288 with 1 Axes>"
      ]
     },
     "metadata": {
      "needs_background": "light"
     },
     "output_type": "display_data"
    }
   ],
   "source": [
    "plt.plot(X_train,lr.predict(X_train),color='r')\n",
    "plt.plot(X, y, \"b.\")\n",
    "plt.xlabel(\"X\")\n",
    "plt.ylabel(\"y\")\n",
    "plt.show()"
   ]
  },
  {
   "cell_type": "code",
   "execution_count": null,
   "id": "b1479c67",
   "metadata": {},
   "outputs": [],
   "source": []
  },
  {
   "cell_type": "code",
   "execution_count": null,
   "id": "95e83dd2",
   "metadata": {},
   "outputs": [],
   "source": []
  },
  {
   "cell_type": "code",
   "execution_count": 17,
   "id": "e26e8658",
   "metadata": {},
   "outputs": [],
   "source": [
    "poly = PolynomialFeatures(degree=5)\n",
    "\n",
    "X_train_trans = poly.fit_transform(X_train)\n",
    "X_test_trans = poly.transform(X_test)"
   ]
  },
  {
   "cell_type": "code",
   "execution_count": 18,
   "id": "6bfa45e6",
   "metadata": {},
   "outputs": [
    {
     "name": "stdout",
     "output_type": "stream",
     "text": [
      "[1.72752722]\n",
      "[ 1.          1.72752722  2.9843503   5.15554637  8.90634669 15.38595635]\n"
     ]
    }
   ],
   "source": [
    "print(X_train[0])\n",
    "print(X_train_trans[0])"
   ]
  },
  {
   "cell_type": "code",
   "execution_count": null,
   "id": "8e6d689f",
   "metadata": {},
   "outputs": [],
   "source": []
  },
  {
   "cell_type": "code",
   "execution_count": 20,
   "id": "417aab22",
   "metadata": {},
   "outputs": [
    {
     "data": {
      "text/plain": [
       "LinearRegression()"
      ]
     },
     "execution_count": 20,
     "metadata": {},
     "output_type": "execute_result"
    }
   ],
   "source": [
    "lr = LinearRegression()\n",
    "lr.fit(X_train_trans,y_train)"
   ]
  },
  {
   "cell_type": "code",
   "execution_count": 21,
   "id": "dc15aee2",
   "metadata": {},
   "outputs": [],
   "source": [
    "y_pred = lr.predict(X_test_trans)"
   ]
  },
  {
   "cell_type": "code",
   "execution_count": 22,
   "id": "e5b41d40",
   "metadata": {},
   "outputs": [
    {
     "data": {
      "text/plain": [
       "0.7841522385832839"
      ]
     },
     "execution_count": 22,
     "metadata": {},
     "output_type": "execute_result"
    }
   ],
   "source": [
    "r2_score(y_test,y_pred)"
   ]
  },
  {
   "cell_type": "code",
   "execution_count": 23,
   "id": "207fa356",
   "metadata": {},
   "outputs": [
    {
     "name": "stdout",
     "output_type": "stream",
     "text": [
      "[[ 0.          1.07705432  0.85663723 -0.00397647 -0.0045036  -0.00321474]]\n",
      "[1.96098278]\n"
     ]
    }
   ],
   "source": [
    "print(lr.coef_)\n",
    "print(lr.intercept_)"
   ]
  },
  {
   "cell_type": "code",
   "execution_count": null,
   "id": "218034dc",
   "metadata": {},
   "outputs": [],
   "source": []
  },
  {
   "cell_type": "code",
   "execution_count": null,
   "id": "6b167006",
   "metadata": {},
   "outputs": [],
   "source": []
  },
  {
   "cell_type": "code",
   "execution_count": 24,
   "id": "3de7f7c2",
   "metadata": {},
   "outputs": [],
   "source": [
    "X_new=np.linspace(-3, 3, 200).reshape(200, 1)\n",
    "X_new_poly = poly.transform(X_new)\n",
    "y_new = lr.predict(X_new_poly)"
   ]
  },
  {
   "cell_type": "code",
   "execution_count": 25,
   "id": "8d460ec1",
   "metadata": {},
   "outputs": [
    {
     "data": {
      "image/png": "[encoded data removed]",
      "text/plain": [
       "<Figure size 432x288 with 1 Axes>"
      ]
     },
     "metadata": {
      "needs_background": "light"
     },
     "output_type": "display_data"
    }
   ],
   "source": [
    "plt.plot(X_new, y_new, \"r-\", linewidth=2, label=\"Predictions\")\n",
    "plt.plot(X_train, y_train, \"b.\",label='Training points')\n",
    "plt.plot(X_test, y_test, \"g.\",label='Testing points')\n",
    "plt.xlabel(\"X\")\n",
    "plt.ylabel(\"y\")\n",
    "plt.legend()\n",
    "plt.show()"
   ]
  },
  {
   "cell_type": "code",
   "execution_count": null,
   "id": "812881f3",
   "metadata": {},
   "outputs": [],
   "source": []
  }
 ],
 "metadata": {
  "kernelspec": {
   "display_name": "Python 3 (ipykernel)",
   "language": "python",
   "name": "python3"
  },
  "language_info": {
   "codemirror_mode": {
    "name": "ipython",
    "version": 3
   },
   "file_extension": ".py",
   "mimetype": "text/x-python",
   "name": "python",
   "nbconvert_exporter": "python",
   "pygments_lexer": "ipython3",
   "version": "3.9.7"
  }
 },
 "nbformat": 4,
 "nbformat_minor": 5
}
