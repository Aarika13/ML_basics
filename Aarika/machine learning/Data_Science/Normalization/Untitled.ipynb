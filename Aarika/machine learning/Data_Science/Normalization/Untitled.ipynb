{
 "cells": [
  {
   "cell_type": "code",
   "execution_count": 1,
   "id": "09b2f25f",
   "metadata": {},
   "outputs": [],
   "source": [
    "import numpy as np \n",
    "import pandas as pd \n",
    "import matplotlib.pyplot as plt\n",
    "import seaborn as sns"
   ]
  },
  {
   "cell_type": "raw",
   "id": "cd08fc02",
   "metadata": {},
   "source": []
  },
  {
   "cell_type": "code",
   "execution_count": 2,
   "id": "32d42720",
   "metadata": {},
   "outputs": [
    {
     "data": {
      "text/html": [
       "<div>\n",
       "<style scoped>\n",
       "    .dataframe tbody tr th:only-of-type {\n",
       "        vertical-align: middle;\n",
       "    }\n",
       "\n",
       "    .dataframe tbody tr th {\n",
       "        vertical-align: top;\n",
       "    }\n",
       "\n",
       "    .dataframe thead th {\n",
       "        text-align: right;\n",
       "    }\n",
       "</style>\n",
       "<table border=\"1\" class=\"dataframe\">\n",
       "  <thead>\n",
       "    <tr style=\"text-align: right;\">\n",
       "      <th></th>\n",
       "      <th>PassengerId</th>\n",
       "      <th>Survived</th>\n",
       "      <th>Pclass</th>\n",
       "      <th>Name</th>\n",
       "      <th>Sex</th>\n",
       "      <th>Age</th>\n",
       "      <th>SibSp</th>\n",
       "      <th>Parch</th>\n",
       "      <th>Ticket</th>\n",
       "      <th>Fare</th>\n",
       "      <th>Cabin</th>\n",
       "      <th>Embarked</th>\n",
       "    </tr>\n",
       "  </thead>\n",
       "  <tbody>\n",
       "    <tr>\n",
       "      <th>0</th>\n",
       "      <td>892</td>\n",
       "      <td>0</td>\n",
       "      <td>3</td>\n",
       "      <td>Kelly, Mr. James</td>\n",
       "      <td>male</td>\n",
       "      <td>34.5</td>\n",
       "      <td>0</td>\n",
       "      <td>0</td>\n",
       "      <td>330911</td>\n",
       "      <td>7.8292</td>\n",
       "      <td>NaN</td>\n",
       "      <td>Q</td>\n",
       "    </tr>\n",
       "    <tr>\n",
       "      <th>1</th>\n",
       "      <td>893</td>\n",
       "      <td>1</td>\n",
       "      <td>3</td>\n",
       "      <td>Wilkes, Mrs. James (Ellen Needs)</td>\n",
       "      <td>female</td>\n",
       "      <td>47.0</td>\n",
       "      <td>1</td>\n",
       "      <td>0</td>\n",
       "      <td>363272</td>\n",
       "      <td>7.0000</td>\n",
       "      <td>NaN</td>\n",
       "      <td>S</td>\n",
       "    </tr>\n",
       "    <tr>\n",
       "      <th>2</th>\n",
       "      <td>894</td>\n",
       "      <td>0</td>\n",
       "      <td>2</td>\n",
       "      <td>Myles, Mr. Thomas Francis</td>\n",
       "      <td>male</td>\n",
       "      <td>62.0</td>\n",
       "      <td>0</td>\n",
       "      <td>0</td>\n",
       "      <td>240276</td>\n",
       "      <td>9.6875</td>\n",
       "      <td>NaN</td>\n",
       "      <td>Q</td>\n",
       "    </tr>\n",
       "    <tr>\n",
       "      <th>3</th>\n",
       "      <td>895</td>\n",
       "      <td>0</td>\n",
       "      <td>3</td>\n",
       "      <td>Wirz, Mr. Albert</td>\n",
       "      <td>male</td>\n",
       "      <td>27.0</td>\n",
       "      <td>0</td>\n",
       "      <td>0</td>\n",
       "      <td>315154</td>\n",
       "      <td>8.6625</td>\n",
       "      <td>NaN</td>\n",
       "      <td>S</td>\n",
       "    </tr>\n",
       "    <tr>\n",
       "      <th>4</th>\n",
       "      <td>896</td>\n",
       "      <td>1</td>\n",
       "      <td>3</td>\n",
       "      <td>Hirvonen, Mrs. Alexander (Helga E Lindqvist)</td>\n",
       "      <td>female</td>\n",
       "      <td>22.0</td>\n",
       "      <td>1</td>\n",
       "      <td>1</td>\n",
       "      <td>3101298</td>\n",
       "      <td>12.2875</td>\n",
       "      <td>NaN</td>\n",
       "      <td>S</td>\n",
       "    </tr>\n",
       "    <tr>\n",
       "      <th>...</th>\n",
       "      <td>...</td>\n",
       "      <td>...</td>\n",
       "      <td>...</td>\n",
       "      <td>...</td>\n",
       "      <td>...</td>\n",
       "      <td>...</td>\n",
       "      <td>...</td>\n",
       "      <td>...</td>\n",
       "      <td>...</td>\n",
       "      <td>...</td>\n",
       "      <td>...</td>\n",
       "      <td>...</td>\n",
       "    </tr>\n",
       "    <tr>\n",
       "      <th>413</th>\n",
       "      <td>1305</td>\n",
       "      <td>0</td>\n",
       "      <td>3</td>\n",
       "      <td>Spector, Mr. Woolf</td>\n",
       "      <td>male</td>\n",
       "      <td>NaN</td>\n",
       "      <td>0</td>\n",
       "      <td>0</td>\n",
       "      <td>A.5. 3236</td>\n",
       "      <td>8.0500</td>\n",
       "      <td>NaN</td>\n",
       "      <td>S</td>\n",
       "    </tr>\n",
       "    <tr>\n",
       "      <th>414</th>\n",
       "      <td>1306</td>\n",
       "      <td>1</td>\n",
       "      <td>1</td>\n",
       "      <td>Oliva y Ocana, Dona. Fermina</td>\n",
       "      <td>female</td>\n",
       "      <td>39.0</td>\n",
       "      <td>0</td>\n",
       "      <td>0</td>\n",
       "      <td>PC 17758</td>\n",
       "      <td>108.9000</td>\n",
       "      <td>C105</td>\n",
       "      <td>C</td>\n",
       "    </tr>\n",
       "    <tr>\n",
       "      <th>415</th>\n",
       "      <td>1307</td>\n",
       "      <td>0</td>\n",
       "      <td>3</td>\n",
       "      <td>Saether, Mr. Simon Sivertsen</td>\n",
       "      <td>male</td>\n",
       "      <td>38.5</td>\n",
       "      <td>0</td>\n",
       "      <td>0</td>\n",
       "      <td>SOTON/O.Q. 3101262</td>\n",
       "      <td>7.2500</td>\n",
       "      <td>NaN</td>\n",
       "      <td>S</td>\n",
       "    </tr>\n",
       "    <tr>\n",
       "      <th>416</th>\n",
       "      <td>1308</td>\n",
       "      <td>0</td>\n",
       "      <td>3</td>\n",
       "      <td>Ware, Mr. Frederick</td>\n",
       "      <td>male</td>\n",
       "      <td>NaN</td>\n",
       "      <td>0</td>\n",
       "      <td>0</td>\n",
       "      <td>359309</td>\n",
       "      <td>8.0500</td>\n",
       "      <td>NaN</td>\n",
       "      <td>S</td>\n",
       "    </tr>\n",
       "    <tr>\n",
       "      <th>417</th>\n",
       "      <td>1309</td>\n",
       "      <td>0</td>\n",
       "      <td>3</td>\n",
       "      <td>Peter, Master. Michael J</td>\n",
       "      <td>male</td>\n",
       "      <td>NaN</td>\n",
       "      <td>1</td>\n",
       "      <td>1</td>\n",
       "      <td>2668</td>\n",
       "      <td>22.3583</td>\n",
       "      <td>NaN</td>\n",
       "      <td>C</td>\n",
       "    </tr>\n",
       "  </tbody>\n",
       "</table>\n",
       "<p>418 rows × 12 columns</p>\n",
       "</div>"
      ],
      "text/plain": [
       "     PassengerId  Survived  Pclass  \\\n",
       "0            892         0       3   \n",
       "1            893         1       3   \n",
       "2            894         0       2   \n",
       "3            895         0       3   \n",
       "4            896         1       3   \n",
       "..           ...       ...     ...   \n",
       "413         1305         0       3   \n",
       "414         1306         1       1   \n",
       "415         1307         0       3   \n",
       "416         1308         0       3   \n",
       "417         1309         0       3   \n",
       "\n",
       "                                             Name     Sex   Age  SibSp  Parch  \\\n",
       "0                                Kelly, Mr. James    male  34.5      0      0   \n",
       "1                Wilkes, Mrs. James (Ellen Needs)  female  47.0      1      0   \n",
       "2                       Myles, Mr. Thomas Francis    male  62.0      0      0   \n",
       "3                                Wirz, Mr. Albert    male  27.0      0      0   \n",
       "4    Hirvonen, Mrs. Alexander (Helga E Lindqvist)  female  22.0      1      1   \n",
       "..                                            ...     ...   ...    ...    ...   \n",
       "413                            Spector, Mr. Woolf    male   NaN      0      0   \n",
       "414                  Oliva y Ocana, Dona. Fermina  female  39.0      0      0   \n",
       "415                  Saether, Mr. Simon Sivertsen    male  38.5      0      0   \n",
       "416                           Ware, Mr. Frederick    male   NaN      0      0   \n",
       "417                      Peter, Master. Michael J    male   NaN      1      1   \n",
       "\n",
       "                 Ticket      Fare Cabin Embarked  \n",
       "0                330911    7.8292   NaN        Q  \n",
       "1                363272    7.0000   NaN        S  \n",
       "2                240276    9.6875   NaN        Q  \n",
       "3                315154    8.6625   NaN        S  \n",
       "4               3101298   12.2875   NaN        S  \n",
       "..                  ...       ...   ...      ...  \n",
       "413           A.5. 3236    8.0500   NaN        S  \n",
       "414            PC 17758  108.9000  C105        C  \n",
       "415  SOTON/O.Q. 3101262    7.2500   NaN        S  \n",
       "416              359309    8.0500   NaN        S  \n",
       "417                2668   22.3583   NaN        C  \n",
       "\n",
       "[418 rows x 12 columns]"
      ]
     },
     "execution_count": 2,
     "metadata": {},
     "output_type": "execute_result"
    }
   ],
   "source": [
    "df= pd.read_csv(r'C:\\Users\\HP\\Desktop\\machine learning\\Test\\tested.csv')\n",
    "df "
   ]
  },
  {
   "cell_type": "code",
   "execution_count": 3,
   "id": "78af81eb",
   "metadata": {},
   "outputs": [
    {
     "name": "stderr",
     "output_type": "stream",
     "text": [
      "C:\\Users\\HP\\anaconda3\\lib\\site-packages\\seaborn\\_decorators.py:36: FutureWarning: Pass the following variables as keyword args: x, y. From version 0.12, the only valid positional argument will be `data`, and passing other arguments without an explicit keyword will result in an error or misinterpretation.\n",
      "  warnings.warn(\n"
     ]
    },
    {
     "data": {
      "text/plain": [
       "<AxesSubplot:xlabel='Fare', ylabel='Age'>"
      ]
     },
     "execution_count": 3,
     "metadata": {},
     "output_type": "execute_result"
    },
    {
     "data": {
      "image/png": "[encoded data removed]",
      "text/plain": [
       "<Figure size 432x288 with 1 Axes>"
      ]
     },
     "metadata": {
      "needs_background": "light"
     },
     "output_type": "display_data"
    }
   ],
   "source": [
    "sns.scatterplot (df['Fare'], df['Age'], data =df)"
   ]
  },
  {
   "cell_type": "code",
   "execution_count": 4,
   "id": "4cde20c9",
   "metadata": {},
   "outputs": [
    {
     "name": "stderr",
     "output_type": "stream",
     "text": [
      "C:\\Users\\HP\\anaconda3\\lib\\site-packages\\seaborn\\_decorators.py:36: FutureWarning: Pass the following variables as keyword args: x, y. From version 0.12, the only valid positional argument will be `data`, and passing other arguments without an explicit keyword will result in an error or misinterpretation.\n",
      "  warnings.warn(\n"
     ]
    },
    {
     "data": {
      "text/plain": [
       "<AxesSubplot:xlabel='Age', ylabel='Fare'>"
      ]
     },
     "execution_count": 4,
     "metadata": {},
     "output_type": "execute_result"
    },
    {
     "data": {
      "image/png": "[encoded data removed]",
      "text/plain": [
       "<Figure size 432x288 with 1 Axes>"
      ]
     },
     "metadata": {
      "needs_background": "light"
     },
     "output_type": "display_data"
    }
   ],
   "source": [
    "sns.lineplot(df['Age'],df['Fare'], data=df)"
   ]
  },
  {
   "cell_type": "code",
   "execution_count": 5,
   "id": "5fa5023c",
   "metadata": {},
   "outputs": [
    {
     "data": {
      "text/plain": [
       "<seaborn.axisgrid.PairGrid at 0x21d9737ad60>"
      ]
     },
     "execution_count": 5,
     "metadata": {},
     "output_type": "execute_result"
    },
    {
     "data": {
      "image/png": "[encoded data removed]",
      "text/plain": [
       "<Figure size 1260x1260 with 56 Axes>"
      ]
     },
     "metadata": {
      "needs_background": "light"
     },
     "output_type": "display_data"
    }
   ],
   "source": [
    "sns.pairplot(df)"
   ]
  },
  {
   "cell_type": "code",
   "execution_count": 6,
   "id": "633d430e",
   "metadata": {},
   "outputs": [],
   "source": [
    "a=df[['Pclass','PassengerId']]"
   ]
  },
  {
   "cell_type": "code",
   "execution_count": 7,
   "id": "1cbb5edb",
   "metadata": {},
   "outputs": [],
   "source": [
    "b=df['Survived']"
   ]
  },
  {
   "cell_type": "code",
   "execution_count": 8,
   "id": "8b625d3a",
   "metadata": {},
   "outputs": [
    {
     "name": "stdout",
     "output_type": "stream",
     "text": [
      "<class 'pandas.core.frame.DataFrame'>\n",
      "RangeIndex: 418 entries, 0 to 417\n",
      "Data columns (total 2 columns):\n",
      " #   Column       Non-Null Count  Dtype\n",
      "---  ------       --------------  -----\n",
      " 0   Pclass       418 non-null    int64\n",
      " 1   PassengerId  418 non-null    int64\n",
      "dtypes: int64(2)\n",
      "memory usage: 6.7 KB\n"
     ]
    }
   ],
   "source": [
    "a.info()"
   ]
  },
  {
   "cell_type": "code",
   "execution_count": 9,
   "id": "be62b6cb",
   "metadata": {},
   "outputs": [],
   "source": [
    "from sklearn.linear_model import LogisticRegression"
   ]
  },
  {
   "cell_type": "code",
   "execution_count": 10,
   "id": "bb0b5b04",
   "metadata": {},
   "outputs": [],
   "source": [
    "x=LogisticRegression()"
   ]
  },
  {
   "cell_type": "code",
   "execution_count": 11,
   "id": "ceb73298",
   "metadata": {},
   "outputs": [
    {
     "data": {
      "text/html": [
       "<style>#sk-container-id-1 {color: black;background-color: white;}#sk-container-id-1 pre{padding: 0;}#sk-container-id-1 div.sk-toggleable {background-color: white;}#sk-container-id-1 label.sk-toggleable__label {cursor: pointer;display: block;width: 100%;margin-bottom: 0;padding: 0.3em;box-sizing: border-box;text-align: center;}#sk-container-id-1 label.sk-toggleable__label-arrow:before {content: \"▸\";float: left;margin-right: 0.25em;color: #696969;}#sk-container-id-1 label.sk-toggleable__label-arrow:hover:before {color: black;}#sk-container-id-1 div.sk-estimator:hover label.sk-toggleable__label-arrow:before {color: black;}#sk-container-id-1 div.sk-toggleable__content {max-height: 0;max-width: 0;overflow: hidden;text-align: left;background-color: #f0f8ff;}#sk-container-id-1 div.sk-toggleable__content pre {margin: 0.2em;color: black;border-radius: 0.25em;background-color: #f0f8ff;}#sk-container-id-1 input.sk-toggleable__control:checked~div.sk-toggleable__content {max-height: 200px;max-width: 100%;overflow: auto;}#sk-container-id-1 input.sk-toggleable__control:checked~label.sk-toggleable__label-arrow:before {content: \"▾\";}#sk-container-id-1 div.sk-estimator input.sk-toggleable__control:checked~label.sk-toggleable__label {background-color: #d4ebff;}#sk-container-id-1 div.sk-label input.sk-toggleable__control:checked~label.sk-toggleable__label {background-color: #d4ebff;}#sk-container-id-1 input.sk-hidden--visually {border: 0;clip: rect(1px 1px 1px 1px);clip: rect(1px, 1px, 1px, 1px);height: 1px;margin: -1px;overflow: hidden;padding: 0;position: absolute;width: 1px;}#sk-container-id-1 div.sk-estimator {font-family: monospace;background-color: #f0f8ff;border: 1px dotted black;border-radius: 0.25em;box-sizing: border-box;margin-bottom: 0.5em;}#sk-container-id-1 div.sk-estimator:hover {background-color: #d4ebff;}#sk-container-id-1 div.sk-parallel-item::after {content: \"\";width: 100%;border-bottom: 1px solid gray;flex-grow: 1;}#sk-container-id-1 div.sk-label:hover label.sk-toggleable__label {background-color: #d4ebff;}#sk-container-id-1 div.sk-serial::before {content: \"\";position: absolute;border-left: 1px solid gray;box-sizing: border-box;top: 0;bottom: 0;left: 50%;z-index: 0;}#sk-container-id-1 div.sk-serial {display: flex;flex-direction: column;align-items: center;background-color: white;padding-right: 0.2em;padding-left: 0.2em;position: relative;}#sk-container-id-1 div.sk-item {position: relative;z-index: 1;}#sk-container-id-1 div.sk-parallel {display: flex;align-items: stretch;justify-content: center;background-color: white;position: relative;}#sk-container-id-1 div.sk-item::before, #sk-container-id-1 div.sk-parallel-item::before {content: \"\";position: absolute;border-left: 1px solid gray;box-sizing: border-box;top: 0;bottom: 0;left: 50%;z-index: -1;}#sk-container-id-1 div.sk-parallel-item {display: flex;flex-direction: column;z-index: 1;position: relative;background-color: white;}#sk-container-id-1 div.sk-parallel-item:first-child::after {align-self: flex-end;width: 50%;}#sk-container-id-1 div.sk-parallel-item:last-child::after {align-self: flex-start;width: 50%;}#sk-container-id-1 div.sk-parallel-item:only-child::after {width: 0;}#sk-container-id-1 div.sk-dashed-wrapped {border: 1px dashed gray;margin: 0 0.4em 0.5em 0.4em;box-sizing: border-box;padding-bottom: 0.4em;background-color: white;}#sk-container-id-1 div.sk-label label {font-family: monospace;font-weight: bold;display: inline-block;line-height: 1.2em;}#sk-container-id-1 div.sk-label-container {text-align: center;}#sk-container-id-1 div.sk-container {/* jupyter's `normalize.less` sets `[hidden] { display: none; }` but bootstrap.min.css set `[hidden] { display: none !important; }` so we also need the `!important` here to be able to override the default hidden behavior on the sphinx rendered scikit-learn.org. See: https://github.com/scikit-learn/scikit-learn/issues/21755 */display: inline-block !important;position: relative;}#sk-container-id-1 div.sk-text-repr-fallback {display: none;}</style><div id=\"sk-container-id-1\" class=\"sk-top-container\"><div class=\"sk-text-repr-fallback\"><pre>LogisticRegression()</pre><b>In a Jupyter environment, please rerun this cell to show the HTML representation or trust the notebook. <br />On GitHub, the HTML representation is unable to render, please try loading this page with nbviewer.org.</b></div><div class=\"sk-container\" hidden><div class=\"sk-item\"><div class=\"sk-estimator sk-toggleable\"><input class=\"sk-toggleable__control sk-hidden--visually\" id=\"sk-estimator-id-1\" type=\"checkbox\" checked><label for=\"sk-estimator-id-1\" class=\"sk-toggleable__label sk-toggleable__label-arrow\">LogisticRegression</label><div class=\"sk-toggleable__content\"><pre>LogisticRegression()</pre></div></div></div></div></div>"
      ],
      "text/plain": [
       "LogisticRegression()"
      ]
     },
     "execution_count": 11,
     "metadata": {},
     "output_type": "execute_result"
    }
   ],
   "source": [
    "x.fit(a,b)"
   ]
  },
  {
   "cell_type": "code",
   "execution_count": null,
   "id": "077302b7",
   "metadata": {},
   "outputs": [],
   "source": []
  },
  {
   "cell_type": "code",
   "execution_count": 12,
   "id": "970f235c",
   "metadata": {},
   "outputs": [],
   "source": [
    "# y_p = x.predict(z)\n",
    "# y_p"
   ]
  },
  {
   "cell_type": "code",
   "execution_count": 13,
   "id": "49cdf68f",
   "metadata": {},
   "outputs": [
    {
     "data": {
      "text/plain": [
       "0.6363636363636364"
      ]
     },
     "execution_count": 13,
     "metadata": {},
     "output_type": "execute_result"
    }
   ],
   "source": [
    "x.score(a,b)"
   ]
  },
  {
   "cell_type": "code",
   "execution_count": 14,
   "id": "38b1a07e",
   "metadata": {},
   "outputs": [
    {
     "data": {
      "text/plain": [
       "3"
      ]
     },
     "execution_count": 14,
     "metadata": {},
     "output_type": "execute_result"
    }
   ],
   "source": [
    "a['Pclass'].max()"
   ]
  },
  {
   "cell_type": "code",
   "execution_count": 15,
   "id": "ee07ee83",
   "metadata": {},
   "outputs": [
    {
     "data": {
      "text/plain": [
       "1"
      ]
     },
     "execution_count": 15,
     "metadata": {},
     "output_type": "execute_result"
    }
   ],
   "source": [
    "a['Pclass'].min()"
   ]
  },
  {
   "cell_type": "code",
   "execution_count": 16,
   "id": "5a87ac88",
   "metadata": {},
   "outputs": [
    {
     "name": "stdout",
     "output_type": "stream",
     "text": [
      "<class 'pandas.core.frame.DataFrame'>\n",
      "RangeIndex: 418 entries, 0 to 417\n",
      "Data columns (total 2 columns):\n",
      " #   Column       Non-Null Count  Dtype\n",
      "---  ------       --------------  -----\n",
      " 0   Pclass       418 non-null    int64\n",
      " 1   PassengerId  418 non-null    int64\n",
      "dtypes: int64(2)\n",
      "memory usage: 6.7 KB\n"
     ]
    }
   ],
   "source": [
    "a.info()"
   ]
  },
  {
   "cell_type": "code",
   "execution_count": 17,
   "id": "344df272",
   "metadata": {},
   "outputs": [
    {
     "data": {
      "text/plain": [
       "892"
      ]
     },
     "execution_count": 17,
     "metadata": {},
     "output_type": "execute_result"
    }
   ],
   "source": [
    "a['PassengerId'].min()"
   ]
  },
  {
   "cell_type": "code",
   "execution_count": 18,
   "id": "823afec3",
   "metadata": {},
   "outputs": [
    {
     "data": {
      "text/plain": [
       "1309"
      ]
     },
     "execution_count": 18,
     "metadata": {},
     "output_type": "execute_result"
    }
   ],
   "source": [
    "a['PassengerId'].max()"
   ]
  },
  {
   "cell_type": "code",
   "execution_count": 19,
   "id": "cbe37678",
   "metadata": {},
   "outputs": [
    {
     "data": {
      "text/plain": [
       "<AxesSubplot:xlabel='Pclass', ylabel='Density'>"
      ]
     },
     "execution_count": 19,
     "metadata": {},
     "output_type": "execute_result"
    },
    {
     "data": {
      "image/png": "[encoded data removed]",
      "text/plain": [
       "<Figure size 432x288 with 1 Axes>"
      ]
     },
     "metadata": {
      "needs_background": "light"
     },
     "output_type": "display_data"
    }
   ],
   "source": [
    "sns.kdeplot(a['Pclass'])"
   ]
  },
  {
   "cell_type": "code",
   "execution_count": 20,
   "id": "705f44c5",
   "metadata": {},
   "outputs": [
    {
     "name": "stderr",
     "output_type": "stream",
     "text": [
      "C:\\Users\\HP\\anaconda3\\lib\\site-packages\\seaborn\\_decorators.py:36: FutureWarning: Pass the following variables as keyword args: x, y. From version 0.12, the only valid positional argument will be `data`, and passing other arguments without an explicit keyword will result in an error or misinterpretation.\n",
      "  warnings.warn(\n"
     ]
    },
    {
     "data": {
      "text/plain": [
       "<AxesSubplot:xlabel='Pclass', ylabel='PassengerId'>"
      ]
     },
     "execution_count": 20,
     "metadata": {},
     "output_type": "execute_result"
    },
    {
     "data": {
      "image/png": "[encoded data removed]",
      "text/plain": [
       "<Figure size 432x288 with 1 Axes>"
      ]
     },
     "metadata": {
      "needs_background": "light"
     },
     "output_type": "display_data"
    }
   ],
   "source": [
    "color_dict={1:'red',2:'green'}\n",
    "sns.scatterplot(a['Pclass'],a['PassengerId'],palette=color_dict)"
   ]
  },
  {
   "cell_type": "code",
   "execution_count": 21,
   "id": "d66ba9c0",
   "metadata": {},
   "outputs": [
    {
     "data": {
      "text/plain": [
       "<AxesSubplot:xlabel='PassengerId', ylabel='Density'>"
      ]
     },
     "execution_count": 21,
     "metadata": {},
     "output_type": "execute_result"
    },
    {
     "data": {
      "image/png": "[encoded data removed]",
      "text/plain": [
       "<Figure size 432x288 with 1 Axes>"
      ]
     },
     "metadata": {
      "needs_background": "light"
     },
     "output_type": "display_data"
    }
   ],
   "source": [
    "sns.kdeplot(a['PassengerId'])"
   ]
  },
  {
   "cell_type": "code",
   "execution_count": 22,
   "id": "ed35648c",
   "metadata": {},
   "outputs": [
    {
     "data": {
      "text/plain": [
       "((292, 2), (126, 2))"
      ]
     },
     "execution_count": 22,
     "metadata": {},
     "output_type": "execute_result"
    }
   ],
   "source": [
    "from sklearn.model_selection import train_test_split\n",
    "X_train, X_test, y_train, y_test = train_test_split(a,b,test_size=0.3,random_state=0)\n",
    "X_train.shape, X_test.shape"
   ]
  },
  {
   "cell_type": "code",
   "execution_count": 23,
   "id": "c6aed053",
   "metadata": {},
   "outputs": [],
   "source": [
    "from sklearn.preprocessing import MinMaxScaler\n",
    "scaler = MinMaxScaler()\n",
    "\n",
    "scaler.fit(X_train)\n",
    "\n",
    "X_train_scaled = scaler.transform(X_train)\n",
    "X_test_scaled = scaler.transform(X_test)"
   ]
  },
  {
   "cell_type": "code",
   "execution_count": 24,
   "id": "14c49748",
   "metadata": {},
   "outputs": [
    {
     "data": {
      "text/html": [
       "<div>\n",
       "<style scoped>\n",
       "    .dataframe tbody tr th:only-of-type {\n",
       "        vertical-align: middle;\n",
       "    }\n",
       "\n",
       "    .dataframe tbody tr th {\n",
       "        vertical-align: top;\n",
       "    }\n",
       "\n",
       "    .dataframe thead th {\n",
       "        text-align: right;\n",
       "    }\n",
       "</style>\n",
       "<table border=\"1\" class=\"dataframe\">\n",
       "  <thead>\n",
       "    <tr style=\"text-align: right;\">\n",
       "      <th></th>\n",
       "      <th>Pclass</th>\n",
       "      <th>PassengerId</th>\n",
       "    </tr>\n",
       "  </thead>\n",
       "  <tbody>\n",
       "    <tr>\n",
       "      <th>96</th>\n",
       "      <td>1</td>\n",
       "      <td>988</td>\n",
       "    </tr>\n",
       "    <tr>\n",
       "      <th>381</th>\n",
       "      <td>3</td>\n",
       "      <td>1273</td>\n",
       "    </tr>\n",
       "    <tr>\n",
       "      <th>89</th>\n",
       "      <td>2</td>\n",
       "      <td>981</td>\n",
       "    </tr>\n",
       "    <tr>\n",
       "      <th>233</th>\n",
       "      <td>3</td>\n",
       "      <td>1125</td>\n",
       "    </tr>\n",
       "    <tr>\n",
       "      <th>191</th>\n",
       "      <td>1</td>\n",
       "      <td>1083</td>\n",
       "    </tr>\n",
       "    <tr>\n",
       "      <th>...</th>\n",
       "      <td>...</td>\n",
       "      <td>...</td>\n",
       "    </tr>\n",
       "    <tr>\n",
       "      <th>323</th>\n",
       "      <td>1</td>\n",
       "      <td>1215</td>\n",
       "    </tr>\n",
       "    <tr>\n",
       "      <th>192</th>\n",
       "      <td>3</td>\n",
       "      <td>1084</td>\n",
       "    </tr>\n",
       "    <tr>\n",
       "      <th>117</th>\n",
       "      <td>3</td>\n",
       "      <td>1009</td>\n",
       "    </tr>\n",
       "    <tr>\n",
       "      <th>47</th>\n",
       "      <td>3</td>\n",
       "      <td>939</td>\n",
       "    </tr>\n",
       "    <tr>\n",
       "      <th>172</th>\n",
       "      <td>3</td>\n",
       "      <td>1064</td>\n",
       "    </tr>\n",
       "  </tbody>\n",
       "</table>\n",
       "<p>292 rows × 2 columns</p>\n",
       "</div>"
      ],
      "text/plain": [
       "     Pclass  PassengerId\n",
       "96        1          988\n",
       "381       3         1273\n",
       "89        2          981\n",
       "233       3         1125\n",
       "191       1         1083\n",
       "..      ...          ...\n",
       "323       1         1215\n",
       "192       3         1084\n",
       "117       3         1009\n",
       "47        3          939\n",
       "172       3         1064\n",
       "\n",
       "[292 rows x 2 columns]"
      ]
     },
     "execution_count": 24,
     "metadata": {},
     "output_type": "execute_result"
    }
   ],
   "source": [
    "X_train"
   ]
  },
  {
   "cell_type": "code",
   "execution_count": 25,
   "id": "49261d2e",
   "metadata": {},
   "outputs": [
    {
     "data": {
      "text/plain": [
       "array([[0.        , 0.23076923],\n",
       "       [1.        , 0.91586538],\n",
       "       [0.5       , 0.21394231],\n",
       "       [1.        , 0.56009615],\n",
       "       [0.        , 0.45913462],\n",
       "       [1.        , 0.85096154],\n",
       "       [1.        , 0.60817308],\n",
       "       [0.        , 0.22115385],\n",
       "       [0.        , 0.57692308],\n",
       "       [0.5       , 0.46634615],\n",
       "       [1.        , 0.91826923],\n",
       "       [1.        , 0.38221154],\n",
       "       [1.        , 0.49519231],\n",
       "       [1.        , 0.15865385],\n",
       "       [0.        , 0.79567308],\n",
       "       [0.5       , 0.42067308],\n",
       "       [1.        , 0.33653846],\n",
       "       [0.5       , 0.24278846],\n",
       "       [0.        , 0.78605769],\n",
       "       [0.        , 0.49278846],\n",
       "       [0.        , 0.82451923],\n",
       "       [1.        , 0.04086538],\n",
       "       [0.        , 0.35096154],\n",
       "       [1.        , 0.41105769],\n",
       "       [0.        , 0.52403846],\n",
       "       [0.5       , 0.07211538],\n",
       "       [0.        , 0.27403846],\n",
       "       [0.5       , 0.84855769],\n",
       "       [1.        , 0.24759615],\n",
       "       [0.        , 0.47115385],\n",
       "       [1.        , 0.62259615],\n",
       "       [0.5       , 0.78365385],\n",
       "       [1.        , 0.27884615],\n",
       "       [1.        , 0.83413462],\n",
       "       [0.5       , 0.28846154],\n",
       "       [0.        , 0.98798077],\n",
       "       [0.        , 0.26923077],\n",
       "       [1.        , 0.55769231],\n",
       "       [1.        , 0.32692308],\n",
       "       [1.        , 0.87740385],\n",
       "       [1.        , 0.30288462],\n",
       "       [1.        , 0.48076923],\n",
       "       [0.        , 0.96153846],\n",
       "       [0.5       , 0.71153846],\n",
       "       [1.        , 0.31971154],\n",
       "       [1.        , 0.07932692],\n",
       "       [0.        , 0.94951923],\n",
       "       [0.5       , 0.38942308],\n",
       "       [0.        , 0.08173077],\n",
       "       [0.5       , 0.55048077],\n",
       "       [1.        , 0.23317308],\n",
       "       [1.        , 0.20432692],\n",
       "       [0.5       , 0.14663462],\n",
       "       [1.        , 0.40144231],\n",
       "       [1.        , 0.41586538],\n",
       "       [1.        , 0.73798077],\n",
       "       [1.        , 0.98076923],\n",
       "       [1.        , 0.98317308],\n",
       "       [0.5       , 0.59375   ],\n",
       "       [0.        , 0.55528846],\n",
       "       [1.        , 0.25961538],\n",
       "       [1.        , 0.76923077],\n",
       "       [0.        , 0.11057692],\n",
       "       [1.        , 0.94711538],\n",
       "       [1.        , 0.82211538],\n",
       "       [0.5       , 0.57932692],\n",
       "       [0.        , 0.17548077],\n",
       "       [0.5       , 0.32932692],\n",
       "       [1.        , 0.95673077],\n",
       "       [1.        , 0.53125   ],\n",
       "       [1.        , 0.54086538],\n",
       "       [1.        , 0.06971154],\n",
       "       [0.        , 0.43509615],\n",
       "       [1.        , 0.72836538],\n",
       "       [1.        , 0.91346154],\n",
       "       [0.5       , 0.12259615],\n",
       "       [1.        , 0.82932692],\n",
       "       [0.5       , 0.88701923],\n",
       "       [1.        , 0.06490385],\n",
       "       [0.5       , 0.00480769],\n",
       "       [0.        , 0.5625    ],\n",
       "       [0.        , 0.375     ],\n",
       "       [1.        , 0.76442308],\n",
       "       [0.5       , 0.94471154],\n",
       "       [0.5       , 0.57211538],\n",
       "       [1.        , 0.33173077],\n",
       "       [0.5       , 0.50961538],\n",
       "       [1.        , 0.61298077],\n",
       "       [0.        , 0.56730769],\n",
       "       [1.        , 0.69471154],\n",
       "       [0.        , 0.70432692],\n",
       "       [0.        , 0.51682692],\n",
       "       [1.        , 0.99278846],\n",
       "       [0.5       , 0.45432692],\n",
       "       [1.        , 0.51442308],\n",
       "       [1.        , 0.08413462],\n",
       "       [0.5       , 0.49038462],\n",
       "       [0.5       , 0.66826923],\n",
       "       [1.        , 0.50480769],\n",
       "       [0.        , 0.16105769],\n",
       "       [0.        , 0.05769231],\n",
       "       [1.        , 0.67548077],\n",
       "       [1.        , 0.51923077],\n",
       "       [0.        , 0.10576923],\n",
       "       [0.        , 0.28365385],\n",
       "       [1.        , 0.53605769],\n",
       "       [1.        , 0.31009615],\n",
       "       [1.        , 0.22355769],\n",
       "       [1.        , 0.26682692],\n",
       "       [0.        , 0.39903846],\n",
       "       [0.5       , 0.76682692],\n",
       "       [0.5       , 0.79326923],\n",
       "       [0.5       , 0.90625   ],\n",
       "       [1.        , 0.09615385],\n",
       "       [1.        , 0.04326923],\n",
       "       [1.        , 0.71875   ],\n",
       "       [1.        , 0.18990385],\n",
       "       [0.5       , 0.81730769],\n",
       "       [0.5       , 0.63461538],\n",
       "       [1.        , 0.17067308],\n",
       "       [0.5       , 0.03125   ],\n",
       "       [0.        , 0.85336538],\n",
       "       [0.5       , 0.51201923],\n",
       "       [0.        , 0.96875   ],\n",
       "       [1.        , 0.82692308],\n",
       "       [0.        , 0.60576923],\n",
       "       [1.        , 0.99038462],\n",
       "       [1.        , 0.54807692],\n",
       "       [1.        , 0.38461538],\n",
       "       [1.        , 0.25      ],\n",
       "       [1.        , 0.38701923],\n",
       "       [1.        , 0.19951923],\n",
       "       [1.        , 0.99759615],\n",
       "       [1.        , 0.94230769],\n",
       "       [0.5       , 0.26442308],\n",
       "       [0.5       , 0.35817308],\n",
       "       [1.        , 0.36538462],\n",
       "       [0.5       , 0.03846154],\n",
       "       [1.        , 0.68028846],\n",
       "       [0.5       , 0.26201923],\n",
       "       [1.        , 0.70673077],\n",
       "       [1.        , 0.33413462],\n",
       "       [1.        , 0.56971154],\n",
       "       [1.        , 0.625     ],\n",
       "       [1.        , 0.72115385],\n",
       "       [0.5       , 0.80769231],\n",
       "       [0.5       , 0.59615385],\n",
       "       [1.        , 0.81971154],\n",
       "       [1.        , 0.04567308],\n",
       "       [1.        , 0.64663462],\n",
       "       [1.        , 0.54326923],\n",
       "       [0.5       , 0.77403846],\n",
       "       [1.        , 0.00721154],\n",
       "       [0.5       , 0.84375   ],\n",
       "       [1.        , 0.30048077],\n",
       "       [1.        , 0.67307692],\n",
       "       [0.        , 0.18509615],\n",
       "       [0.        , 0.44230769],\n",
       "       [0.        , 0.75961538],\n",
       "       [0.5       , 0.96394231],\n",
       "       [0.5       , 0.66105769],\n",
       "       [1.        , 0.87259615],\n",
       "       [0.        , 0.4375    ],\n",
       "       [0.5       , 0.89663462],\n",
       "       [1.        , 0.19230769],\n",
       "       [0.5       , 0.62019231],\n",
       "       [0.        , 0.02644231],\n",
       "       [1.        , 0.75240385],\n",
       "       [1.        , 0.20673077],\n",
       "       [0.        , 0.63942308],\n",
       "       [1.        , 0.08653846],\n",
       "       [1.        , 0.95913462],\n",
       "       [1.        , 0.13942308],\n",
       "       [0.        , 0.09855769],\n",
       "       [0.        , 0.64903846],\n",
       "       [0.        , 0.12019231],\n",
       "       [1.        , 0.50240385],\n",
       "       [0.        , 0.93990385],\n",
       "       [1.        , 0.79807692],\n",
       "       [0.5       , 0.83653846],\n",
       "       [1.        , 0.29567308],\n",
       "       [0.5       , 0.53365385],\n",
       "       [1.        , 0.14903846],\n",
       "       [0.5       , 0.76201923],\n",
       "       [1.        , 0.3125    ],\n",
       "       [1.        , 0.44951923],\n",
       "       [0.        , 0.05528846],\n",
       "       [0.5       , 0.10336538],\n",
       "       [1.        , 0.        ],\n",
       "       [1.        , 0.48317308],\n",
       "       [0.        , 0.85576923],\n",
       "       [1.        , 0.23557692],\n",
       "       [1.        , 0.73076923],\n",
       "       [0.5       , 0.97355769],\n",
       "       [0.5       , 0.42788462],\n",
       "       [1.        , 0.61538462],\n",
       "       [0.        , 0.22596154],\n",
       "       [1.        , 0.92788462],\n",
       "       [1.        , 0.22836538],\n",
       "       [0.        , 0.88461538],\n",
       "       [1.        , 0.40625   ],\n",
       "       [0.        , 0.16586538],\n",
       "       [0.        , 0.73317308],\n",
       "       [0.        , 0.11538462],\n",
       "       [0.5       , 0.49759615],\n",
       "       [0.5       , 0.67067308],\n",
       "       [1.        , 0.54567308],\n",
       "       [0.        , 0.35576923],\n",
       "       [0.5       , 0.34375   ],\n",
       "       [1.        , 0.80288462],\n",
       "       [0.5       , 0.43269231],\n",
       "       [0.        , 0.31490385],\n",
       "       [0.        , 0.89903846],\n",
       "       [1.        , 1.        ],\n",
       "       [0.5       , 0.62980769],\n",
       "       [0.        , 0.77884615],\n",
       "       [0.5       , 0.48798077],\n",
       "       [0.5       , 0.20192308],\n",
       "       [1.        , 0.29086538],\n",
       "       [0.5       , 0.87019231],\n",
       "       [1.        , 0.92067308],\n",
       "       [1.        , 0.21875   ],\n",
       "       [0.        , 0.19711538],\n",
       "       [1.        , 0.64182692],\n",
       "       [0.5       , 0.28605769],\n",
       "       [1.        , 0.69951923],\n",
       "       [1.        , 0.13701923],\n",
       "       [1.        , 0.77163462],\n",
       "       [1.        , 0.61778846],\n",
       "       [0.        , 0.89423077],\n",
       "       [1.        , 0.10096154],\n",
       "       [1.        , 0.25240385],\n",
       "       [0.5       , 0.92548077],\n",
       "       [1.        , 0.65625   ],\n",
       "       [0.5       , 0.88942308],\n",
       "       [1.        , 0.09134615],\n",
       "       [0.        , 0.12740385],\n",
       "       [0.        , 0.875     ],\n",
       "       [0.5       , 0.30769231],\n",
       "       [0.        , 0.69711538],\n",
       "       [0.        , 0.06730769],\n",
       "       [1.        , 0.43990385],\n",
       "       [1.        , 0.39182692],\n",
       "       [1.        , 0.36298077],\n",
       "       [1.        , 0.58653846],\n",
       "       [0.        , 0.48557692],\n",
       "       [0.5       , 0.07451923],\n",
       "       [1.        , 0.07692308],\n",
       "       [1.        , 0.30528846],\n",
       "       [0.5       , 0.44471154],\n",
       "       [1.        , 0.93509615],\n",
       "       [1.        , 0.69230769],\n",
       "       [1.        , 0.91105769],\n",
       "       [1.        , 0.35336538],\n",
       "       [1.        , 0.68509615],\n",
       "       [0.5       , 0.93028846],\n",
       "       [0.        , 0.42548077],\n",
       "       [1.        , 0.23798077],\n",
       "       [0.5       , 0.8125    ],\n",
       "       [0.        , 0.80528846],\n",
       "       [1.        , 0.47355769],\n",
       "       [1.        , 0.58413462],\n",
       "       [1.        , 0.27644231],\n",
       "       [1.        , 0.63701923],\n",
       "       [1.        , 0.17307692],\n",
       "       [1.        , 0.80048077],\n",
       "       [1.        , 0.06009615],\n",
       "       [1.        , 0.39663462],\n",
       "       [1.        , 0.81009615],\n",
       "       [0.        , 0.96634615],\n",
       "       [1.        , 0.41826923],\n",
       "       [0.        , 0.97115385],\n",
       "       [1.        , 0.09375   ],\n",
       "       [0.5       , 0.46394231],\n",
       "       [0.        , 0.75480769],\n",
       "       [1.        , 0.95192308],\n",
       "       [1.        , 0.21153846],\n",
       "       [1.        , 0.16826923],\n",
       "       [1.        , 0.20913462],\n",
       "       [1.        , 0.70192308],\n",
       "       [0.        , 0.58173077],\n",
       "       [0.5       , 0.66586538],\n",
       "       [1.        , 0.50721154],\n",
       "       [1.        , 0.02163462],\n",
       "       [1.        , 0.86298077],\n",
       "       [1.        , 0.46875   ],\n",
       "       [1.        , 0.60336538],\n",
       "       [0.        , 0.77644231],\n",
       "       [1.        , 0.46153846],\n",
       "       [1.        , 0.28125   ],\n",
       "       [1.        , 0.11298077],\n",
       "       [1.        , 0.41346154]])"
      ]
     },
     "execution_count": 25,
     "metadata": {},
     "output_type": "execute_result"
    }
   ],
   "source": [
    "X_train_scaled"
   ]
  },
  {
   "cell_type": "code",
   "execution_count": 26,
   "id": "887626eb",
   "metadata": {},
   "outputs": [
    {
     "data": {
      "text/html": [
       "<div>\n",
       "<style scoped>\n",
       "    .dataframe tbody tr th:only-of-type {\n",
       "        vertical-align: middle;\n",
       "    }\n",
       "\n",
       "    .dataframe tbody tr th {\n",
       "        vertical-align: top;\n",
       "    }\n",
       "\n",
       "    .dataframe thead th {\n",
       "        text-align: right;\n",
       "    }\n",
       "</style>\n",
       "<table border=\"1\" class=\"dataframe\">\n",
       "  <thead>\n",
       "    <tr style=\"text-align: right;\">\n",
       "      <th></th>\n",
       "      <th>Pclass</th>\n",
       "      <th>PassengerId</th>\n",
       "    </tr>\n",
       "  </thead>\n",
       "  <tbody>\n",
       "    <tr>\n",
       "      <th>count</th>\n",
       "      <td>292.0</td>\n",
       "      <td>292.0</td>\n",
       "    </tr>\n",
       "    <tr>\n",
       "      <th>mean</th>\n",
       "      <td>2.3</td>\n",
       "      <td>1102.8</td>\n",
       "    </tr>\n",
       "    <tr>\n",
       "      <th>std</th>\n",
       "      <td>0.8</td>\n",
       "      <td>118.9</td>\n",
       "    </tr>\n",
       "    <tr>\n",
       "      <th>min</th>\n",
       "      <td>1.0</td>\n",
       "      <td>892.0</td>\n",
       "    </tr>\n",
       "    <tr>\n",
       "      <th>25%</th>\n",
       "      <td>2.0</td>\n",
       "      <td>1001.8</td>\n",
       "    </tr>\n",
       "    <tr>\n",
       "      <th>50%</th>\n",
       "      <td>3.0</td>\n",
       "      <td>1101.5</td>\n",
       "    </tr>\n",
       "    <tr>\n",
       "      <th>75%</th>\n",
       "      <td>3.0</td>\n",
       "      <td>1209.2</td>\n",
       "    </tr>\n",
       "    <tr>\n",
       "      <th>max</th>\n",
       "      <td>3.0</td>\n",
       "      <td>1308.0</td>\n",
       "    </tr>\n",
       "  </tbody>\n",
       "</table>\n",
       "</div>"
      ],
      "text/plain": [
       "       Pclass  PassengerId\n",
       "count   292.0        292.0\n",
       "mean      2.3       1102.8\n",
       "std       0.8        118.9\n",
       "min       1.0        892.0\n",
       "25%       2.0       1001.8\n",
       "50%       3.0       1101.5\n",
       "75%       3.0       1209.2\n",
       "max       3.0       1308.0"
      ]
     },
     "execution_count": 26,
     "metadata": {},
     "output_type": "execute_result"
    }
   ],
   "source": [
    "np.round(X_train.describe(),1)"
   ]
  },
  {
   "cell_type": "code",
   "execution_count": 27,
   "id": "2a1c6aae",
   "metadata": {},
   "outputs": [
    {
     "data": {
      "text/plain": [
       "Text(0.5, 1.0, 'After Scaling')"
      ]
     },
     "execution_count": 27,
     "metadata": {},
     "output_type": "execute_result"
    },
    {
     "data": {
      "image/png": "[encoded data removed]",
      "text/plain": [
       "<Figure size 864x360 with 2 Axes>"
      ]
     },
     "metadata": {
      "needs_background": "light"
     },
     "output_type": "display_data"
    }
   ],
   "source": [
    "fig, (ax1, ax2) = plt.subplots(ncols=2, figsize=(12,5)) \n",
    "ax1.scatter(X_train['Pclass'],X_train['PassengerId'],c=y_train)\n",
    "ax1.set_title('Before Scaling')\n",
    "ax2.scatter(X_train['Pclass'],X_train['PassengerId'],c=y_train)\n",
    "ax2.set_title('After Scaling')"
   ]
  },
  {
   "cell_type": "code",
   "execution_count": 28,
   "id": "3e94d65f",
   "metadata": {},
   "outputs": [
    {
     "data": {
      "text/html": [
       "<div>\n",
       "<style scoped>\n",
       "    .dataframe tbody tr th:only-of-type {\n",
       "        vertical-align: middle;\n",
       "    }\n",
       "\n",
       "    .dataframe tbody tr th {\n",
       "        vertical-align: top;\n",
       "    }\n",
       "\n",
       "    .dataframe thead th {\n",
       "        text-align: right;\n",
       "    }\n",
       "</style>\n",
       "<table border=\"1\" class=\"dataframe\">\n",
       "  <thead>\n",
       "    <tr style=\"text-align: right;\">\n",
       "      <th></th>\n",
       "      <th>Pclass</th>\n",
       "      <th>PassengerId</th>\n",
       "    </tr>\n",
       "  </thead>\n",
       "  <tbody>\n",
       "    <tr>\n",
       "      <th>0</th>\n",
       "      <td>3</td>\n",
       "      <td>892</td>\n",
       "    </tr>\n",
       "    <tr>\n",
       "      <th>1</th>\n",
       "      <td>3</td>\n",
       "      <td>893</td>\n",
       "    </tr>\n",
       "    <tr>\n",
       "      <th>2</th>\n",
       "      <td>2</td>\n",
       "      <td>894</td>\n",
       "    </tr>\n",
       "    <tr>\n",
       "      <th>3</th>\n",
       "      <td>3</td>\n",
       "      <td>895</td>\n",
       "    </tr>\n",
       "    <tr>\n",
       "      <th>4</th>\n",
       "      <td>3</td>\n",
       "      <td>896</td>\n",
       "    </tr>\n",
       "    <tr>\n",
       "      <th>...</th>\n",
       "      <td>...</td>\n",
       "      <td>...</td>\n",
       "    </tr>\n",
       "    <tr>\n",
       "      <th>413</th>\n",
       "      <td>3</td>\n",
       "      <td>1305</td>\n",
       "    </tr>\n",
       "    <tr>\n",
       "      <th>414</th>\n",
       "      <td>1</td>\n",
       "      <td>1306</td>\n",
       "    </tr>\n",
       "    <tr>\n",
       "      <th>415</th>\n",
       "      <td>3</td>\n",
       "      <td>1307</td>\n",
       "    </tr>\n",
       "    <tr>\n",
       "      <th>416</th>\n",
       "      <td>3</td>\n",
       "      <td>1308</td>\n",
       "    </tr>\n",
       "    <tr>\n",
       "      <th>417</th>\n",
       "      <td>3</td>\n",
       "      <td>1309</td>\n",
       "    </tr>\n",
       "  </tbody>\n",
       "</table>\n",
       "<p>418 rows × 2 columns</p>\n",
       "</div>"
      ],
      "text/plain": [
       "     Pclass  PassengerId\n",
       "0         3          892\n",
       "1         3          893\n",
       "2         2          894\n",
       "3         3          895\n",
       "4         3          896\n",
       "..      ...          ...\n",
       "413       3         1305\n",
       "414       1         1306\n",
       "415       3         1307\n",
       "416       3         1308\n",
       "417       3         1309\n",
       "\n",
       "[418 rows x 2 columns]"
      ]
     },
     "execution_count": 28,
     "metadata": {},
     "output_type": "execute_result"
    }
   ],
   "source": [
    "a"
   ]
  },
  {
   "cell_type": "code",
   "execution_count": 29,
   "id": "95b2d68b",
   "metadata": {},
   "outputs": [
    {
     "data": {
      "text/plain": [
       "2.2655502392344498"
      ]
     },
     "execution_count": 29,
     "metadata": {},
     "output_type": "execute_result"
    }
   ],
   "source": [
    "a['Pclass'].mean()"
   ]
  },
  {
   "cell_type": "code",
   "execution_count": 30,
   "id": "00400cee",
   "metadata": {},
   "outputs": [
    {
     "data": {
      "text/plain": [
       "1100.5"
      ]
     },
     "execution_count": 30,
     "metadata": {},
     "output_type": "execute_result"
    }
   ],
   "source": [
    "a['PassengerId'].mean()"
   ]
  },
  {
   "cell_type": "code",
   "execution_count": 31,
   "id": "0be7ee82",
   "metadata": {},
   "outputs": [
    {
     "data": {
      "text/plain": [
       "((292, 2), (126, 2))"
      ]
     },
     "execution_count": 31,
     "metadata": {},
     "output_type": "execute_result"
    }
   ],
   "source": [
    "from sklearn.model_selection import train_test_split\n",
    "X_train, X_test, y_train, y_test = train_test_split(a,b,test_size=0.3,random_state=0)\n",
    "X_train.shape, X_test.shape"
   ]
  },
  {
   "cell_type": "code",
   "execution_count": 32,
   "id": "934b4092",
   "metadata": {},
   "outputs": [
    {
     "data": {
      "text/plain": [
       "((292,), (126,))"
      ]
     },
     "execution_count": 32,
     "metadata": {},
     "output_type": "execute_result"
    }
   ],
   "source": [
    "y_train.shape, y_test.shape"
   ]
  },
  {
   "cell_type": "code",
   "execution_count": 33,
   "id": "885c267f",
   "metadata": {},
   "outputs": [
    {
     "data": {
      "text/html": [
       "<div>\n",
       "<style scoped>\n",
       "    .dataframe tbody tr th:only-of-type {\n",
       "        vertical-align: middle;\n",
       "    }\n",
       "\n",
       "    .dataframe tbody tr th {\n",
       "        vertical-align: top;\n",
       "    }\n",
       "\n",
       "    .dataframe thead th {\n",
       "        text-align: right;\n",
       "    }\n",
       "</style>\n",
       "<table border=\"1\" class=\"dataframe\">\n",
       "  <thead>\n",
       "    <tr style=\"text-align: right;\">\n",
       "      <th></th>\n",
       "      <th>Pclass</th>\n",
       "      <th>PassengerId</th>\n",
       "    </tr>\n",
       "  </thead>\n",
       "  <tbody>\n",
       "    <tr>\n",
       "      <th>96</th>\n",
       "      <td>1</td>\n",
       "      <td>988</td>\n",
       "    </tr>\n",
       "    <tr>\n",
       "      <th>381</th>\n",
       "      <td>3</td>\n",
       "      <td>1273</td>\n",
       "    </tr>\n",
       "    <tr>\n",
       "      <th>89</th>\n",
       "      <td>2</td>\n",
       "      <td>981</td>\n",
       "    </tr>\n",
       "    <tr>\n",
       "      <th>233</th>\n",
       "      <td>3</td>\n",
       "      <td>1125</td>\n",
       "    </tr>\n",
       "    <tr>\n",
       "      <th>191</th>\n",
       "      <td>1</td>\n",
       "      <td>1083</td>\n",
       "    </tr>\n",
       "    <tr>\n",
       "      <th>...</th>\n",
       "      <td>...</td>\n",
       "      <td>...</td>\n",
       "    </tr>\n",
       "    <tr>\n",
       "      <th>323</th>\n",
       "      <td>1</td>\n",
       "      <td>1215</td>\n",
       "    </tr>\n",
       "    <tr>\n",
       "      <th>192</th>\n",
       "      <td>3</td>\n",
       "      <td>1084</td>\n",
       "    </tr>\n",
       "    <tr>\n",
       "      <th>117</th>\n",
       "      <td>3</td>\n",
       "      <td>1009</td>\n",
       "    </tr>\n",
       "    <tr>\n",
       "      <th>47</th>\n",
       "      <td>3</td>\n",
       "      <td>939</td>\n",
       "    </tr>\n",
       "    <tr>\n",
       "      <th>172</th>\n",
       "      <td>3</td>\n",
       "      <td>1064</td>\n",
       "    </tr>\n",
       "  </tbody>\n",
       "</table>\n",
       "<p>292 rows × 2 columns</p>\n",
       "</div>"
      ],
      "text/plain": [
       "     Pclass  PassengerId\n",
       "96        1          988\n",
       "381       3         1273\n",
       "89        2          981\n",
       "233       3         1125\n",
       "191       1         1083\n",
       "..      ...          ...\n",
       "323       1         1215\n",
       "192       3         1084\n",
       "117       3         1009\n",
       "47        3          939\n",
       "172       3         1064\n",
       "\n",
       "[292 rows x 2 columns]"
      ]
     },
     "execution_count": 33,
     "metadata": {},
     "output_type": "execute_result"
    }
   ],
   "source": [
    "X_train"
   ]
  },
  {
   "cell_type": "code",
   "execution_count": 34,
   "id": "422deb18",
   "metadata": {},
   "outputs": [
    {
     "data": {
      "text/plain": [
       "96     1\n",
       "381    0\n",
       "89     0\n",
       "233    0\n",
       "191    0\n",
       "      ..\n",
       "323    0\n",
       "192    0\n",
       "117    1\n",
       "47     0\n",
       "172    0\n",
       "Name: Survived, Length: 292, dtype: int64"
      ]
     },
     "execution_count": 34,
     "metadata": {},
     "output_type": "execute_result"
    }
   ],
   "source": [
    "y_train"
   ]
  },
  {
   "cell_type": "code",
   "execution_count": 35,
   "id": "fcd26502",
   "metadata": {},
   "outputs": [
    {
     "data": {
      "text/html": [
       "<div>\n",
       "<style scoped>\n",
       "    .dataframe tbody tr th:only-of-type {\n",
       "        vertical-align: middle;\n",
       "    }\n",
       "\n",
       "    .dataframe tbody tr th {\n",
       "        vertical-align: top;\n",
       "    }\n",
       "\n",
       "    .dataframe thead th {\n",
       "        text-align: right;\n",
       "    }\n",
       "</style>\n",
       "<table border=\"1\" class=\"dataframe\">\n",
       "  <thead>\n",
       "    <tr style=\"text-align: right;\">\n",
       "      <th></th>\n",
       "      <th>Pclass</th>\n",
       "      <th>PassengerId</th>\n",
       "    </tr>\n",
       "  </thead>\n",
       "  <tbody>\n",
       "    <tr>\n",
       "      <th>360</th>\n",
       "      <td>3</td>\n",
       "      <td>1252</td>\n",
       "    </tr>\n",
       "    <tr>\n",
       "      <th>170</th>\n",
       "      <td>3</td>\n",
       "      <td>1062</td>\n",
       "    </tr>\n",
       "    <tr>\n",
       "      <th>224</th>\n",
       "      <td>1</td>\n",
       "      <td>1116</td>\n",
       "    </tr>\n",
       "    <tr>\n",
       "      <th>358</th>\n",
       "      <td>3</td>\n",
       "      <td>1250</td>\n",
       "    </tr>\n",
       "    <tr>\n",
       "      <th>309</th>\n",
       "      <td>3</td>\n",
       "      <td>1201</td>\n",
       "    </tr>\n",
       "    <tr>\n",
       "      <th>...</th>\n",
       "      <td>...</td>\n",
       "      <td>...</td>\n",
       "    </tr>\n",
       "    <tr>\n",
       "      <th>81</th>\n",
       "      <td>1</td>\n",
       "      <td>973</td>\n",
       "    </tr>\n",
       "    <tr>\n",
       "      <th>107</th>\n",
       "      <td>3</td>\n",
       "      <td>999</td>\n",
       "    </tr>\n",
       "    <tr>\n",
       "      <th>366</th>\n",
       "      <td>3</td>\n",
       "      <td>1258</td>\n",
       "    </tr>\n",
       "    <tr>\n",
       "      <th>414</th>\n",
       "      <td>1</td>\n",
       "      <td>1306</td>\n",
       "    </tr>\n",
       "    <tr>\n",
       "      <th>297</th>\n",
       "      <td>3</td>\n",
       "      <td>1189</td>\n",
       "    </tr>\n",
       "  </tbody>\n",
       "</table>\n",
       "<p>126 rows × 2 columns</p>\n",
       "</div>"
      ],
      "text/plain": [
       "     Pclass  PassengerId\n",
       "360       3         1252\n",
       "170       3         1062\n",
       "224       1         1116\n",
       "358       3         1250\n",
       "309       3         1201\n",
       "..      ...          ...\n",
       "81        1          973\n",
       "107       3          999\n",
       "366       3         1258\n",
       "414       1         1306\n",
       "297       3         1189\n",
       "\n",
       "[126 rows x 2 columns]"
      ]
     },
     "execution_count": 35,
     "metadata": {},
     "output_type": "execute_result"
    }
   ],
   "source": [
    "X_test"
   ]
  },
  {
   "cell_type": "code",
   "execution_count": 36,
   "id": "d67c6eab",
   "metadata": {},
   "outputs": [
    {
     "data": {
      "text/plain": [
       "360    0\n",
       "170    0\n",
       "224    1\n",
       "358    0\n",
       "309    1\n",
       "      ..\n",
       "81     0\n",
       "107    0\n",
       "366    0\n",
       "414    1\n",
       "297    0\n",
       "Name: Survived, Length: 126, dtype: int64"
      ]
     },
     "execution_count": 36,
     "metadata": {},
     "output_type": "execute_result"
    }
   ],
   "source": [
    "y_test"
   ]
  },
  {
   "cell_type": "code",
   "execution_count": 37,
   "id": "9c59ed07",
   "metadata": {},
   "outputs": [],
   "source": [
    "from sklearn.preprocessing import StandardScaler\n",
    "scaler = StandardScaler()\n",
    "\n",
    "scaler.fit(X_train)\n",
    "\n",
    "X_train_scaled = scaler.transform(X_train)\n",
    "X_test_scaled = scaler.transform(X_test)"
   ]
  },
  {
   "cell_type": "code",
   "execution_count": 38,
   "id": "77c51f94",
   "metadata": {},
   "outputs": [
    {
     "data": {
      "text/plain": [
       "array([[-1.57193764e+00, -9.67620448e-01],\n",
       "       [ 8.50256507e-01,  1.43375651e+00],\n",
       "       [-3.60840566e-01, -1.02660164e+00],\n",
       "       [ 8.50256507e-01,  1.86725671e-01],\n",
       "       [-1.57193764e+00, -1.67161460e-01],\n",
       "       [ 8.50256507e-01,  1.20625764e+00],\n",
       "       [ 8.50256507e-01,  3.55243352e-01],\n",
       "       [-1.57193764e+00, -1.00132398e+00],\n",
       "       [-1.57193764e+00,  2.45706859e-01],\n",
       "       [-3.60840566e-01, -1.41883808e-01],\n",
       "       [ 8.50256507e-01,  1.44218240e+00],\n",
       "       [ 8.50256507e-01, -4.36789751e-01],\n",
       "       [ 8.50256507e-01, -4.07731993e-02],\n",
       "       [ 8.50256507e-01, -1.22039697e+00],\n",
       "       [-1.57193764e+00,  1.01246231e+00],\n",
       "       [-3.60840566e-01, -3.01975606e-01],\n",
       "       [ 8.50256507e-01, -5.96881548e-01],\n",
       "       [-3.60840566e-01, -9.25491027e-01],\n",
       "       [-1.57193764e+00,  9.78758774e-01],\n",
       "       [-1.57193764e+00, -4.91990834e-02],\n",
       "       [-1.57193764e+00,  1.11357292e+00],\n",
       "       [ 8.50256507e-01, -1.63326529e+00],\n",
       "       [-1.57193764e+00, -5.46326244e-01],\n",
       "       [ 8.50256507e-01, -3.35679142e-01],\n",
       "       [-1.57193764e+00,  6.03374096e-02],\n",
       "       [-3.60840566e-01, -1.52372880e+00],\n",
       "       [-1.57193764e+00, -8.15954534e-01],\n",
       "       [-3.60840566e-01,  1.19783176e+00],\n",
       "       [ 8.50256507e-01, -9.08639259e-01],\n",
       "       [-1.57193764e+00, -1.25032040e-01],\n",
       "       [ 8.50256507e-01,  4.05798657e-01],\n",
       "       [-3.60840566e-01,  9.70332890e-01],\n",
       "       [ 8.50256507e-01, -7.99102766e-01],\n",
       "       [ 8.50256507e-01,  1.14727646e+00],\n",
       "       [-3.60840566e-01, -7.65399230e-01],\n",
       "       [-1.57193764e+00,  1.68653304e+00],\n",
       "       [-1.57193764e+00, -8.32806302e-01],\n",
       "       [ 8.50256507e-01,  1.78299787e-01],\n",
       "       [ 8.50256507e-01, -6.30585085e-01],\n",
       "       [ 8.50256507e-01,  1.29894237e+00],\n",
       "       [ 8.50256507e-01, -7.14843925e-01],\n",
       "       [ 8.50256507e-01, -9.13285038e-02],\n",
       "       [-1.57193764e+00,  1.59384831e+00],\n",
       "       [-3.60840566e-01,  7.17556367e-01],\n",
       "       [ 8.50256507e-01, -6.55862737e-01],\n",
       "       [ 8.50256507e-01, -1.49845114e+00],\n",
       "       [-1.57193764e+00,  1.55171889e+00],\n",
       "       [-3.60840566e-01, -4.11512099e-01],\n",
       "       [-1.57193764e+00, -1.49002526e+00],\n",
       "       [-3.60840566e-01,  1.53022134e-01],\n",
       "       [ 8.50256507e-01, -9.59194564e-01],\n",
       "       [ 8.50256507e-01, -1.06030517e+00],\n",
       "       [-3.60840566e-01, -1.26252639e+00],\n",
       "       [ 8.50256507e-01, -3.69382678e-01],\n",
       "       [ 8.50256507e-01, -3.18827374e-01],\n",
       "       [ 8.50256507e-01,  8.10241092e-01],\n",
       "       [ 8.50256507e-01,  1.66125538e+00],\n",
       "       [ 8.50256507e-01,  1.66968127e+00],\n",
       "       [-3.60840566e-01,  3.04688048e-01],\n",
       "       [-1.57193764e+00,  1.69873903e-01],\n",
       "       [ 8.50256507e-01, -8.66509839e-01],\n",
       "       [ 8.50256507e-01,  9.19777585e-01],\n",
       "       [-1.57193764e+00, -1.38891465e+00],\n",
       "       [ 8.50256507e-01,  1.54329301e+00],\n",
       "       [ 8.50256507e-01,  1.10514703e+00],\n",
       "       [-3.60840566e-01,  2.54132743e-01],\n",
       "       [-1.57193764e+00, -1.16141578e+00],\n",
       "       [-3.60840566e-01, -6.22159200e-01],\n",
       "       [ 8.50256507e-01,  1.57699654e+00],\n",
       "       [ 8.50256507e-01,  8.56150618e-02],\n",
       "       [ 8.50256507e-01,  1.19318598e-01],\n",
       "       [ 8.50256507e-01, -1.53215468e+00],\n",
       "       [-1.57193764e+00, -2.51420301e-01],\n",
       "       [ 8.50256507e-01,  7.76537556e-01],\n",
       "       [ 8.50256507e-01,  1.42533063e+00],\n",
       "       [-3.60840566e-01, -1.34678523e+00],\n",
       "       [ 8.50256507e-01,  1.13042469e+00],\n",
       "       [-3.60840566e-01,  1.33264590e+00],\n",
       "       [ 8.50256507e-01, -1.54900645e+00],\n",
       "       [-3.60840566e-01, -1.75965355e+00],\n",
       "       [-1.57193764e+00,  1.95151555e-01],\n",
       "       [-1.57193764e+00, -4.62067403e-01],\n",
       "       [ 8.50256507e-01,  9.02925817e-01],\n",
       "       [-3.60840566e-01,  1.53486712e+00],\n",
       "       [-3.60840566e-01,  2.28855091e-01],\n",
       "       [ 8.50256507e-01, -6.13733316e-01],\n",
       "       [-3.60840566e-01,  9.78210514e-03],\n",
       "       [ 8.50256507e-01,  3.72095120e-01],\n",
       "       [-1.57193764e+00,  2.12003323e-01],\n",
       "       [ 8.50256507e-01,  6.58575179e-01],\n",
       "       [-1.57193764e+00,  6.92278715e-01],\n",
       "       [-1.57193764e+00,  3.50597574e-02],\n",
       "       [ 8.50256507e-01,  1.70338480e+00],\n",
       "       [-3.60840566e-01, -1.84013229e-01],\n",
       "       [ 8.50256507e-01,  2.66338733e-02],\n",
       "       [ 8.50256507e-01, -1.48159938e+00],\n",
       "       [-3.60840566e-01, -5.76249675e-02],\n",
       "       [-3.60840566e-01,  5.65890454e-01],\n",
       "       [ 8.50256507e-01, -7.06966301e-03],\n",
       "       [-1.57193764e+00, -1.21197109e+00],\n",
       "       [-1.57193764e+00, -1.57428410e+00],\n",
       "       [ 8.50256507e-01,  5.91168106e-01],\n",
       "       [ 8.50256507e-01,  4.34856414e-02],\n",
       "       [-1.57193764e+00, -1.40576642e+00],\n",
       "       [-1.57193764e+00, -7.82250998e-01],\n",
       "       [ 8.50256507e-01,  1.02466830e-01],\n",
       "       [ 8.50256507e-01, -6.89566273e-01],\n",
       "       [ 8.50256507e-01, -9.92898100e-01],\n",
       "       [ 8.50256507e-01, -8.41232186e-01],\n",
       "       [-1.57193764e+00, -3.77808562e-01],\n",
       "       [-3.60840566e-01,  9.11351701e-01],\n",
       "       [-3.60840566e-01,  1.00403643e+00],\n",
       "       [-3.60840566e-01,  1.40005298e+00],\n",
       "       [ 8.50256507e-01, -1.43946996e+00],\n",
       "       [ 8.50256507e-01, -1.62483941e+00],\n",
       "       [ 8.50256507e-01,  7.42834020e-01],\n",
       "       [ 8.50256507e-01, -1.11086048e+00],\n",
       "       [-3.60840566e-01,  1.08829527e+00],\n",
       "       [-3.60840566e-01,  4.47928077e-01],\n",
       "       [ 8.50256507e-01, -1.17826755e+00],\n",
       "       [-3.60840566e-01, -1.66696883e+00],\n",
       "       [-1.57193764e+00,  1.21468353e+00],\n",
       "       [-3.60840566e-01,  1.82079892e-02],\n",
       "       [-1.57193764e+00,  1.61912596e+00],\n",
       "       [ 8.50256507e-01,  1.12199880e+00],\n",
       "       [-1.57193764e+00,  3.46817468e-01],\n",
       "       [ 8.50256507e-01,  1.69495892e+00],\n",
       "       [ 8.50256507e-01,  1.44596250e-01],\n",
       "       [ 8.50256507e-01, -4.28363867e-01],\n",
       "       [ 8.50256507e-01, -9.00213375e-01],\n",
       "       [ 8.50256507e-01, -4.19937983e-01],\n",
       "       [ 8.50256507e-01, -1.07715694e+00],\n",
       "       [ 8.50256507e-01,  1.72023657e+00],\n",
       "       [ 8.50256507e-01,  1.52644124e+00],\n",
       "       [-3.60840566e-01, -8.49658071e-01],\n",
       "       [-3.60840566e-01, -5.21048592e-01],\n",
       "       [ 8.50256507e-01, -4.95770939e-01],\n",
       "       [-3.60840566e-01, -1.64169117e+00],\n",
       "       [ 8.50256507e-01,  6.08019874e-01],\n",
       "       [-3.60840566e-01, -8.58083955e-01],\n",
       "       [ 8.50256507e-01,  7.00704599e-01],\n",
       "       [ 8.50256507e-01, -6.05307432e-01],\n",
       "       [ 8.50256507e-01,  2.20429207e-01],\n",
       "       [ 8.50256507e-01,  4.14224541e-01],\n",
       "       [ 8.50256507e-01,  7.51259904e-01],\n",
       "       [-3.60840566e-01,  1.05459173e+00],\n",
       "       [-3.60840566e-01,  3.13113932e-01],\n",
       "       [ 8.50256507e-01,  1.09672115e+00],\n",
       "       [ 8.50256507e-01, -1.61641352e+00],\n",
       "       [ 8.50256507e-01,  4.90057497e-01],\n",
       "       [ 8.50256507e-01,  1.27744482e-01],\n",
       "       [-3.60840566e-01,  9.36629353e-01],\n",
       "       [ 8.50256507e-01, -1.75122767e+00],\n",
       "       [-3.60840566e-01,  1.18097999e+00],\n",
       "       [ 8.50256507e-01, -7.23269809e-01],\n",
       "       [ 8.50256507e-01,  5.82742222e-01],\n",
       "       [-1.57193764e+00, -1.12771225e+00],\n",
       "       [-1.57193764e+00, -2.26142649e-01],\n",
       "       [-1.57193764e+00,  8.86074049e-01],\n",
       "       [-3.60840566e-01,  1.60227420e+00],\n",
       "       [-3.60840566e-01,  5.40612802e-01],\n",
       "       [ 8.50256507e-01,  1.28209060e+00],\n",
       "       [-1.57193764e+00, -2.42994417e-01],\n",
       "       [-3.60840566e-01,  1.36634944e+00],\n",
       "       [ 8.50256507e-01, -1.10243459e+00],\n",
       "       [-3.60840566e-01,  3.97372773e-01],\n",
       "       [-1.57193764e+00, -1.68382059e+00],\n",
       "       [ 8.50256507e-01,  8.60796397e-01],\n",
       "       [ 8.50256507e-01, -1.05187929e+00],\n",
       "       [-1.57193764e+00,  4.64779845e-01],\n",
       "       [ 8.50256507e-01, -1.47317349e+00],\n",
       "       [ 8.50256507e-01,  1.58542243e+00],\n",
       "       [ 8.50256507e-01, -1.28780404e+00],\n",
       "       [-1.57193764e+00, -1.43104407e+00],\n",
       "       [-1.57193764e+00,  4.98483382e-01],\n",
       "       [-1.57193764e+00, -1.35521112e+00],\n",
       "       [ 8.50256507e-01, -1.54955471e-02],\n",
       "       [-1.57193764e+00,  1.51801535e+00],\n",
       "       [ 8.50256507e-01,  1.02088819e+00],\n",
       "       [-3.60840566e-01,  1.15570234e+00],\n",
       "       [ 8.50256507e-01, -7.40121578e-01],\n",
       "       [-3.60840566e-01,  9.40409459e-02],\n",
       "       [ 8.50256507e-01, -1.25410051e+00],\n",
       "       [-3.60840566e-01,  8.94499933e-01],\n",
       "       [ 8.50256507e-01, -6.81140389e-01],\n",
       "       [ 8.50256507e-01, -2.00864997e-01],\n",
       "       [-1.57193764e+00, -1.58270999e+00],\n",
       "       [-3.60840566e-01, -1.41419230e+00],\n",
       "       [ 8.50256507e-01, -1.77650532e+00],\n",
       "       [ 8.50256507e-01, -8.29026197e-02],\n",
       "       [-1.57193764e+00,  1.22310941e+00],\n",
       "       [ 8.50256507e-01, -9.50768679e-01],\n",
       "       [ 8.50256507e-01,  7.84963440e-01],\n",
       "       [-3.60840566e-01,  1.63597773e+00],\n",
       "       [-3.60840566e-01, -2.76697953e-01],\n",
       "       [ 8.50256507e-01,  3.80521004e-01],\n",
       "       [-1.57193764e+00, -9.84472216e-01],\n",
       "       [ 8.50256507e-01,  1.47588593e+00],\n",
       "       [ 8.50256507e-01, -9.76046332e-01],\n",
       "       [-1.57193764e+00,  1.32422002e+00],\n",
       "       [ 8.50256507e-01, -3.52530910e-01],\n",
       "       [-1.57193764e+00, -1.19511932e+00],\n",
       "       [-1.57193764e+00,  7.93389324e-01],\n",
       "       [-1.57193764e+00, -1.37206288e+00],\n",
       "       [-3.60840566e-01, -3.23473152e-02],\n",
       "       [-3.60840566e-01,  5.74316338e-01],\n",
       "       [ 8.50256507e-01,  1.36170366e-01],\n",
       "       [-1.57193764e+00, -5.29474476e-01],\n",
       "       [-3.60840566e-01, -5.71603896e-01],\n",
       "       [ 8.50256507e-01,  1.03773996e+00],\n",
       "       [-3.60840566e-01, -2.59846185e-01],\n",
       "       [-1.57193764e+00, -6.72714505e-01],\n",
       "       [-1.57193764e+00,  1.37477533e+00],\n",
       "       [ 8.50256507e-01,  1.72866246e+00],\n",
       "       [-3.60840566e-01,  4.31076309e-01],\n",
       "       [-1.57193764e+00,  9.53481122e-01],\n",
       "       [-3.60840566e-01, -6.60508515e-02],\n",
       "       [-3.60840566e-01, -1.06873106e+00],\n",
       "       [ 8.50256507e-01, -7.56973346e-01],\n",
       "       [-3.60840566e-01,  1.27366472e+00],\n",
       "       [ 8.50256507e-01,  1.45060828e+00],\n",
       "       [ 8.50256507e-01, -1.00974987e+00],\n",
       "       [-1.57193764e+00, -1.08558282e+00],\n",
       "       [ 8.50256507e-01,  4.73205729e-01],\n",
       "       [-3.60840566e-01, -7.73825114e-01],\n",
       "       [ 8.50256507e-01,  6.75426947e-01],\n",
       "       [ 8.50256507e-01, -1.29622993e+00],\n",
       "       [ 8.50256507e-01,  9.28203469e-01],\n",
       "       [ 8.50256507e-01,  3.88946889e-01],\n",
       "       [-1.57193764e+00,  1.35792356e+00],\n",
       "       [ 8.50256507e-01, -1.42261819e+00],\n",
       "       [ 8.50256507e-01, -8.91787491e-01],\n",
       "       [-3.60840566e-01,  1.46746005e+00],\n",
       "       [ 8.50256507e-01,  5.23761034e-01],\n",
       "       [-3.60840566e-01,  1.34107179e+00],\n",
       "       [ 8.50256507e-01, -1.45632172e+00],\n",
       "       [-1.57193764e+00, -1.32993346e+00],\n",
       "       [-1.57193764e+00,  1.29051648e+00],\n",
       "       [-3.60840566e-01, -6.97992157e-01],\n",
       "       [-1.57193764e+00,  6.67001063e-01],\n",
       "       [-1.57193764e+00, -1.54058056e+00],\n",
       "       [ 8.50256507e-01, -2.34568533e-01],\n",
       "       [ 8.50256507e-01, -4.03086215e-01],\n",
       "       [ 8.50256507e-01, -5.04196823e-01],\n",
       "       [ 8.50256507e-01,  2.79410396e-01],\n",
       "       [-1.57193764e+00, -7.44767356e-02],\n",
       "       [-3.60840566e-01, -1.51530291e+00],\n",
       "       [ 8.50256507e-01, -1.50687703e+00],\n",
       "       [ 8.50256507e-01, -7.06418041e-01],\n",
       "       [-3.60840566e-01, -2.17716765e-01],\n",
       "       [ 8.50256507e-01,  1.50116359e+00],\n",
       "       [ 8.50256507e-01,  6.50149295e-01],\n",
       "       [ 8.50256507e-01,  1.41690475e+00],\n",
       "       [ 8.50256507e-01, -5.37900360e-01],\n",
       "       [ 8.50256507e-01,  6.24871643e-01],\n",
       "       [-3.60840566e-01,  1.48431182e+00],\n",
       "       [-1.57193764e+00, -2.85123837e-01],\n",
       "       [ 8.50256507e-01, -9.42342795e-01],\n",
       "       [-3.60840566e-01,  1.07144350e+00],\n",
       "       [-1.57193764e+00,  1.04616585e+00],\n",
       "       [ 8.50256507e-01, -1.16606156e-01],\n",
       "       [ 8.50256507e-01,  2.70984511e-01],\n",
       "       [ 8.50256507e-01, -8.07528650e-01],\n",
       "       [ 8.50256507e-01,  4.56353961e-01],\n",
       "       [ 8.50256507e-01, -1.16984167e+00],\n",
       "       [ 8.50256507e-01,  1.02931408e+00],\n",
       "       [ 8.50256507e-01, -1.56585822e+00],\n",
       "       [ 8.50256507e-01, -3.86234446e-01],\n",
       "       [ 8.50256507e-01,  1.06301761e+00],\n",
       "       [-1.57193764e+00,  1.61070008e+00],\n",
       "       [ 8.50256507e-01, -3.10401490e-01],\n",
       "       [-1.57193764e+00,  1.62755185e+00],\n",
       "       [ 8.50256507e-01, -1.44789584e+00],\n",
       "       [-3.60840566e-01, -1.50309692e-01],\n",
       "       [-1.57193764e+00,  8.69222281e-01],\n",
       "       [ 8.50256507e-01,  1.56014477e+00],\n",
       "       [ 8.50256507e-01, -1.03502752e+00],\n",
       "       [ 8.50256507e-01, -1.18669343e+00],\n",
       "       [ 8.50256507e-01, -1.04345340e+00],\n",
       "       [ 8.50256507e-01,  6.83852831e-01],\n",
       "       [-1.57193764e+00,  2.62558627e-01],\n",
       "       [-3.60840566e-01,  5.57464570e-01],\n",
       "       [ 8.50256507e-01,  1.35622107e-03],\n",
       "       [ 8.50256507e-01, -1.70067236e+00],\n",
       "       [ 8.50256507e-01,  1.24838706e+00],\n",
       "       [ 8.50256507e-01, -1.33457924e-01],\n",
       "       [ 8.50256507e-01,  3.38391584e-01],\n",
       "       [-1.57193764e+00,  9.45055237e-01],\n",
       "       [ 8.50256507e-01, -1.58735576e-01],\n",
       "       [ 8.50256507e-01, -7.90676882e-01],\n",
       "       [ 8.50256507e-01, -1.38048877e+00],\n",
       "       [ 8.50256507e-01, -3.27253258e-01]])"
      ]
     },
     "execution_count": 38,
     "metadata": {},
     "output_type": "execute_result"
    }
   ],
   "source": [
    "X_train_scaled"
   ]
  },
  {
   "cell_type": "code",
   "execution_count": 39,
   "id": "9d6de114",
   "metadata": {},
   "outputs": [
    {
     "data": {
      "text/plain": [
       "array([[ 0.85025651,  1.25681295],\n",
       "       [ 0.85025651, -0.34410503],\n",
       "       [-1.57193764,  0.11089271],\n",
       "       [ 0.85025651,  1.23996118],\n",
       "       [ 0.85025651,  0.82709286],\n",
       "       [-1.57193764,  0.81866698],\n",
       "       [-1.57193764, -0.51262271],\n",
       "       [ 0.85025651, -1.69224648],\n",
       "       [ 0.85025651, -1.59956175],\n",
       "       [ 0.85025651,  0.42265042],\n",
       "       [-0.36084057,  1.16412822],\n",
       "       [-1.57193764, -1.27937816],\n",
       "       [-0.36084057,  1.64440362],\n",
       "       [-0.36084057, -0.10818027],\n",
       "       [-0.36084057,  1.18940588],\n",
       "       [ 0.85025651, -1.13613813],\n",
       "       [ 0.85025651,  1.39162709],\n",
       "       [-0.36084057, -0.39466033],\n",
       "       [-1.57193764, -1.67539471],\n",
       "       [ 0.85025651, -0.19243911],\n",
       "       [-0.36084057,  1.13885057],\n",
       "       [ 0.85025651, -1.46474761],\n",
       "       [-0.36084057,  1.45903417],\n",
       "       [-0.36084057, -1.32150758],\n",
       "       [ 0.85025651, -0.55475213],\n",
       "       [-1.57193764,  0.64172341],\n",
       "       [ 0.85025651, -0.09975439],\n",
       "       [ 0.85025651,  0.36366924],\n",
       "       [-1.57193764,  1.40847886],\n",
       "       [ 0.85025651,  0.83551874],\n",
       "       [-1.57193764,  1.38320121],\n",
       "       [-1.57193764,  0.23728098],\n",
       "       [ 0.85025651, -1.01817575],\n",
       "       [-0.36084057, -1.65011706],\n",
       "       [ 0.85025651,  1.67810715],\n",
       "       [ 0.85025651,  1.07986938],\n",
       "       [-0.36084057,  0.76811167],\n",
       "       [-1.57193764, -0.58845566],\n",
       "       [-1.57193764, -1.1529899 ],\n",
       "       [ 0.85025651,  0.32153982],\n",
       "       [-0.36084057,  1.26523883],\n",
       "       [-0.36084057, -1.11928636],\n",
       "       [ 0.85025651,  0.59959399],\n",
       "       [ 0.85025651,  1.31579414],\n",
       "       [-0.36084057,  0.75968579],\n",
       "       [ 0.85025651, -0.48734506],\n",
       "       [ 0.85025651,  0.06876329],\n",
       "       [ 0.85025651,  1.4927377 ],\n",
       "       [ 0.85025651, -1.27095227],\n",
       "       [-0.36084057,  0.99561054],\n",
       "       [ 0.85025651,  1.73708834],\n",
       "       [ 0.85025651, -1.72595001],\n",
       "       [ 0.85025651, -1.76807943],\n",
       "       [ 0.85025651,  0.85237051],\n",
       "       [-1.57193764, -0.56317801],\n",
       "       [-1.57193764,  0.51533515],\n",
       "       [ 0.85025651,  0.50690927],\n",
       "       [ 0.85025651, -0.66428862],\n",
       "       [ 0.85025651,  0.20357744],\n",
       "       [ 0.85025651,  0.63329753],\n",
       "       [-0.36084057, -0.17558734],\n",
       "       [-0.36084057, -1.22882285],\n",
       "       [-1.57193764, -0.26827207],\n",
       "       [ 0.85025651, -0.73169569],\n",
       "       [ 0.85025651, -0.64743685],\n",
       "       [-0.36084057, -0.20929088],\n",
       "       [ 0.85025651, -1.363637  ],\n",
       "       [-0.36084057, -1.33835935],\n",
       "       [-1.57193764, -1.55743233],\n",
       "       [ 0.85025651, -1.39734054],\n",
       "       [ 0.85025651, -0.63901097],\n",
       "       [ 0.85025651, -1.74280178],\n",
       "       [-0.36084057,  0.07718918],\n",
       "       [-1.57193764,  1.34949767],\n",
       "       [-1.57193764, -0.74854746],\n",
       "       [-0.36084057,  0.16144802],\n",
       "       [ 0.85025651, -1.7343759 ],\n",
       "       [-0.36084057, -0.29354972],\n",
       "       [ 0.85025651,  0.84394463],\n",
       "       [-1.57193764, -0.93391691],\n",
       "       [-0.36084057, -1.71752413],\n",
       "       [-1.57193764, -1.59113587],\n",
       "       [-1.57193764, -1.2035452 ],\n",
       "       [-0.36084057,  0.98718466],\n",
       "       [-1.57193764, -1.60798764],\n",
       "       [-1.57193764,  0.80181521],\n",
       "       [-1.57193764, -0.58002978],\n",
       "       [-1.57193764, -1.65854294],\n",
       "       [ 0.85025651,  0.61644576],\n",
       "       [ 0.85025651, -0.91706514],\n",
       "       [ 0.85025651,  0.48163161],\n",
       "       [ 0.85025651, -0.82438042],\n",
       "       [-1.57193764, -1.14456401],\n",
       "       [-1.57193764, -1.23724874],\n",
       "       [ 0.85025651, -1.31308169],\n",
       "       [-0.36084057,  0.3299657 ],\n",
       "       [-1.57193764,  1.17255411],\n",
       "       [-0.36084057,  0.29626216],\n",
       "       [ 0.85025651, -0.47891917],\n",
       "       [-1.57193764,  0.28783628],\n",
       "       [-1.57193764,  1.50958947],\n",
       "       [ 0.85025651,  0.53218692],\n",
       "       [-1.57193764,  0.05191153],\n",
       "       [-1.57193764,  1.56857066],\n",
       "       [ 0.85025651,  0.96190701],\n",
       "       [-1.57193764, -0.02392143],\n",
       "       [ 0.85025651, -1.30465581],\n",
       "       [ 0.85025651, -1.70909825],\n",
       "       [ 0.85025651,  0.87764816],\n",
       "       [ 0.85025651, -0.47049329],\n",
       "       [-1.57193764, -0.44521563],\n",
       "       [-0.36084057,  0.54903869],\n",
       "       [-1.57193764,  1.6528295 ],\n",
       "       [ 0.85025651, -0.45364152],\n",
       "       [ 0.85025651, -0.88336161],\n",
       "       [ 0.85025651,  0.43950219],\n",
       "       [ 0.85025651, -1.24567462],\n",
       "       [ 0.85025651,  0.70913048],\n",
       "       [-1.57193764, -0.36095679],\n",
       "       [-1.57193764,  0.73440814],\n",
       "       [ 0.85025651,  1.2315353 ],\n",
       "       [-1.57193764, -1.09400871],\n",
       "       [ 0.85025651, -0.87493572],\n",
       "       [ 0.85025651,  1.30736825],\n",
       "       [-1.57193764,  1.71181069],\n",
       "       [ 0.85025651,  0.72598225]])"
      ]
     },
     "execution_count": 39,
     "metadata": {},
     "output_type": "execute_result"
    }
   ],
   "source": [
    "X_test_scaled"
   ]
  },
  {
   "cell_type": "code",
   "execution_count": 40,
   "id": "029c6e9a",
   "metadata": {},
   "outputs": [
    {
     "data": {
      "text/plain": [
       "array([   2.29794521, 1102.8390411 ])"
      ]
     },
     "execution_count": 40,
     "metadata": {},
     "output_type": "execute_result"
    }
   ],
   "source": [
    "scaler.mean_"
   ]
  },
  {
   "cell_type": "code",
   "execution_count": 41,
   "id": "1a816a4b",
   "metadata": {},
   "outputs": [],
   "source": [
    "X_train_scaled = pd.DataFrame(X_train_scaled, columns=X_train.columns)\n",
    "X_test_scaled = pd.DataFrame(X_test_scaled, columns=X_test.columns)"
   ]
  },
  {
   "cell_type": "code",
   "execution_count": 42,
   "id": "98156208",
   "metadata": {},
   "outputs": [
    {
     "data": {
      "text/html": [
       "<div>\n",
       "<style scoped>\n",
       "    .dataframe tbody tr th:only-of-type {\n",
       "        vertical-align: middle;\n",
       "    }\n",
       "\n",
       "    .dataframe tbody tr th {\n",
       "        vertical-align: top;\n",
       "    }\n",
       "\n",
       "    .dataframe thead th {\n",
       "        text-align: right;\n",
       "    }\n",
       "</style>\n",
       "<table border=\"1\" class=\"dataframe\">\n",
       "  <thead>\n",
       "    <tr style=\"text-align: right;\">\n",
       "      <th></th>\n",
       "      <th>Pclass</th>\n",
       "      <th>PassengerId</th>\n",
       "    </tr>\n",
       "  </thead>\n",
       "  <tbody>\n",
       "    <tr>\n",
       "      <th>0</th>\n",
       "      <td>0.850257</td>\n",
       "      <td>1.256813</td>\n",
       "    </tr>\n",
       "    <tr>\n",
       "      <th>1</th>\n",
       "      <td>0.850257</td>\n",
       "      <td>-0.344105</td>\n",
       "    </tr>\n",
       "    <tr>\n",
       "      <th>2</th>\n",
       "      <td>-1.571938</td>\n",
       "      <td>0.110893</td>\n",
       "    </tr>\n",
       "    <tr>\n",
       "      <th>3</th>\n",
       "      <td>0.850257</td>\n",
       "      <td>1.239961</td>\n",
       "    </tr>\n",
       "    <tr>\n",
       "      <th>4</th>\n",
       "      <td>0.850257</td>\n",
       "      <td>0.827093</td>\n",
       "    </tr>\n",
       "    <tr>\n",
       "      <th>...</th>\n",
       "      <td>...</td>\n",
       "      <td>...</td>\n",
       "    </tr>\n",
       "    <tr>\n",
       "      <th>121</th>\n",
       "      <td>-1.571938</td>\n",
       "      <td>-1.094009</td>\n",
       "    </tr>\n",
       "    <tr>\n",
       "      <th>122</th>\n",
       "      <td>0.850257</td>\n",
       "      <td>-0.874936</td>\n",
       "    </tr>\n",
       "    <tr>\n",
       "      <th>123</th>\n",
       "      <td>0.850257</td>\n",
       "      <td>1.307368</td>\n",
       "    </tr>\n",
       "    <tr>\n",
       "      <th>124</th>\n",
       "      <td>-1.571938</td>\n",
       "      <td>1.711811</td>\n",
       "    </tr>\n",
       "    <tr>\n",
       "      <th>125</th>\n",
       "      <td>0.850257</td>\n",
       "      <td>0.725982</td>\n",
       "    </tr>\n",
       "  </tbody>\n",
       "</table>\n",
       "<p>126 rows × 2 columns</p>\n",
       "</div>"
      ],
      "text/plain": [
       "       Pclass  PassengerId\n",
       "0    0.850257     1.256813\n",
       "1    0.850257    -0.344105\n",
       "2   -1.571938     0.110893\n",
       "3    0.850257     1.239961\n",
       "4    0.850257     0.827093\n",
       "..        ...          ...\n",
       "121 -1.571938    -1.094009\n",
       "122  0.850257    -0.874936\n",
       "123  0.850257     1.307368\n",
       "124 -1.571938     1.711811\n",
       "125  0.850257     0.725982\n",
       "\n",
       "[126 rows x 2 columns]"
      ]
     },
     "execution_count": 42,
     "metadata": {},
     "output_type": "execute_result"
    }
   ],
   "source": [
    "X_test_scaled"
   ]
  },
  {
   "cell_type": "code",
   "execution_count": 43,
   "id": "eb1941f0",
   "metadata": {},
   "outputs": [
    {
     "data": {
      "text/html": [
       "<div>\n",
       "<style scoped>\n",
       "    .dataframe tbody tr th:only-of-type {\n",
       "        vertical-align: middle;\n",
       "    }\n",
       "\n",
       "    .dataframe tbody tr th {\n",
       "        vertical-align: top;\n",
       "    }\n",
       "\n",
       "    .dataframe thead th {\n",
       "        text-align: right;\n",
       "    }\n",
       "</style>\n",
       "<table border=\"1\" class=\"dataframe\">\n",
       "  <thead>\n",
       "    <tr style=\"text-align: right;\">\n",
       "      <th></th>\n",
       "      <th>Pclass</th>\n",
       "      <th>PassengerId</th>\n",
       "    </tr>\n",
       "  </thead>\n",
       "  <tbody>\n",
       "    <tr>\n",
       "      <th>0</th>\n",
       "      <td>-1.571938</td>\n",
       "      <td>-0.967620</td>\n",
       "    </tr>\n",
       "    <tr>\n",
       "      <th>1</th>\n",
       "      <td>0.850257</td>\n",
       "      <td>1.433757</td>\n",
       "    </tr>\n",
       "    <tr>\n",
       "      <th>2</th>\n",
       "      <td>-0.360841</td>\n",
       "      <td>-1.026602</td>\n",
       "    </tr>\n",
       "    <tr>\n",
       "      <th>3</th>\n",
       "      <td>0.850257</td>\n",
       "      <td>0.186726</td>\n",
       "    </tr>\n",
       "    <tr>\n",
       "      <th>4</th>\n",
       "      <td>-1.571938</td>\n",
       "      <td>-0.167161</td>\n",
       "    </tr>\n",
       "    <tr>\n",
       "      <th>...</th>\n",
       "      <td>...</td>\n",
       "      <td>...</td>\n",
       "    </tr>\n",
       "    <tr>\n",
       "      <th>287</th>\n",
       "      <td>-1.571938</td>\n",
       "      <td>0.945055</td>\n",
       "    </tr>\n",
       "    <tr>\n",
       "      <th>288</th>\n",
       "      <td>0.850257</td>\n",
       "      <td>-0.158736</td>\n",
       "    </tr>\n",
       "    <tr>\n",
       "      <th>289</th>\n",
       "      <td>0.850257</td>\n",
       "      <td>-0.790677</td>\n",
       "    </tr>\n",
       "    <tr>\n",
       "      <th>290</th>\n",
       "      <td>0.850257</td>\n",
       "      <td>-1.380489</td>\n",
       "    </tr>\n",
       "    <tr>\n",
       "      <th>291</th>\n",
       "      <td>0.850257</td>\n",
       "      <td>-0.327253</td>\n",
       "    </tr>\n",
       "  </tbody>\n",
       "</table>\n",
       "<p>292 rows × 2 columns</p>\n",
       "</div>"
      ],
      "text/plain": [
       "       Pclass  PassengerId\n",
       "0   -1.571938    -0.967620\n",
       "1    0.850257     1.433757\n",
       "2   -0.360841    -1.026602\n",
       "3    0.850257     0.186726\n",
       "4   -1.571938    -0.167161\n",
       "..        ...          ...\n",
       "287 -1.571938     0.945055\n",
       "288  0.850257    -0.158736\n",
       "289  0.850257    -0.790677\n",
       "290  0.850257    -1.380489\n",
       "291  0.850257    -0.327253\n",
       "\n",
       "[292 rows x 2 columns]"
      ]
     },
     "execution_count": 43,
     "metadata": {},
     "output_type": "execute_result"
    }
   ],
   "source": [
    "X_train_scaled"
   ]
  },
  {
   "cell_type": "code",
   "execution_count": 44,
   "id": "80aa0753",
   "metadata": {},
   "outputs": [
    {
     "data": {
      "text/html": [
       "<div>\n",
       "<style scoped>\n",
       "    .dataframe tbody tr th:only-of-type {\n",
       "        vertical-align: middle;\n",
       "    }\n",
       "\n",
       "    .dataframe tbody tr th {\n",
       "        vertical-align: top;\n",
       "    }\n",
       "\n",
       "    .dataframe thead th {\n",
       "        text-align: right;\n",
       "    }\n",
       "</style>\n",
       "<table border=\"1\" class=\"dataframe\">\n",
       "  <thead>\n",
       "    <tr style=\"text-align: right;\">\n",
       "      <th></th>\n",
       "      <th>Pclass</th>\n",
       "      <th>PassengerId</th>\n",
       "    </tr>\n",
       "  </thead>\n",
       "  <tbody>\n",
       "    <tr>\n",
       "      <th>count</th>\n",
       "      <td>292.0</td>\n",
       "      <td>292.0</td>\n",
       "    </tr>\n",
       "    <tr>\n",
       "      <th>mean</th>\n",
       "      <td>2.3</td>\n",
       "      <td>1102.8</td>\n",
       "    </tr>\n",
       "    <tr>\n",
       "      <th>std</th>\n",
       "      <td>0.8</td>\n",
       "      <td>118.9</td>\n",
       "    </tr>\n",
       "    <tr>\n",
       "      <th>min</th>\n",
       "      <td>1.0</td>\n",
       "      <td>892.0</td>\n",
       "    </tr>\n",
       "    <tr>\n",
       "      <th>25%</th>\n",
       "      <td>2.0</td>\n",
       "      <td>1001.8</td>\n",
       "    </tr>\n",
       "    <tr>\n",
       "      <th>50%</th>\n",
       "      <td>3.0</td>\n",
       "      <td>1101.5</td>\n",
       "    </tr>\n",
       "    <tr>\n",
       "      <th>75%</th>\n",
       "      <td>3.0</td>\n",
       "      <td>1209.2</td>\n",
       "    </tr>\n",
       "    <tr>\n",
       "      <th>max</th>\n",
       "      <td>3.0</td>\n",
       "      <td>1308.0</td>\n",
       "    </tr>\n",
       "  </tbody>\n",
       "</table>\n",
       "</div>"
      ],
      "text/plain": [
       "       Pclass  PassengerId\n",
       "count   292.0        292.0\n",
       "mean      2.3       1102.8\n",
       "std       0.8        118.9\n",
       "min       1.0        892.0\n",
       "25%       2.0       1001.8\n",
       "50%       3.0       1101.5\n",
       "75%       3.0       1209.2\n",
       "max       3.0       1308.0"
      ]
     },
     "execution_count": 44,
     "metadata": {},
     "output_type": "execute_result"
    }
   ],
   "source": [
    "np.round(X_train.describe(),1)"
   ]
  },
  {
   "cell_type": "code",
   "execution_count": 45,
   "id": "202b8f5d",
   "metadata": {},
   "outputs": [
    {
     "data": {
      "text/html": [
       "<div>\n",
       "<style scoped>\n",
       "    .dataframe tbody tr th:only-of-type {\n",
       "        vertical-align: middle;\n",
       "    }\n",
       "\n",
       "    .dataframe tbody tr th {\n",
       "        vertical-align: top;\n",
       "    }\n",
       "\n",
       "    .dataframe thead th {\n",
       "        text-align: right;\n",
       "    }\n",
       "</style>\n",
       "<table border=\"1\" class=\"dataframe\">\n",
       "  <thead>\n",
       "    <tr style=\"text-align: right;\">\n",
       "      <th></th>\n",
       "      <th>Pclass</th>\n",
       "      <th>PassengerId</th>\n",
       "    </tr>\n",
       "  </thead>\n",
       "  <tbody>\n",
       "    <tr>\n",
       "      <th>count</th>\n",
       "      <td>292.0</td>\n",
       "      <td>292.0</td>\n",
       "    </tr>\n",
       "    <tr>\n",
       "      <th>mean</th>\n",
       "      <td>-0.0</td>\n",
       "      <td>-0.0</td>\n",
       "    </tr>\n",
       "    <tr>\n",
       "      <th>std</th>\n",
       "      <td>1.0</td>\n",
       "      <td>1.0</td>\n",
       "    </tr>\n",
       "    <tr>\n",
       "      <th>min</th>\n",
       "      <td>-1.6</td>\n",
       "      <td>-1.8</td>\n",
       "    </tr>\n",
       "    <tr>\n",
       "      <th>25%</th>\n",
       "      <td>-0.4</td>\n",
       "      <td>-0.9</td>\n",
       "    </tr>\n",
       "    <tr>\n",
       "      <th>50%</th>\n",
       "      <td>0.9</td>\n",
       "      <td>-0.0</td>\n",
       "    </tr>\n",
       "    <tr>\n",
       "      <th>75%</th>\n",
       "      <td>0.9</td>\n",
       "      <td>0.9</td>\n",
       "    </tr>\n",
       "    <tr>\n",
       "      <th>max</th>\n",
       "      <td>0.9</td>\n",
       "      <td>1.7</td>\n",
       "    </tr>\n",
       "  </tbody>\n",
       "</table>\n",
       "</div>"
      ],
      "text/plain": [
       "       Pclass  PassengerId\n",
       "count   292.0        292.0\n",
       "mean     -0.0         -0.0\n",
       "std       1.0          1.0\n",
       "min      -1.6         -1.8\n",
       "25%      -0.4         -0.9\n",
       "50%       0.9         -0.0\n",
       "75%       0.9          0.9\n",
       "max       0.9          1.7"
      ]
     },
     "execution_count": 45,
     "metadata": {},
     "output_type": "execute_result"
    }
   ],
   "source": [
    "np.round(X_train_scaled.describe(),1)"
   ]
  },
  {
   "cell_type": "code",
   "execution_count": 46,
   "id": "06ec9421",
   "metadata": {},
   "outputs": [
    {
     "data": {
      "image/png": "[encoded data removed]",
      "text/plain": [
       "<Figure size 864x360 with 2 Axes>"
      ]
     },
     "metadata": {
      "needs_background": "light"
     },
     "output_type": "display_data"
    }
   ],
   "source": [
    "fig, (ax1, ax2) = plt.subplots(ncols=2, figsize=(12, 5))\n",
    "\n",
    "ax1.scatter(X_train['Pclass'], X_train['PassengerId'])\n",
    "ax1.set_title(\"Before Scaling\")\n",
    "ax2.scatter(X_train_scaled['Pclass'], X_train_scaled['PassengerId'],color='red')\n",
    "ax2.set_title(\"After Scaling\")\n",
    "plt.show()"
   ]
  },
  {
   "cell_type": "code",
   "execution_count": 47,
   "id": "dd1cbab9",
   "metadata": {},
   "outputs": [],
   "source": [
    "from sklearn.linear_model import LogisticRegression"
   ]
  },
  {
   "cell_type": "code",
   "execution_count": 48,
   "id": "3954e738",
   "metadata": {},
   "outputs": [],
   "source": [
    "lr = LogisticRegression()"
   ]
  },
  {
   "cell_type": "code",
   "execution_count": 49,
   "id": "93de2771",
   "metadata": {},
   "outputs": [],
   "source": [
    "lr_scaled = LogisticRegression()"
   ]
  },
  {
   "cell_type": "code",
   "execution_count": 50,
   "id": "67fef8db",
   "metadata": {},
   "outputs": [
    {
     "data": {
      "text/html": [
       "<style>#sk-container-id-2 {color: black;background-color: white;}#sk-container-id-2 pre{padding: 0;}#sk-container-id-2 div.sk-toggleable {background-color: white;}#sk-container-id-2 label.sk-toggleable__label {cursor: pointer;display: block;width: 100%;margin-bottom: 0;padding: 0.3em;box-sizing: border-box;text-align: center;}#sk-container-id-2 label.sk-toggleable__label-arrow:before {content: \"▸\";float: left;margin-right: 0.25em;color: #696969;}#sk-container-id-2 label.sk-toggleable__label-arrow:hover:before {color: black;}#sk-container-id-2 div.sk-estimator:hover label.sk-toggleable__label-arrow:before {color: black;}#sk-container-id-2 div.sk-toggleable__content {max-height: 0;max-width: 0;overflow: hidden;text-align: left;background-color: #f0f8ff;}#sk-container-id-2 div.sk-toggleable__content pre {margin: 0.2em;color: black;border-radius: 0.25em;background-color: #f0f8ff;}#sk-container-id-2 input.sk-toggleable__control:checked~div.sk-toggleable__content {max-height: 200px;max-width: 100%;overflow: auto;}#sk-container-id-2 input.sk-toggleable__control:checked~label.sk-toggleable__label-arrow:before {content: \"▾\";}#sk-container-id-2 div.sk-estimator input.sk-toggleable__control:checked~label.sk-toggleable__label {background-color: #d4ebff;}#sk-container-id-2 div.sk-label input.sk-toggleable__control:checked~label.sk-toggleable__label {background-color: #d4ebff;}#sk-container-id-2 input.sk-hidden--visually {border: 0;clip: rect(1px 1px 1px 1px);clip: rect(1px, 1px, 1px, 1px);height: 1px;margin: -1px;overflow: hidden;padding: 0;position: absolute;width: 1px;}#sk-container-id-2 div.sk-estimator {font-family: monospace;background-color: #f0f8ff;border: 1px dotted black;border-radius: 0.25em;box-sizing: border-box;margin-bottom: 0.5em;}#sk-container-id-2 div.sk-estimator:hover {background-color: #d4ebff;}#sk-container-id-2 div.sk-parallel-item::after {content: \"\";width: 100%;border-bottom: 1px solid gray;flex-grow: 1;}#sk-container-id-2 div.sk-label:hover label.sk-toggleable__label {background-color: #d4ebff;}#sk-container-id-2 div.sk-serial::before {content: \"\";position: absolute;border-left: 1px solid gray;box-sizing: border-box;top: 0;bottom: 0;left: 50%;z-index: 0;}#sk-container-id-2 div.sk-serial {display: flex;flex-direction: column;align-items: center;background-color: white;padding-right: 0.2em;padding-left: 0.2em;position: relative;}#sk-container-id-2 div.sk-item {position: relative;z-index: 1;}#sk-container-id-2 div.sk-parallel {display: flex;align-items: stretch;justify-content: center;background-color: white;position: relative;}#sk-container-id-2 div.sk-item::before, #sk-container-id-2 div.sk-parallel-item::before {content: \"\";position: absolute;border-left: 1px solid gray;box-sizing: border-box;top: 0;bottom: 0;left: 50%;z-index: -1;}#sk-container-id-2 div.sk-parallel-item {display: flex;flex-direction: column;z-index: 1;position: relative;background-color: white;}#sk-container-id-2 div.sk-parallel-item:first-child::after {align-self: flex-end;width: 50%;}#sk-container-id-2 div.sk-parallel-item:last-child::after {align-self: flex-start;width: 50%;}#sk-container-id-2 div.sk-parallel-item:only-child::after {width: 0;}#sk-container-id-2 div.sk-dashed-wrapped {border: 1px dashed gray;margin: 0 0.4em 0.5em 0.4em;box-sizing: border-box;padding-bottom: 0.4em;background-color: white;}#sk-container-id-2 div.sk-label label {font-family: monospace;font-weight: bold;display: inline-block;line-height: 1.2em;}#sk-container-id-2 div.sk-label-container {text-align: center;}#sk-container-id-2 div.sk-container {/* jupyter's `normalize.less` sets `[hidden] { display: none; }` but bootstrap.min.css set `[hidden] { display: none !important; }` so we also need the `!important` here to be able to override the default hidden behavior on the sphinx rendered scikit-learn.org. See: https://github.com/scikit-learn/scikit-learn/issues/21755 */display: inline-block !important;position: relative;}#sk-container-id-2 div.sk-text-repr-fallback {display: none;}</style><div id=\"sk-container-id-2\" class=\"sk-top-container\"><div class=\"sk-text-repr-fallback\"><pre>LogisticRegression()</pre><b>In a Jupyter environment, please rerun this cell to show the HTML representation or trust the notebook. <br />On GitHub, the HTML representation is unable to render, please try loading this page with nbviewer.org.</b></div><div class=\"sk-container\" hidden><div class=\"sk-item\"><div class=\"sk-estimator sk-toggleable\"><input class=\"sk-toggleable__control sk-hidden--visually\" id=\"sk-estimator-id-2\" type=\"checkbox\" checked><label for=\"sk-estimator-id-2\" class=\"sk-toggleable__label sk-toggleable__label-arrow\">LogisticRegression</label><div class=\"sk-toggleable__content\"><pre>LogisticRegression()</pre></div></div></div></div></div>"
      ],
      "text/plain": [
       "LogisticRegression()"
      ]
     },
     "execution_count": 50,
     "metadata": {},
     "output_type": "execute_result"
    }
   ],
   "source": [
    "lr.fit(X_train,y_train)\n",
    "lr_scaled.fit(X_train_scaled,y_train)"
   ]
  },
  {
   "cell_type": "code",
   "execution_count": 51,
   "id": "27bfc69a",
   "metadata": {},
   "outputs": [],
   "source": [
    "#print(classifier.predict(sc.transform([[19,19000]])))"
   ]
  },
  {
   "cell_type": "code",
   "execution_count": 52,
   "id": "4a830f5a",
   "metadata": {},
   "outputs": [],
   "source": [
    "y_pred = lr.predict(X_test)\n",
    "y_pred_scaled = lr_scaled.predict(X_test_scaled)"
   ]
  },
  {
   "cell_type": "code",
   "execution_count": 53,
   "id": "1dce13f5",
   "metadata": {},
   "outputs": [],
   "source": [
    "from sklearn.metrics import accuracy_score"
   ]
  },
  {
   "cell_type": "code",
   "execution_count": 54,
   "id": "73a654bd",
   "metadata": {},
   "outputs": [
    {
     "name": "stdout",
     "output_type": "stream",
     "text": [
      "Actual 0.5634920634920635\n",
      "Scaled 0.5634920634920635\n"
     ]
    }
   ],
   "source": [
    "print('Actual', accuracy_score(y_test,y_pred))\n",
    "print('Scaled', accuracy_score(y_test,y_pred_scaled))"
   ]
  },
  {
   "cell_type": "code",
   "execution_count": 55,
   "id": "b675826c",
   "metadata": {},
   "outputs": [],
   "source": [
    "from sklearn.tree import DecisionTreeClassifier"
   ]
  },
  {
   "cell_type": "code",
   "execution_count": 56,
   "id": "8fc5d64d",
   "metadata": {},
   "outputs": [],
   "source": [
    "dt = DecisionTreeClassifier()\n",
    "dt_scaled = DecisionTreeClassifier()"
   ]
  },
  {
   "cell_type": "code",
   "execution_count": 57,
   "id": "7b6c1e8f",
   "metadata": {},
   "outputs": [
    {
     "data": {
      "text/html": [
       "<style>#sk-container-id-3 {color: black;background-color: white;}#sk-container-id-3 pre{padding: 0;}#sk-container-id-3 div.sk-toggleable {background-color: white;}#sk-container-id-3 label.sk-toggleable__label {cursor: pointer;display: block;width: 100%;margin-bottom: 0;padding: 0.3em;box-sizing: border-box;text-align: center;}#sk-container-id-3 label.sk-toggleable__label-arrow:before {content: \"▸\";float: left;margin-right: 0.25em;color: #696969;}#sk-container-id-3 label.sk-toggleable__label-arrow:hover:before {color: black;}#sk-container-id-3 div.sk-estimator:hover label.sk-toggleable__label-arrow:before {color: black;}#sk-container-id-3 div.sk-toggleable__content {max-height: 0;max-width: 0;overflow: hidden;text-align: left;background-color: #f0f8ff;}#sk-container-id-3 div.sk-toggleable__content pre {margin: 0.2em;color: black;border-radius: 0.25em;background-color: #f0f8ff;}#sk-container-id-3 input.sk-toggleable__control:checked~div.sk-toggleable__content {max-height: 200px;max-width: 100%;overflow: auto;}#sk-container-id-3 input.sk-toggleable__control:checked~label.sk-toggleable__label-arrow:before {content: \"▾\";}#sk-container-id-3 div.sk-estimator input.sk-toggleable__control:checked~label.sk-toggleable__label {background-color: #d4ebff;}#sk-container-id-3 div.sk-label input.sk-toggleable__control:checked~label.sk-toggleable__label {background-color: #d4ebff;}#sk-container-id-3 input.sk-hidden--visually {border: 0;clip: rect(1px 1px 1px 1px);clip: rect(1px, 1px, 1px, 1px);height: 1px;margin: -1px;overflow: hidden;padding: 0;position: absolute;width: 1px;}#sk-container-id-3 div.sk-estimator {font-family: monospace;background-color: #f0f8ff;border: 1px dotted black;border-radius: 0.25em;box-sizing: border-box;margin-bottom: 0.5em;}#sk-container-id-3 div.sk-estimator:hover {background-color: #d4ebff;}#sk-container-id-3 div.sk-parallel-item::after {content: \"\";width: 100%;border-bottom: 1px solid gray;flex-grow: 1;}#sk-container-id-3 div.sk-label:hover label.sk-toggleable__label {background-color: #d4ebff;}#sk-container-id-3 div.sk-serial::before {content: \"\";position: absolute;border-left: 1px solid gray;box-sizing: border-box;top: 0;bottom: 0;left: 50%;z-index: 0;}#sk-container-id-3 div.sk-serial {display: flex;flex-direction: column;align-items: center;background-color: white;padding-right: 0.2em;padding-left: 0.2em;position: relative;}#sk-container-id-3 div.sk-item {position: relative;z-index: 1;}#sk-container-id-3 div.sk-parallel {display: flex;align-items: stretch;justify-content: center;background-color: white;position: relative;}#sk-container-id-3 div.sk-item::before, #sk-container-id-3 div.sk-parallel-item::before {content: \"\";position: absolute;border-left: 1px solid gray;box-sizing: border-box;top: 0;bottom: 0;left: 50%;z-index: -1;}#sk-container-id-3 div.sk-parallel-item {display: flex;flex-direction: column;z-index: 1;position: relative;background-color: white;}#sk-container-id-3 div.sk-parallel-item:first-child::after {align-self: flex-end;width: 50%;}#sk-container-id-3 div.sk-parallel-item:last-child::after {align-self: flex-start;width: 50%;}#sk-container-id-3 div.sk-parallel-item:only-child::after {width: 0;}#sk-container-id-3 div.sk-dashed-wrapped {border: 1px dashed gray;margin: 0 0.4em 0.5em 0.4em;box-sizing: border-box;padding-bottom: 0.4em;background-color: white;}#sk-container-id-3 div.sk-label label {font-family: monospace;font-weight: bold;display: inline-block;line-height: 1.2em;}#sk-container-id-3 div.sk-label-container {text-align: center;}#sk-container-id-3 div.sk-container {/* jupyter's `normalize.less` sets `[hidden] { display: none; }` but bootstrap.min.css set `[hidden] { display: none !important; }` so we also need the `!important` here to be able to override the default hidden behavior on the sphinx rendered scikit-learn.org. See: https://github.com/scikit-learn/scikit-learn/issues/21755 */display: inline-block !important;position: relative;}#sk-container-id-3 div.sk-text-repr-fallback {display: none;}</style><div id=\"sk-container-id-3\" class=\"sk-top-container\"><div class=\"sk-text-repr-fallback\"><pre>DecisionTreeClassifier()</pre><b>In a Jupyter environment, please rerun this cell to show the HTML representation or trust the notebook. <br />On GitHub, the HTML representation is unable to render, please try loading this page with nbviewer.org.</b></div><div class=\"sk-container\" hidden><div class=\"sk-item\"><div class=\"sk-estimator sk-toggleable\"><input class=\"sk-toggleable__control sk-hidden--visually\" id=\"sk-estimator-id-3\" type=\"checkbox\" checked><label for=\"sk-estimator-id-3\" class=\"sk-toggleable__label sk-toggleable__label-arrow\">DecisionTreeClassifier</label><div class=\"sk-toggleable__content\"><pre>DecisionTreeClassifier()</pre></div></div></div></div></div>"
      ],
      "text/plain": [
       "DecisionTreeClassifier()"
      ]
     },
     "execution_count": 57,
     "metadata": {},
     "output_type": "execute_result"
    }
   ],
   "source": [
    "dt.fit(X_train,y_train)\n",
    "dt_scaled.fit(X_train_scaled,y_train)"
   ]
  },
  {
   "cell_type": "code",
   "execution_count": 58,
   "id": "ffd1fe56",
   "metadata": {},
   "outputs": [],
   "source": [
    "y_pred = dt.predict(X_test)\n",
    "y_pred_scaled = dt_scaled.predict(X_test_scaled)"
   ]
  },
  {
   "cell_type": "code",
   "execution_count": 59,
   "id": "980679a1",
   "metadata": {},
   "outputs": [
    {
     "name": "stdout",
     "output_type": "stream",
     "text": [
      "Actual 0.5158730158730159\n",
      "Scaled 0.5238095238095238\n"
     ]
    }
   ],
   "source": [
    "print('Actual',accuracy_score(y_test,y_pred))\n",
    "print('Scaled',accuracy_score(y_test,y_pred_scaled))"
   ]
  },
  {
   "cell_type": "code",
   "execution_count": 60,
   "id": "76547198",
   "metadata": {},
   "outputs": [
    {
     "data": {
      "text/html": [
       "<div>\n",
       "<style scoped>\n",
       "    .dataframe tbody tr th:only-of-type {\n",
       "        vertical-align: middle;\n",
       "    }\n",
       "\n",
       "    .dataframe tbody tr th {\n",
       "        vertical-align: top;\n",
       "    }\n",
       "\n",
       "    .dataframe thead th {\n",
       "        text-align: right;\n",
       "    }\n",
       "</style>\n",
       "<table border=\"1\" class=\"dataframe\">\n",
       "  <thead>\n",
       "    <tr style=\"text-align: right;\">\n",
       "      <th></th>\n",
       "      <th>Pclass</th>\n",
       "      <th>PassengerId</th>\n",
       "    </tr>\n",
       "  </thead>\n",
       "  <tbody>\n",
       "    <tr>\n",
       "      <th>count</th>\n",
       "      <td>418.000000</td>\n",
       "      <td>418.000000</td>\n",
       "    </tr>\n",
       "    <tr>\n",
       "      <th>mean</th>\n",
       "      <td>2.265550</td>\n",
       "      <td>1100.500000</td>\n",
       "    </tr>\n",
       "    <tr>\n",
       "      <th>std</th>\n",
       "      <td>0.841838</td>\n",
       "      <td>120.810458</td>\n",
       "    </tr>\n",
       "    <tr>\n",
       "      <th>min</th>\n",
       "      <td>1.000000</td>\n",
       "      <td>892.000000</td>\n",
       "    </tr>\n",
       "    <tr>\n",
       "      <th>25%</th>\n",
       "      <td>1.000000</td>\n",
       "      <td>996.250000</td>\n",
       "    </tr>\n",
       "    <tr>\n",
       "      <th>50%</th>\n",
       "      <td>3.000000</td>\n",
       "      <td>1100.500000</td>\n",
       "    </tr>\n",
       "    <tr>\n",
       "      <th>75%</th>\n",
       "      <td>3.000000</td>\n",
       "      <td>1204.750000</td>\n",
       "    </tr>\n",
       "    <tr>\n",
       "      <th>max</th>\n",
       "      <td>3.000000</td>\n",
       "      <td>1309.000000</td>\n",
       "    </tr>\n",
       "  </tbody>\n",
       "</table>\n",
       "</div>"
      ],
      "text/plain": [
       "           Pclass  PassengerId\n",
       "count  418.000000   418.000000\n",
       "mean     2.265550  1100.500000\n",
       "std      0.841838   120.810458\n",
       "min      1.000000   892.000000\n",
       "25%      1.000000   996.250000\n",
       "50%      3.000000  1100.500000\n",
       "75%      3.000000  1204.750000\n",
       "max      3.000000  1309.000000"
      ]
     },
     "execution_count": 60,
     "metadata": {},
     "output_type": "execute_result"
    }
   ],
   "source": [
    "a.describe()"
   ]
  },
  {
   "cell_type": "code",
   "execution_count": 61,
   "id": "1d9945ae",
   "metadata": {},
   "outputs": [
    {
     "data": {
      "text/plain": [
       "<matplotlib.collections.PathCollection at 0x21da1da99a0>"
      ]
     },
     "execution_count": 61,
     "metadata": {},
     "output_type": "execute_result"
    },
    {
     "data": {
      "image/png": "[encoded data removed]",
      "text/plain": [
       "<Figure size 432x288 with 1 Axes>"
      ]
     },
     "metadata": {
      "needs_background": "light"
     },
     "output_type": "display_data"
    }
   ],
   "source": [
    "plt.scatter(a['Pclass'],a['PassengerId'])"
   ]
  },
  {
   "cell_type": "code",
   "execution_count": 62,
   "id": "48c8accf",
   "metadata": {},
   "outputs": [],
   "source": [
    "X_train_scaled = pd.DataFrame(X_train_scaled, columns=X_train.columns)\n",
    "X_test_scaled = pd.DataFrame(X_test_scaled, columns=X_test.columns)"
   ]
  },
  {
   "cell_type": "code",
   "execution_count": 63,
   "id": "97ace113",
   "metadata": {},
   "outputs": [
    {
     "data": {
      "image/png": "[encoded data removed]",
      "text/plain": [
       "<Figure size 864x360 with 2 Axes>"
      ]
     },
     "metadata": {
      "needs_background": "light"
     },
     "output_type": "display_data"
    }
   ],
   "source": [
    "fig, (ax1, ax2) = plt.subplots(ncols=2, figsize=(12, 5))\n",
    "\n",
    "ax1.scatter(X_train['Pclass'], X_train['PassengerId'])\n",
    "ax1.set_title(\"Before Scaling\")\n",
    "ax2.scatter(X_train_scaled['Pclass'], X_train_scaled['PassengerId'],color='red')\n",
    "ax2.set_title(\"After Scaling\")\n",
    "plt.show()"
   ]
  },
  {
   "cell_type": "code",
   "execution_count": 64,
   "id": "0a5a2e20",
   "metadata": {},
   "outputs": [
    {
     "data": {
      "text/html": [
       "<style>#sk-container-id-4 {color: black;background-color: white;}#sk-container-id-4 pre{padding: 0;}#sk-container-id-4 div.sk-toggleable {background-color: white;}#sk-container-id-4 label.sk-toggleable__label {cursor: pointer;display: block;width: 100%;margin-bottom: 0;padding: 0.3em;box-sizing: border-box;text-align: center;}#sk-container-id-4 label.sk-toggleable__label-arrow:before {content: \"▸\";float: left;margin-right: 0.25em;color: #696969;}#sk-container-id-4 label.sk-toggleable__label-arrow:hover:before {color: black;}#sk-container-id-4 div.sk-estimator:hover label.sk-toggleable__label-arrow:before {color: black;}#sk-container-id-4 div.sk-toggleable__content {max-height: 0;max-width: 0;overflow: hidden;text-align: left;background-color: #f0f8ff;}#sk-container-id-4 div.sk-toggleable__content pre {margin: 0.2em;color: black;border-radius: 0.25em;background-color: #f0f8ff;}#sk-container-id-4 input.sk-toggleable__control:checked~div.sk-toggleable__content {max-height: 200px;max-width: 100%;overflow: auto;}#sk-container-id-4 input.sk-toggleable__control:checked~label.sk-toggleable__label-arrow:before {content: \"▾\";}#sk-container-id-4 div.sk-estimator input.sk-toggleable__control:checked~label.sk-toggleable__label {background-color: #d4ebff;}#sk-container-id-4 div.sk-label input.sk-toggleable__control:checked~label.sk-toggleable__label {background-color: #d4ebff;}#sk-container-id-4 input.sk-hidden--visually {border: 0;clip: rect(1px 1px 1px 1px);clip: rect(1px, 1px, 1px, 1px);height: 1px;margin: -1px;overflow: hidden;padding: 0;position: absolute;width: 1px;}#sk-container-id-4 div.sk-estimator {font-family: monospace;background-color: #f0f8ff;border: 1px dotted black;border-radius: 0.25em;box-sizing: border-box;margin-bottom: 0.5em;}#sk-container-id-4 div.sk-estimator:hover {background-color: #d4ebff;}#sk-container-id-4 div.sk-parallel-item::after {content: \"\";width: 100%;border-bottom: 1px solid gray;flex-grow: 1;}#sk-container-id-4 div.sk-label:hover label.sk-toggleable__label {background-color: #d4ebff;}#sk-container-id-4 div.sk-serial::before {content: \"\";position: absolute;border-left: 1px solid gray;box-sizing: border-box;top: 0;bottom: 0;left: 50%;z-index: 0;}#sk-container-id-4 div.sk-serial {display: flex;flex-direction: column;align-items: center;background-color: white;padding-right: 0.2em;padding-left: 0.2em;position: relative;}#sk-container-id-4 div.sk-item {position: relative;z-index: 1;}#sk-container-id-4 div.sk-parallel {display: flex;align-items: stretch;justify-content: center;background-color: white;position: relative;}#sk-container-id-4 div.sk-item::before, #sk-container-id-4 div.sk-parallel-item::before {content: \"\";position: absolute;border-left: 1px solid gray;box-sizing: border-box;top: 0;bottom: 0;left: 50%;z-index: -1;}#sk-container-id-4 div.sk-parallel-item {display: flex;flex-direction: column;z-index: 1;position: relative;background-color: white;}#sk-container-id-4 div.sk-parallel-item:first-child::after {align-self: flex-end;width: 50%;}#sk-container-id-4 div.sk-parallel-item:last-child::after {align-self: flex-start;width: 50%;}#sk-container-id-4 div.sk-parallel-item:only-child::after {width: 0;}#sk-container-id-4 div.sk-dashed-wrapped {border: 1px dashed gray;margin: 0 0.4em 0.5em 0.4em;box-sizing: border-box;padding-bottom: 0.4em;background-color: white;}#sk-container-id-4 div.sk-label label {font-family: monospace;font-weight: bold;display: inline-block;line-height: 1.2em;}#sk-container-id-4 div.sk-label-container {text-align: center;}#sk-container-id-4 div.sk-container {/* jupyter's `normalize.less` sets `[hidden] { display: none; }` but bootstrap.min.css set `[hidden] { display: none !important; }` so we also need the `!important` here to be able to override the default hidden behavior on the sphinx rendered scikit-learn.org. See: https://github.com/scikit-learn/scikit-learn/issues/21755 */display: inline-block !important;position: relative;}#sk-container-id-4 div.sk-text-repr-fallback {display: none;}</style><div id=\"sk-container-id-4\" class=\"sk-top-container\"><div class=\"sk-text-repr-fallback\"><pre>DecisionTreeClassifier(criterion=&#x27;entropy&#x27;, random_state=0)</pre><b>In a Jupyter environment, please rerun this cell to show the HTML representation or trust the notebook. <br />On GitHub, the HTML representation is unable to render, please try loading this page with nbviewer.org.</b></div><div class=\"sk-container\" hidden><div class=\"sk-item\"><div class=\"sk-estimator sk-toggleable\"><input class=\"sk-toggleable__control sk-hidden--visually\" id=\"sk-estimator-id-4\" type=\"checkbox\" checked><label for=\"sk-estimator-id-4\" class=\"sk-toggleable__label sk-toggleable__label-arrow\">DecisionTreeClassifier</label><div class=\"sk-toggleable__content\"><pre>DecisionTreeClassifier(criterion=&#x27;entropy&#x27;, random_state=0)</pre></div></div></div></div></div>"
      ],
      "text/plain": [
       "DecisionTreeClassifier(criterion='entropy', random_state=0)"
      ]
     },
     "execution_count": 64,
     "metadata": {},
     "output_type": "execute_result"
    }
   ],
   "source": [
    "from sklearn.tree import DecisionTreeClassifier\n",
    "classifier = DecisionTreeClassifier(criterion = 'entropy', random_state = 0)\n",
    "classifier.fit(X_train, y_train)"
   ]
  },
  {
   "cell_type": "code",
   "execution_count": 70,
   "id": "3e9747ce",
   "metadata": {},
   "outputs": [
    {
     "name": "stdout",
     "output_type": "stream",
     "text": [
      "[0]\n"
     ]
    },
    {
     "name": "stderr",
     "output_type": "stream",
     "text": [
      "C:\\Users\\HP\\anaconda3\\lib\\site-packages\\sklearn\\base.py:450: UserWarning: X does not have valid feature names, but StandardScaler was fitted with feature names\n",
      "  warnings.warn(\n",
      "C:\\Users\\HP\\anaconda3\\lib\\site-packages\\sklearn\\base.py:450: UserWarning: X does not have valid feature names, but DecisionTreeClassifier was fitted with feature names\n",
      "  warnings.warn(\n"
     ]
    }
   ],
   "source": [
    "print(classifier.predict(scaler.transform([[1,988]])))"
   ]
  },
  {
   "cell_type": "code",
   "execution_count": null,
   "id": "c4595169",
   "metadata": {},
   "outputs": [],
   "source": []
  }
 ],
 "metadata": {
  "kernelspec": {
   "display_name": "Python 3 (ipykernel)",
   "language": "python",
   "name": "python3"
  },
  "language_info": {
   "codemirror_mode": {
    "name": "ipython",
    "version": 3
   },
   "file_extension": ".py",
   "mimetype": "text/x-python",
   "name": "python",
   "nbconvert_exporter": "python",
   "pygments_lexer": "ipython3",
   "version": "3.9.12"
  }
 },
 "nbformat": 4,
 "nbformat_minor": 5
}
