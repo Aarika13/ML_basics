{
 "cells": [
  {
   "cell_type": "code",
   "execution_count": 40,
   "id": "bd950241",
   "metadata": {},
   "outputs": [
    {
     "name": "stdout",
     "output_type": "stream",
     "text": [
      "Enter the num:25\n",
      "The next 5 Perfect Squares are : \n",
      " 36\n",
      " 49\n",
      " 64\n",
      " 81\n",
      " 100\n"
     ]
    }
   ],
   "source": [
    "#Next 5 Perfect squares\n",
    "import math\n",
    "num = int(input(\"Enter the num:\"))\n",
    "min = int(math.pow(num,0.5))\n",
    "print(\"The next 5 Perfect Squares are : \")\n",
    "x = 0\n",
    "while (x<5):\n",
    "    min += 1\n",
    "    ans = int(math.pow(min,2))\n",
    "    \n",
    "    print(f\" {ans}\")\n",
    "    x+=1"
   ]
  },
  {
   "cell_type": "code",
   "execution_count": 39,
   "id": "7373ca4f",
   "metadata": {},
   "outputs": [
    {
     "name": "stdout",
     "output_type": "stream",
     "text": [
      "Enter the number: 15\n",
      "1 + 2 + 3 + 4 + 5 + \n",
      "4 + 5 + 6 + \n",
      "7 + 8 + \n"
     ]
    }
   ],
   "source": [
    "#to find consecutive series:\n",
    "def find_consecutive(N):\n",
    "    start = 1\n",
    "    end = 1\n",
    "    sum = 1\n",
    "     \n",
    "    while start <= N/2:\n",
    "         \n",
    "        if sum < N:\n",
    "            end += 1\n",
    "            sum += end\n",
    "         \n",
    "        if sum > N:\n",
    "            sum -= start\n",
    "            start += 1\n",
    "             \n",
    "        if sum == N:\n",
    "             \n",
    "            for i in range(start, end + 1):\n",
    "                print(i,\"+\", end=' ')\n",
    "            print( )\n",
    "            sum -= start\n",
    "            start += 1\n",
    "N = int(input(\"Enter the number: \"))\n",
    "find_consecutive(N)"
   ]
  },
  {
   "cell_type": "code",
   "execution_count": 6,
   "id": "dd994ff5",
   "metadata": {},
   "outputs": [
    {
     "name": "stdout",
     "output_type": "stream",
     "text": [
      "Enter the number:5\n",
      "The binary number is : 0b101\n",
      "The octal number is : 0o5\n",
      "The hexadecimal number is : 0x5\n"
     ]
    }
   ],
   "source": [
    "#octal,binary\n",
    "number = int(input(\"Enter the number:\"))\n",
    "\n",
    "print(\"The binary number is :\", bin(number))\n",
    "print(\"The octal number is :\", oct(number))\n",
    "print(\"The hexadecimal number is :\", hex(number))"
   ]
  },
  {
   "cell_type": "code",
   "execution_count": 7,
   "id": "5bab79ba",
   "metadata": {},
   "outputs": [
    {
     "name": "stdout",
     "output_type": "stream",
     "text": [
      "Enter the number 6\n",
      "1         1\n",
      "12       21\n",
      "123     321\n",
      "1234   4321\n",
      "12345 54321\n",
      "12345654321\n"
     ]
    }
   ],
   "source": [
    "# 1       1\n",
    "# 1 2   2  1\n",
    "# 123 321\n",
    "num = int(input(\"Enter the number \"))\n",
    "def fn(num):\n",
    "    for x in range(1,num+1):\n",
    "        for y in range(1,num+1):\n",
    "            if(y<=x):\n",
    "                print(f\"{y}\",end=\"\")\n",
    "            else:\n",
    "                print(\" \",end=\"\")\n",
    "        for y in reversed(range(1,num)):\n",
    "            if(y<=x):\n",
    "                print(f\"{y}\",end=\"\")\n",
    "            else:\n",
    "                print(\" \",end=\"\")\n",
    "                \n",
    "        print()\n",
    "fn(num)"
   ]
  },
  {
   "cell_type": "code",
   "execution_count": 8,
   "id": "4974a195",
   "metadata": {},
   "outputs": [
    {
     "name": "stdout",
     "output_type": "stream",
     "text": [
      "Enter the no. of rows7\n",
      "      A\n",
      "     ABA\n",
      "    ABCBA\n",
      "   ABCDCBA\n",
      "  ABCDEDCBA\n",
      " ABCDEFEDCBA\n",
      "ABCDEFGFEDCBA\n"
     ]
    }
   ],
   "source": [
    "def fn(n):\n",
    "    for x in range(0,n):\n",
    "        for y in range(n-1,x,-1):\n",
    "            print(\" \",end=\"\")\n",
    "        for z in range(x,-(x+1),-1):\n",
    "            print(chr(x-abs(z)+65),end=\"\")\n",
    "        print(\"\")\n",
    "        \n",
    "n = int(input(\"Enter the no. of rows: \"))\n",
    "fn(n)"
   ]
  },
  {
   "cell_type": "code",
   "execution_count": 6,
   "id": "092fa5d5",
   "metadata": {},
   "outputs": [
    {
     "name": "stdout",
     "output_type": "stream",
     "text": [
      "Enter a number: 5\n",
      "    0 \n",
      "   0 1 \n",
      "  0 1 1 \n",
      " 0 1 1 2 \n",
      "0 1 1 2 3 \n",
      " 0 1 1 2 \n",
      "  0 1 1 \n",
      "   0 1 \n",
      "    0 \n"
     ]
    }
   ],
   "source": [
    "#fIBONACCI WITH DIAMOND\n",
    "def fibonacci(n):\n",
    "    if n == 0:\n",
    "        return 0\n",
    "    elif n == 1:\n",
    "        return 1\n",
    "    else:\n",
    "        return (fibonacci(n-1) + fibonacci(n-2))\n",
    "    \n",
    "def diamond(n):\n",
    "    for i in range(n):\n",
    "        print(\" \"*(n-i-1),end=\"\")\n",
    "        for j in range(i+1):\n",
    "            print(fibonacci(j),end =\" \")\n",
    "        print()\n",
    "            \n",
    "    for i in range(n-1):\n",
    "        print(\" \"*(i+1),end=\"\")\n",
    "        for j in range(n-i-1):\n",
    "            print(fibonacci(j),end=\" \")\n",
    "        print()\n",
    "        \n",
    "diamond(n = int(input(\"Enter a number: \")))"
   ]
  },
  {
   "cell_type": "code",
   "execution_count": null,
   "id": "82824fd2",
   "metadata": {},
   "outputs": [],
   "source": []
  },
  {
   "cell_type": "code",
   "execution_count": null,
   "id": "e31bc478",
   "metadata": {},
   "outputs": [],
   "source": []
  },
  {
   "cell_type": "code",
   "execution_count": 14,
   "id": "bffb4277",
   "metadata": {},
   "outputs": [
    {
     "name": "stdout",
     "output_type": "stream",
     "text": [
      "[1, 2, 3, 7, 10, 14, 23, 44, 48, 57, 58, 65, 74]\n"
     ]
    }
   ],
   "source": [
    "# merge sort\n",
    "def merge_sort(list1, left_index, right_index):  \n",
    "    if left_index >= right_index:  \n",
    "        return  \n",
    "  \n",
    "    middle = (left_index + right_index)//2  \n",
    "    merge_sort(list1, left_index, middle)  \n",
    "    merge_sort(list1, middle + 1, right_index)  \n",
    "    merge(list1, left_index, right_index, middle)  \n",
    "    \n",
    "def merge(list1, left_index, right_index, middle):   \n",
    "    left_sublist = list1[left_index:middle + 1]  \n",
    "    right_sublist = list1[middle+1:right_index+1]  \n",
    "    left_sublist_index = 0  \n",
    "    right_sublist_index = 0  \n",
    "    sorted_index = left_index  \n",
    "    \n",
    "    while left_sublist_index < len(left_sublist) and right_sublist_index < len(right_sublist):   \n",
    "        if left_sublist[left_sublist_index] <= right_sublist[right_sublist_index]:  \n",
    "            list1[sorted_index] = left_sublist[left_sublist_index]  \n",
    "            left_sublist_index = left_sublist_index + 1  \n",
    "        else:  \n",
    "            list1[sorted_index] = right_sublist[right_sublist_index]  \n",
    "            right_sublist_index = right_sublist_index + 1  \n",
    "        sorted_index = sorted_index + 1    \n",
    "    while left_sublist_index < len(left_sublist):  \n",
    "        list1[sorted_index] = left_sublist[left_sublist_index]  \n",
    "        left_sublist_index = left_sublist_index + 1  \n",
    "        sorted_index = sorted_index + 1  \n",
    "  \n",
    "    while right_sublist_index < len(right_sublist):  \n",
    "        list1[sorted_index] = right_sublist[right_sublist_index]  \n",
    "        right_sublist_index = right_sublist_index + 1  \n",
    "        sorted_index = sorted_index + 1  \n",
    "  \n",
    "list1 = [44, 65, 2, 3, 58, 14, 57, 23, 10, 1, 7, 74, 48]  \n",
    "merge_sort(list1, 0, len(list1) -1)  \n",
    "print(list1)  "
   ]
  },
  {
   "cell_type": "code",
   "execution_count": 15,
   "id": "2b38f012",
   "metadata": {},
   "outputs": [
    {
     "name": "stdout",
     "output_type": "stream",
     "text": [
      "[9, 10, 12, 23, 34, 54, 56]\n"
     ]
    }
   ],
   "source": [
    "#insertion sort\n",
    "def insertion_sort(list):\n",
    "    for i in range(1,len(list)):\n",
    "        value = list[i]\n",
    "        j = i-1\n",
    "        while j>=0 and value<list[j]:\n",
    "            list[j+1] = list[j]\n",
    "            j-=1\n",
    "        list[j+1] = value\n",
    "    return list\n",
    "list = [12,56,9,23,34,54,10]\n",
    "insertion_sort(list)\n",
    "print(list)"
   ]
  },
  {
   "cell_type": "code",
   "execution_count": 16,
   "id": "b00d07ab",
   "metadata": {},
   "outputs": [
    {
     "name": "stdout",
     "output_type": "stream",
     "text": [
      "Stack Implementation\n",
      "1. Push \n",
      "2. Pop \n",
      "3. Peek \n",
      "4. Display \n",
      "5. Exit\n",
      "Enter the choice(1-5): 1\n",
      "Enter the item you want to push: 1\n",
      "1 item added successfully\n",
      "Press any key to continue..\n",
      "\n",
      "\n",
      "\n",
      "Stack Implementation\n",
      "1. Push \n",
      "2. Pop \n",
      "3. Peek \n",
      "4. Display \n",
      "5. Exit\n",
      "Enter the choice(1-5): 2\n",
      "1 item popped successfully\n",
      "Press any key to continue..\n",
      "\n",
      "\n",
      "\n",
      "Stack Implementation\n",
      "1. Push \n",
      "2. Pop \n",
      "3. Peek \n",
      "4. Display \n",
      "5. Exit\n",
      "Enter the choice(1-5): 2\n",
      "Stack is empty\n",
      "Press any key to continue..\n",
      "\n",
      "\n",
      "\n",
      "Stack Implementation\n",
      "1. Push \n",
      "2. Pop \n",
      "3. Peek \n",
      "4. Display \n",
      "5. Exit\n",
      "Enter the choice(1-5): 5\n",
      "You are exit now\n"
     ]
    }
   ],
   "source": [
    "#stack implementation\n",
    "S=[]\n",
    "top=None\n",
    "def isEmpty(stk):\n",
    "    if stk==[]:\n",
    "        return True\n",
    "    else:\n",
    "        return False\n",
    "\n",
    "def push(stk,item):\n",
    "    stk.append(item)\n",
    "    top = len(stk) - 1\n",
    "    \n",
    "def s_pop(stk):\n",
    "    if isEmpty(stk):\n",
    "        return('Underflow')\n",
    "    else:\n",
    "        i = stk.pop()\n",
    "        if (len(stk)==0):\n",
    "            top=0\n",
    "        else:\n",
    "            top = top - 1\n",
    "    return i\n",
    "\n",
    "def peek(stk):\n",
    "    if isEmpty(stk):\n",
    "        return('Underflow')\n",
    "    else:\n",
    "        top = len(stk) - 1\n",
    "        return stk[top]\n",
    "    \n",
    "def display(stk):\n",
    "    if isEmpty(stk):\n",
    "        print(\"Stack is empty\")\n",
    "    else:\n",
    "        top = len(stk) - 1\n",
    "        print(stk[top],'<----top')\n",
    "        for i in range(top-1,-1,-1):\n",
    "            print(stk[i])\n",
    "            \n",
    "while True:\n",
    "    print(\"Stack Implementation\")\n",
    "    print(\"1. Push \")\n",
    "    print(\"2. Pop \")\n",
    "    print(\"3. Peek \")\n",
    "    print(\"4. Display \")\n",
    "    print(\"5. Exit\")\n",
    "    \n",
    "    ch = int(input(\"Enter the choice(1-5): \"))\n",
    "    if(ch==1):\n",
    "        item = int(input(\"Enter the item you want to push: \"))\n",
    "        push(S,item)\n",
    "        print('%d item added successfully'%item)\n",
    "        input(\"Press any key to continue..\")\n",
    "        \n",
    "    elif(ch==2):\n",
    "        item = s_pop(S)\n",
    "        if (item=='Underflow'):\n",
    "            print(\"Stack is empty\")\n",
    "        else:\n",
    "            print('%d item popped successfully'%item)\n",
    "        input(\"Press any key to continue..\")\n",
    "       \n",
    "    elif ch==3:\n",
    "        item = peek(S)\n",
    "        if (item=='Underflow'):\n",
    "            print(\"Stack is empty\")\n",
    "        else:\n",
    "            print('%d is at the top successfully'%item)\n",
    "        input(\"Press any key to continue..\")\n",
    "        \n",
    "    elif ch==4:\n",
    "        display(S)\n",
    "        input(\"Press any key to continue..\")\n",
    "        \n",
    "    elif ch==5:\n",
    "        print(\"You are exit now\")\n",
    "        break\n",
    "    else:\n",
    "        print(\"Nothing can de done\")\n",
    "        input(\"press any key to continue\")\n",
    "    print(\"\\n\\n\")"
   ]
  },
  {
   "cell_type": "code",
   "execution_count": 12,
   "id": "6141c2df",
   "metadata": {},
   "outputs": [
    {
     "name": "stdout",
     "output_type": "stream",
     "text": [
      "Enter the number of row/column you want:5\n",
      "1\t2\t3\t4\t5\t\n",
      "16\t17\t18\t19\t6\t\n",
      "15\t24\t25\t20\t7\t\n",
      "14\t23\t22\t21\t8\t\n",
      "13\t12\t11\t10\t9\t\n"
     ]
    }
   ],
   "source": [
    "#n*n matrix pattern\n",
    "num = int(input(\"Enter the number of row/column you want:\"))\n",
    "n_list = [[0 for x in range(num)] for y in range(num)]\n",
    "n=1\n",
    "low=0\n",
    "high=num-1\n",
    "count = int((num+1)/2)\n",
    "for i in range(count):\n",
    "    for j in range(low,high+1):\n",
    "        n_list[i][j]=n\n",
    "        n=n+1\n",
    "    for j in range(low+1,high+1):\n",
    "        n_list[j][high]=n\n",
    "        n=n+1\n",
    "    for j in range(high-1,low-1,-1):\n",
    "        n_list[high][j]=n\n",
    "        n=n+1\n",
    "    for j in range(high-1,low,-1):\n",
    "        n_list[j][low]=n\n",
    "        n=n+1\n",
    "    low = low + 1\n",
    "    high = high -1\n",
    "        \n",
    "for i in range(0,num):\n",
    "    for j in range(0,num):\n",
    "        print(n_list[i][j],end=\"\\t\")\n",
    "    print()"
   ]
  },
  {
   "cell_type": "code",
   "execution_count": 50,
   "id": "fd74ae35",
   "metadata": {},
   "outputs": [
    {
     "name": "stdout",
     "output_type": "stream",
     "text": [
      "Enter the number of row/column you want:5\n",
      "5\t4\t3\t2\t1\t\n",
      "6\t19\t18\t17\t16\t\n",
      "7\t20\t25\t24\t15\t\n",
      "8\t21\t22\t23\t14\t\n",
      "9\t10\t11\t12\t13\t\n"
     ]
    }
   ],
   "source": [
    "num = int(input(\"Enter the number of row/column you want:\"))\n",
    "n_list = [[0 for x in range(num)] for y in range(num)]\n",
    "n=1\n",
    "low=0\n",
    "high=num-1\n",
    "count = int((num+1)/2)\n",
    "for i in range(num) :\n",
    "    for i in range(count):\n",
    "        for j in range(high,low-1,-1):\n",
    "            n_list[i][j]=n\n",
    "            n=n+1\n",
    "        for j in range(low+1,high+1):\n",
    "            n_list[j][low]=n\n",
    "            n=n+1\n",
    "        for j in range(low+1,high+1):\n",
    "            n_list[high][j]=n\n",
    "            n=n+1\n",
    "        for j in range(high-1,low,-1):\n",
    "            n_list[j][high]=n\n",
    "            n=n+1\n",
    "        low = low + 1\n",
    "        high = high -1\n",
    "    \n",
    "for i in range(0,num):\n",
    "    for j in range(0,num):\n",
    "        print(n_list[i][j],end=\"\\t\")\n",
    "    print()\n",
    "  "
   ]
  },
  {
   "cell_type": "code",
   "execution_count": 11,
   "id": "c99e3afa",
   "metadata": {},
   "outputs": [
    {
     "name": "stdout",
     "output_type": "stream",
     "text": [
      "Number: 9\n",
      "987654321\n",
      "11\n",
      "12\n",
      "13\n",
      "14\n",
      "15\n",
      "16\n",
      "17 18 19 20 21 22 23 24 25 "
     ]
    }
   ],
   "source": [
    "#C pattern of the numbers:\n",
    "n = int(input(\"Number: \"))\n",
    "for i in range(n,0,-1):\n",
    "    print(i,end=\"\")\n",
    "    if (i==1):\n",
    "        print(\"\")\n",
    "        for j in range(n+2,2*n-1):\n",
    "            print(j)\n",
    "            if (j==2*n-2):\n",
    "                for k in range(2*n-1,3*n-1):\n",
    "                    print(k,end=\" \")\n",
    "                    \n",
    "    "
   ]
  },
  {
   "cell_type": "code",
   "execution_count": 17,
   "id": "50708c4e",
   "metadata": {},
   "outputs": [
    {
     "name": "stdout",
     "output_type": "stream",
     "text": [
      "Enter the number:9\n",
      "1 2 4 8 15 26 42 64 93 "
     ]
    }
   ],
   "source": [
    "#cake\n",
    "n = int(input(\"Enter the number:\"))\n",
    "\n",
    "for i in range(n):\n",
    "    sum=1\n",
    "    count=1\n",
    "    for j in range(i):\n",
    "        sum+=j\n",
    "        count+=sum\n",
    "            \n",
    "    print(count,end=\" \")"
   ]
  },
  {
   "cell_type": "code",
   "execution_count": null,
   "id": "ee9abd30",
   "metadata": {},
   "outputs": [],
   "source": []
  }
 ],
 "metadata": {
  "kernelspec": {
   "display_name": "Python 3 (ipykernel)",
   "language": "python",
   "name": "python3"
  },
  "language_info": {
   "codemirror_mode": {
    "name": "ipython",
    "version": 3
   },
   "file_extension": ".py",
   "mimetype": "text/x-python",
   "name": "python",
   "nbconvert_exporter": "python",
   "pygments_lexer": "ipython3",
   "version": "3.11.1"
  }
 },
 "nbformat": 4,
 "nbformat_minor": 5
}
